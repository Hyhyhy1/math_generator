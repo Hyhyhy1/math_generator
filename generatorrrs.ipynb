{
 "cells": [
  {
   "cell_type": "code",
   "execution_count": 2,
   "metadata": {},
   "outputs": [],
   "source": [
    "import numpy as np\n",
    "import sympy as sp\n",
    "import scipy as sci"
   ]
  },
  {
   "cell_type": "code",
   "execution_count": 3,
   "metadata": {},
   "outputs": [
    {
     "data": {
      "text/plain": [
       "array([[2, 4, 0],\n",
       "       [7, 0, 6],\n",
       "       [8, 6, 9]])"
      ]
     },
     "execution_count": 3,
     "metadata": {},
     "output_type": "execute_result"
    }
   ],
   "source": [
    "matrix_size = 3\n",
    "matrix = np.random.randint(10, size=(matrix_size, matrix_size))\n",
    "matrix"
   ]
  },
  {
   "cell_type": "markdown",
   "metadata": {},
   "source": [
    "конвертация матрицы в для отправки"
   ]
  },
  {
   "cell_type": "code",
   "execution_count": 4,
   "metadata": {},
   "outputs": [
    {
     "data": {
      "text/plain": [
       "{'data': [[2, 4, 0], [7, 0, 6], [8, 6, 9]]}"
      ]
     },
     "execution_count": 4,
     "metadata": {},
     "output_type": "execute_result"
    }
   ],
   "source": [
    "dic = {\"data\": matrix.tolist()}\n",
    "dic"
   ]
  },
  {
   "cell_type": "markdown",
   "metadata": {},
   "source": [
    "конвертация массива в матрицу"
   ]
  },
  {
   "cell_type": "code",
   "execution_count": 5,
   "metadata": {},
   "outputs": [
    {
     "data": {
      "text/plain": [
       "matrix([[2, 4, 0],\n",
       "        [7, 0, 6],\n",
       "        [8, 6, 9]])"
      ]
     },
     "execution_count": 5,
     "metadata": {},
     "output_type": "execute_result"
    }
   ],
   "source": [
    "np.asmatrix(dic['data'])"
   ]
  },
  {
   "cell_type": "markdown",
   "metadata": {},
   "source": [
    "размер матрицы"
   ]
  },
  {
   "cell_type": "code",
   "execution_count": 6,
   "metadata": {},
   "outputs": [
    {
     "data": {
      "text/plain": [
       "True"
      ]
     },
     "execution_count": 6,
     "metadata": {},
     "output_type": "execute_result"
    }
   ],
   "source": [
    "matrix.shape == (matrix_size, matrix_size)"
   ]
  },
  {
   "cell_type": "markdown",
   "metadata": {},
   "source": [
    "определитель"
   ]
  },
  {
   "cell_type": "code",
   "execution_count": 7,
   "metadata": {},
   "outputs": [
    {
     "data": {
      "text/plain": [
       "(-132.0, -131.99999999999997)"
      ]
     },
     "execution_count": 7,
     "metadata": {},
     "output_type": "execute_result"
    }
   ],
   "source": [
    "np.around(np.linalg.det(matrix), ), np.linalg.det(matrix)"
   ]
  },
  {
   "cell_type": "markdown",
   "metadata": {},
   "source": [
    "транспонирование"
   ]
  },
  {
   "cell_type": "code",
   "execution_count": 8,
   "metadata": {},
   "outputs": [
    {
     "data": {
      "text/plain": [
       "array([[2, 7, 8],\n",
       "       [4, 0, 6],\n",
       "       [0, 6, 9]])"
      ]
     },
     "execution_count": 8,
     "metadata": {},
     "output_type": "execute_result"
    }
   ],
   "source": [
    "matrix.transpose()"
   ]
  },
  {
   "cell_type": "markdown",
   "metadata": {},
   "source": [
    "Ранг матрицы"
   ]
  },
  {
   "cell_type": "code",
   "execution_count": 9,
   "metadata": {},
   "outputs": [
    {
     "data": {
      "text/plain": [
       "3"
      ]
     },
     "execution_count": 9,
     "metadata": {},
     "output_type": "execute_result"
    }
   ],
   "source": [
    "np.linalg.matrix_rank(matrix)"
   ]
  },
  {
   "cell_type": "markdown",
   "metadata": {},
   "source": [
    "СЛУ"
   ]
  },
  {
   "cell_type": "code",
   "execution_count": 10,
   "metadata": {},
   "outputs": [],
   "source": [
    "def generate_SLU():\n",
    "  a = np.random.randint(-9, 10, size=(3, 3))\n",
    "  while (np.linalg.det(a) == 0):\n",
    "    a = np.random.randint(-9, 10, size=(3,3))\n",
    "\n",
    "  b = np.random.randint(1,10, size=(3, 1))\n",
    "  x = np.random.randint(10, size=(3, 1))\n",
    "\n",
    "  while((a.dot(x) != b).any()):\n",
    "    a = np.random.randint(-9, 10, size=(3, 3))\n",
    "    while (np.linalg.det(a) == 0):\n",
    "      a = np.random.randint(-9, 10, size=(3,3))\n",
    "\n",
    "    b = np.random.randint(1,10, size=(3, 1))\n",
    "    x = np.linalg.solve(a, b)\n",
    "  return (a,b,x)"
   ]
  },
  {
   "cell_type": "code",
   "execution_count": 17,
   "metadata": {},
   "outputs": [
    {
     "name": "stdout",
     "output_type": "stream",
     "text": [
      "CPU times: total: 0 ns\n",
      "Wall time: 0 ns\n",
      "Матрица A:\n",
      " [[-3 -9 -1]\n",
      " [-7 -9  0]\n",
      " [-4  6  0]]\n",
      "Вектор b:\n",
      " [[8]\n",
      " [5]\n",
      " [4]]\n",
      "Решение системы:\n",
      " [[-0.84615385]\n",
      " [ 0.1025641 ]\n",
      " [-6.38461538]]\n",
      "Решение системы:\n",
      " [[-0.846]\n",
      " [ 0.103]\n",
      " [-6.385]]\n",
      "[[ True]\n",
      " [ True]\n",
      " [ True]]\n",
      "CPU times: total: 0 ns\n",
      "Wall time: 0 ns\n"
     ]
    }
   ],
   "source": [
    "%time\n",
    "a,b,x = generate_SLU()\n",
    "\n",
    "print(\"Матрица A:\\n\", a)\n",
    "print(\"Вектор b:\\n\", b)\n",
    "print(\"Решение системы:\\n\", x)\n",
    "print(\"Решение системы:\\n\", np.around(x, 3))\n",
    "\n",
    "print(a.dot(x) == b)"
   ]
  },
  {
   "cell_type": "markdown",
   "metadata": {},
   "source": [
    "обратная матрица"
   ]
  },
  {
   "cell_type": "code",
   "execution_count": 124,
   "metadata": {},
   "outputs": [
    {
     "data": {
      "text/plain": [
       "array([[-2,  8,  0],\n",
       "       [ 9, -1,  9],\n",
       "       [-9, -2, -5]])"
      ]
     },
     "execution_count": 124,
     "metadata": {},
     "output_type": "execute_result"
    }
   ],
   "source": [
    "a = np.random.randint(-9, 10, size=(3,3))\n",
    "while (np.linalg.det(a) == 0):\n",
    "  a = np.random.randint(-9, 10, size=(3,3))\n",
    "a"
   ]
  },
  {
   "cell_type": "code",
   "execution_count": 125,
   "metadata": {},
   "outputs": [
    {
     "data": {
      "text/plain": [
       "array([[-0.069, -0.12 , -0.216],\n",
       "       [ 0.108, -0.03 , -0.054],\n",
       "       [ 0.081,  0.228,  0.21 ]])"
      ]
     },
     "execution_count": 125,
     "metadata": {},
     "output_type": "execute_result"
    }
   ],
   "source": [
    "InvA = np.around(np.linalg.inv(a), 3)\n",
    "InvA"
   ]
  },
  {
   "cell_type": "markdown",
   "metadata": {},
   "source": [
    "Сумма матриц"
   ]
  },
  {
   "cell_type": "code",
   "execution_count": 126,
   "metadata": {},
   "outputs": [
    {
     "data": {
      "text/plain": [
       "3"
      ]
     },
     "execution_count": 126,
     "metadata": {},
     "output_type": "execute_result"
    }
   ],
   "source": [
    "matrix = np.random.randint(10, size=(4, 4))\n",
    "row_count = matrix.shape[0]\n",
    "columns_count = matrix.shape[1]\n",
    "\n",
    "row_index = np.random.randint(0,row_count, size=(1,1))[0][0]\n",
    "column_index = np.random.randint(0,columns_count, size=(1,1))[0][0]\n",
    "answer = matrix[row_index][column_index]\n",
    "answer"
   ]
  },
  {
   "cell_type": "markdown",
   "metadata": {},
   "source": [
    "Умножение числа на матрицу"
   ]
  },
  {
   "cell_type": "code",
   "execution_count": 127,
   "metadata": {},
   "outputs": [
    {
     "data": {
      "text/plain": [
       "array([[36, 30,  0,  0],\n",
       "       [24,  0,  6,  6],\n",
       "       [48, 18, 36, 36],\n",
       "       [ 6, 24,  6, 24]])"
      ]
     },
     "execution_count": 127,
     "metadata": {},
     "output_type": "execute_result"
    }
   ],
   "source": [
    "matrix = np.random.randint(10, size=(4, 4))\n",
    "number = np.random.randint(1, 10, size=(1,1))[0][0]\n",
    "\n",
    "answer = matrix * number\n",
    "answer"
   ]
  }
 ],
 "metadata": {
  "kernelspec": {
   "display_name": "Python 3",
   "language": "python",
   "name": "python3"
  },
  "language_info": {
   "codemirror_mode": {
    "name": "ipython",
    "version": 3
   },
   "file_extension": ".py",
   "mimetype": "text/x-python",
   "name": "python",
   "nbconvert_exporter": "python",
   "pygments_lexer": "ipython3",
   "version": "3.10.7"
  }
 },
 "nbformat": 4,
 "nbformat_minor": 2
}
