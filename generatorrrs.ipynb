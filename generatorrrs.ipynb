{
 "cells": [
  {
   "cell_type": "code",
   "execution_count": 71,
   "metadata": {},
   "outputs": [],
   "source": [
    "import numpy as np\n",
    "import sympy as sp\n",
    "import scipy as sc\n",
    "from math import *\n",
    "from random import *"
   ]
  },
  {
   "cell_type": "markdown",
   "metadata": {},
   "source": [
    "конвертация матрицы в для отправки"
   ]
  },
  {
   "cell_type": "code",
   "execution_count": 15,
   "metadata": {},
   "outputs": [
    {
     "data": {
      "text/plain": [
       "{'data': [[-3, 9, 1], [-1, -2, -3]]}"
      ]
     },
     "execution_count": 15,
     "metadata": {},
     "output_type": "execute_result"
    }
   ],
   "source": [
    "matrix = np.random.randint(-3,10,size=(2,3))\n",
    "dic = {\"data\": matrix.tolist()}\n",
    "dic"
   ]
  },
  {
   "cell_type": "markdown",
   "metadata": {},
   "source": [
    "конвертация массива в матрицу"
   ]
  },
  {
   "cell_type": "code",
   "execution_count": 16,
   "metadata": {},
   "outputs": [
    {
     "data": {
      "text/plain": [
       "matrix([[-3,  9,  1],\n",
       "        [-1, -2, -3]])"
      ]
     },
     "execution_count": 16,
     "metadata": {},
     "output_type": "execute_result"
    }
   ],
   "source": [
    "np.asmatrix(dic['data'])"
   ]
  },
  {
   "cell_type": "markdown",
   "metadata": {},
   "source": [
    "определитель"
   ]
  },
  {
   "cell_type": "code",
   "execution_count": 21,
   "metadata": {},
   "outputs": [
    {
     "data": {
      "text/plain": [
       "(-105.0, -104.99999999999997)"
      ]
     },
     "execution_count": 21,
     "metadata": {},
     "output_type": "execute_result"
    }
   ],
   "source": [
    "matrix = np.random.randint(-3,10,size=(3,3))\n",
    "np.around(np.linalg.det(matrix), 1 ), np.linalg.det(matrix)"
   ]
  },
  {
   "cell_type": "markdown",
   "metadata": {},
   "source": [
    "транспонирование"
   ]
  },
  {
   "cell_type": "code",
   "execution_count": 22,
   "metadata": {},
   "outputs": [
    {
     "data": {
      "text/plain": [
       "array([[-2,  7, -1],\n",
       "       [ 3,  0, -3],\n",
       "       [ 6,  0, -1]])"
      ]
     },
     "execution_count": 22,
     "metadata": {},
     "output_type": "execute_result"
    }
   ],
   "source": [
    "matrix.transpose()"
   ]
  },
  {
   "cell_type": "markdown",
   "metadata": {},
   "source": [
    "Ранг матрицы"
   ]
  },
  {
   "cell_type": "code",
   "execution_count": 23,
   "metadata": {},
   "outputs": [
    {
     "data": {
      "text/plain": [
       "3"
      ]
     },
     "execution_count": 23,
     "metadata": {},
     "output_type": "execute_result"
    }
   ],
   "source": [
    "np.linalg.matrix_rank(matrix)"
   ]
  },
  {
   "cell_type": "markdown",
   "metadata": {},
   "source": [
    "обратная матрица"
   ]
  },
  {
   "cell_type": "code",
   "execution_count": 24,
   "metadata": {},
   "outputs": [
    {
     "data": {
      "text/plain": [
       "array([[ 8, -5, -6],\n",
       "       [-6, -5, -4],\n",
       "       [ 6,  6,  7]])"
      ]
     },
     "execution_count": 24,
     "metadata": {},
     "output_type": "execute_result"
    }
   ],
   "source": [
    "a = np.random.randint(-9, 10, size=(3,3))\n",
    "while (np.linalg.det(a) == 0):\n",
    "  a = np.random.randint(-9, 10, size=(3,3))\n",
    "a"
   ]
  },
  {
   "cell_type": "code",
   "execution_count": 25,
   "metadata": {},
   "outputs": [
    {
     "data": {
      "text/plain": [
       "array([[ 0.1,  0. ,  0.1],\n",
       "       [-0.1, -0.6, -0.5],\n",
       "       [ 0. ,  0.5,  0.5]])"
      ]
     },
     "execution_count": 25,
     "metadata": {},
     "output_type": "execute_result"
    }
   ],
   "source": [
    "InvA = np.around(np.linalg.inv(a), 1)\n",
    "InvA"
   ]
  },
  {
   "cell_type": "markdown",
   "metadata": {},
   "source": [
    "Сумма матриц"
   ]
  },
  {
   "cell_type": "code",
   "execution_count": 31,
   "metadata": {},
   "outputs": [
    {
     "data": {
      "text/plain": [
       "8"
      ]
     },
     "execution_count": 31,
     "metadata": {},
     "output_type": "execute_result"
    }
   ],
   "source": [
    "matrix = np.random.randint(10, size=(4, 4))\n",
    "row_count = matrix.shape[0]\n",
    "columns_count = matrix.shape[1]\n",
    "\n",
    "row_index = np.random.randint(0,row_count, size=(1,1))[0][0]\n",
    "column_index = np.random.randint(0,columns_count, size=(1,1))[0][0]\n",
    "answer = matrix[row_index][column_index]\n",
    "answer"
   ]
  },
  {
   "cell_type": "markdown",
   "metadata": {},
   "source": [
    "Умножение числа на матрицу"
   ]
  },
  {
   "cell_type": "code",
   "execution_count": 33,
   "metadata": {},
   "outputs": [
    {
     "data": {
      "text/plain": [
       "array([[16, 10,  4,  0],\n",
       "       [14,  0, 14,  0],\n",
       "       [10,  8, 10, 18],\n",
       "       [18, 16, 10,  4]])"
      ]
     },
     "execution_count": 33,
     "metadata": {},
     "output_type": "execute_result"
    }
   ],
   "source": [
    "matrix = np.random.randint(10, size=(4, 4))\n",
    "number = np.random.randint(1, 10, size=(1,1))[0][0]\n",
    "\n",
    "answer = matrix * number\n",
    "answer"
   ]
  },
  {
   "cell_type": "markdown",
   "metadata": {},
   "source": [
    "Умножение матриц"
   ]
  },
  {
   "cell_type": "code",
   "execution_count": 35,
   "metadata": {},
   "outputs": [
    {
     "data": {
      "text/plain": [
       "(array([[-3,  7],\n",
       "        [-8,  2]]),\n",
       " array([[-7, -1],\n",
       "        [ 4,  1]]),\n",
       " array([[49, 10],\n",
       "        [64, 10]]))"
      ]
     },
     "execution_count": 35,
     "metadata": {},
     "output_type": "execute_result"
    }
   ],
   "source": [
    "matrix1 = np.random.randint(-9, 10, size=(2,2))\n",
    "matrix2 = np.random.randint(-9, 10, size=(2,2))\n",
    "\n",
    "\n",
    "matrix1,matrix2,np.dot(matrix1, matrix2)"
   ]
  },
  {
   "cell_type": "markdown",
   "metadata": {},
   "source": [
    "Генерация невырожденной матрицы"
   ]
  },
  {
   "cell_type": "code",
   "execution_count": 37,
   "metadata": {},
   "outputs": [],
   "source": [
    "def generateNonsingularMatrix(min_value, max_value, rows_count, columns_count):\n",
    "  a = np.random.randint(min_value, max_value, size=(rows_count, columns_count))\n",
    "  while (np.linalg.det(a) == 0):\n",
    "    a = np.random.randint(min_value, max_value, size=(rows_count, columns_count))\n",
    "\n",
    "  return a"
   ]
  },
  {
   "cell_type": "markdown",
   "metadata": {},
   "source": [
    "Уравнение с определителем"
   ]
  },
  {
   "cell_type": "code",
   "execution_count": 38,
   "metadata": {},
   "outputs": [
    {
     "name": "stdout",
     "output_type": "stream",
     "text": [
      "{'task': 'Какое значение должно стоять на месте x, чтобы соблюдалось равенство?', 'data': {'matrix': [['-2', 'x', '-5'], ['-8', '-8', '2'], ['6', '2', '3']], 'determinant': -248.0}, 'answer': -4}\n"
     ]
    }
   ],
   "source": [
    "def GenerateDeterminantEquationTask():\n",
    "  matrix = generateNonsingularMatrix(-9, 10, 3, 3)\n",
    "  determinant = np.around(np.linalg.det(matrix))\n",
    "\n",
    "  row_count = matrix.shape[0]\n",
    "  columns_count = matrix.shape[1]\n",
    "\n",
    "  row_index = np.random.randint(0,row_count, size=(1,1))[0][0]\n",
    "  column_index = np.random.randint(0,columns_count, size=(1,1))[0][0]\n",
    "  random_elem = matrix[row_index][column_index]\n",
    "\n",
    "  new_matrix = np.where(matrix == random_elem, \"x\", matrix)\n",
    "  task = \"Какое значение должно стоять на месте x, чтобы соблюдалось равенство?\" \n",
    "\n",
    "  dic = {\n",
    "    \"task\":task,\n",
    "    \"data\": {\"matrix\": new_matrix.tolist(), \"determinant\": determinant},\n",
    "    \"answer\": int(random_elem)}\n",
    "  return dic\n",
    "\n",
    "print(GenerateDeterminantEquationTask())"
   ]
  },
  {
   "cell_type": "markdown",
   "metadata": {},
   "source": [
    "Матричные уравнения"
   ]
  },
  {
   "cell_type": "code",
   "execution_count": 39,
   "metadata": {},
   "outputs": [
    {
     "name": "stdout",
     "output_type": "stream",
     "text": [
      "{'task': 'Решите уравнение вида A*X = B. Ответ округлите до 3х знаков после запятой', 'data': {'A': [[3, 1, 9], [-4, 9, 7], [7, -5, 9]], 'B': [[-2, -9, -2], [3, -1, -8], [-1, 0, 5]]}, 'answer': [[-7.0, -21.5, -3.7], [-4.8, -15.8, -3.6], [2.6, 7.9, 1.4]]}\n"
     ]
    }
   ],
   "source": [
    "def GenerateSolveMatrixEquationTask():\n",
    "  a = generateNonsingularMatrix(-9, 10, 3, 3)\n",
    "  b = generateNonsingularMatrix(-9, 10, 3, 3)\n",
    "  a1 = np.linalg.inv(a)\n",
    "  answer = np.around(np.dot(a1, b), 3)\n",
    "  task = \"Решите уравнение вида A*X = B. Ответ округлите до 3х знаков после запятой\"\n",
    "  dic = {\n",
    "  \"task\":task,\n",
    "  \"data\": {\"A\": a.tolist(), \"B\": b.tolist()},\n",
    "  \"answer\": answer.tolist()}\n",
    "  return dic\n",
    "\n",
    "print(GenerateSolveMatrixEquationTask())"
   ]
  },
  {
   "cell_type": "code",
   "execution_count": 40,
   "metadata": {},
   "outputs": [
    {
     "name": "stdout",
     "output_type": "stream",
     "text": [
      "{'task': 'Решите уравнение вида A·X·B = C. Ответ округлите до 3х знаков после запятой', 'data': {'A': [[-4, -3, -9], [-9, 1, -1], [-4, 4, 1]], 'B': [[9, 5, 7], [-6, -8, 0], [9, 4, 6]], 'C': [[9, -9, 0], [4, 6, -4], [1, -7, 0]]}, 'answer': [[-0.1, 0.2, 0.2], [-1.4, 0.5, 1.7], [1.5, -0.3, -1.8]]}\n"
     ]
    }
   ],
   "source": [
    "def GenerateSolveDoubleMatrixEquationTask():\n",
    "  task = \"Решите уравнение вида A·X·B = C. Ответ округлите до 3х знаков после запятой\"\n",
    "  a = generateNonsingularMatrix(-9, 10, 3, 3)\n",
    "  b = generateNonsingularMatrix(-9, 10, 3, 3)\n",
    "  c = generateNonsingularMatrix(-9, 10, 3, 3)\n",
    "  a1 = np.linalg.inv(a)\n",
    "  b1 = np.linalg.inv(b)\n",
    "  x = np.dot(a1,c)\n",
    "  answer = np.around(np.dot(x, b1), 3)\n",
    "  dic = {\n",
    "  \"task\":task,\n",
    "  \"data\": {\"A\": a.tolist(), \"B\": b.tolist(), \"C\": c.tolist()},\n",
    "  \"answer\": answer.tolist()}\n",
    "  return dic\n",
    "\n",
    "print(GenerateSolveDoubleMatrixEquationTask())"
   ]
  },
  {
   "cell_type": "markdown",
   "metadata": {},
   "source": [
    "Ранг матрицы"
   ]
  },
  {
   "cell_type": "code",
   "execution_count": 41,
   "metadata": {},
   "outputs": [
    {
     "name": "stdout",
     "output_type": "stream",
     "text": [
      "{'task': 'Определите ранг матрицы', 'data': [[-4, 3, -2], [-2, -1, 6], [-5, 5, -6]], 'answer': 2}\n"
     ]
    }
   ],
   "source": [
    "def GenerateFindMatrixRankTask():\n",
    "  switch = np.random.randint(0, 2, size=(1,1))[0][0]\n",
    "  task = \"Определите ранг матрицы\"\n",
    "\n",
    "  if switch == 0:\n",
    "    matrix = np.random.randint(-9, 10, size=(3,3))\n",
    "    answer = np.linalg.matrix_rank(matrix)\n",
    "      \n",
    "  else:\n",
    "    matrix = np.random.randint(-9, 10, size=(2,3))\n",
    "    factor1, factor2 = 0, 0\n",
    "    while factor1 == 0 or factor2 == 0:\n",
    "        factor1 = np.random.randint(-3, 4, size=(1,1))[0][0]\n",
    "        factor2 = np.random.randint(-3, 4, size=(1,1))[0][0]\n",
    "\n",
    "    matrix = np.vstack([matrix, factor1 * matrix[0] + factor2*matrix[1]])\n",
    "    np.random.shuffle(matrix)\n",
    "    answer = np.linalg.matrix_rank(matrix)\n",
    "  \n",
    "  dic = {\n",
    "  \"task\":task,\n",
    "  \"data\": matrix.tolist(),\n",
    "  \"answer\": answer.item()}\n",
    "  return dic\n",
    "\n",
    "print(GenerateFindMatrixRankTask())"
   ]
  },
  {
   "cell_type": "markdown",
   "metadata": {},
   "source": [
    "Система линейных уравнений"
   ]
  },
  {
   "cell_type": "code",
   "execution_count": 42,
   "metadata": {},
   "outputs": [
    {
     "name": "stdout",
     "output_type": "stream",
     "text": [
      "(array([[ 8,  9, -3],\n",
      "       [ 4, 18,  6],\n",
      "       [-2,  7,  7]]), array([[13],\n",
      "       [18],\n",
      "       [ 7]]), array([[ 2.8       ],\n",
      "       [-0.33333333],\n",
      "       [ 2.13333333]]))\n"
     ]
    }
   ],
   "source": [
    "def generateSLU(x_count, equation_count, min_value, max_value):\n",
    "  a = np.random.randint(min_value, max_value, size=(equation_count, x_count))\n",
    "  while (np.linalg.det(a) == 0):\n",
    "    a = np.random.randint(min_value, max_value, size=(equation_count, x_count))\n",
    "\n",
    "  b = np.random.randint(min_value, max_value, size=(x_count, 1))\n",
    "  x = np.random.randint(1, size=(x_count, 1))\n",
    "\n",
    "  while((a.dot(x) != b).any()):\n",
    "    a = np.random.randint(min_value, max_value, size=(equation_count, x_count))\n",
    "    while (np.linalg.det(a) == 0):\n",
    "      a = np.random.randint(min_value, max_value, size=(equation_count, x_count))\n",
    "\n",
    "    b = np.random.randint(min_value, max_value, size=(x_count, 1))\n",
    "    x = np.linalg.solve(a, b)\n",
    "  return (a,b,x)\n",
    "\n",
    "print(generateSLU(3,3,-5, 21))"
   ]
  },
  {
   "cell_type": "code",
   "execution_count": null,
   "metadata": {},
   "outputs": [
    {
     "name": "stdout",
     "output_type": "stream",
     "text": [
      "{'task': 'Решите систему линейных уравнений. Ответ округлите до 3х знаков после запятой', 'data': {'first_equation': '7*x + 3*y + 15*z = 9', 'second_equation': '8*x + 13*y + 20*z = 20', 'third_equation': '-4*x + -2*y + 13*z = 13'}, 'answer': [[-0.864], [0.761], [0.851]]}\n"
     ]
    }
   ],
   "source": [
    "def GenerateSolveLinearEquationTask():\n",
    "  a, b, x = generateSLU(3, 3, -5, 21)\n",
    "  first_equation = f\"{a[0][0]}*x + {a[0][1]}*y + {a[0][2]}*z = {b[0].item()}\"\n",
    "  second_equation = f\"{a[1][0]}*x + {a[1][1]}*y + {a[1][2]}*z = {b[1].item()}\"\n",
    "  third_equation = f\"{a[2][0]}*x + {a[2][1]}*y + {a[2][2]}*z = {b[2].item()}\"\n",
    "  task = \"Решите систему линейных уравнений. Ответ округлите до 3х знаков после запятой\"  \n",
    "  answer = np.around(x,1).tolist()\n",
    "  dic = {\n",
    "  \"task\":task,\n",
    "  \"data\": {\"first_equation\": first_equation, \"second_equation\": second_equation, \"third_equation\" : third_equation},\n",
    "  \"answer\": answer}\n",
    "  return dic\n",
    "\n",
    "print(GenerateSolveLinearEquationTask())"
   ]
  },
  {
   "cell_type": "markdown",
   "metadata": {},
   "source": [
    "Скалярное произведение векторов"
   ]
  },
  {
   "cell_type": "code",
   "execution_count": 43,
   "metadata": {},
   "outputs": [
    {
     "name": "stdout",
     "output_type": "stream",
     "text": [
      "{'task': 'Вычислите скалярное произведение векторов A и B.', 'data': {'A': [2, 20, -20], 'B': [-15, 1, -4]}, 'answer': 70}\n"
     ]
    }
   ],
   "source": [
    "def GenerateScalarVectorMultiplicationTask():\n",
    "  a = np.random.randint(-20, 21, size=(1,3))[0]\n",
    "  b = np.random.randint(-20, 21, size=(1,3))[0]\n",
    "  task = \"Вычислите скалярное произведение векторов A и B.\"\n",
    "  answer = a @ b\n",
    "  dic = {\n",
    "    \"task\": task,\n",
    "    \"data\": {\"A\": a.tolist(), \"B\": b.tolist()},\n",
    "    \"answer\": answer}\n",
    "  return dic\n",
    "\n",
    "print(GenerateScalarVectorMultiplicationTask())"
   ]
  },
  {
   "cell_type": "markdown",
   "metadata": {},
   "source": [
    "Векторное произведение векторов"
   ]
  },
  {
   "cell_type": "code",
   "execution_count": 44,
   "metadata": {},
   "outputs": [
    {
     "name": "stdout",
     "output_type": "stream",
     "text": [
      "{'task': 'Вычислите векторное произведение векторов А и В.', 'data': {'A': [-15, -9, 9], 'B': [-16, 20, -14]}, 'answer': [-54, -353, -444]}\n"
     ]
    }
   ],
   "source": [
    "def GenerateVectorVectorMultiplicationTask():\n",
    "  a = np.random.randint(-20, 21, size=(1,3))\n",
    "  b = np.random.randint(-20, 21, size=(1,3))\n",
    "\n",
    "  combined = np.vstack([a, b])\n",
    "  xy = combined[:2, :2]\n",
    "  yz = combined[:2, 1:3]\n",
    "  xz = combined[:2, [0, 2]]\n",
    "  answer = np.array([int(np.linalg.det(yz)), -1 * int(np.linalg.det(xz)), int(np.linalg.det(xy))])\n",
    "  task = \"Вычислите векторное произведение векторов А и В.\"\n",
    "  dic = {\n",
    "    \"task\": task,\n",
    "    \"data\": {\"A\": a.tolist()[0], \"B\": b.tolist()[0]},\n",
    "    \"answer\": answer.tolist()}\n",
    "  return dic\n",
    "\n",
    "print(GenerateVectorVectorMultiplicationTask())\n"
   ]
  },
  {
   "cell_type": "markdown",
   "metadata": {},
   "source": [
    "Длина Вектора"
   ]
  },
  {
   "cell_type": "code",
   "execution_count": 73,
   "metadata": {},
   "outputs": [
    {
     "name": "stdout",
     "output_type": "stream",
     "text": [
      "{'task': 'Вычислите длинну вектора, полученную в результате векторного произведения A и B', 'data': {'A': [-14, 12, 3], 'B': [19, 11, 0]}, 'answer': 387.6}\n"
     ]
    }
   ],
   "source": [
    "\n",
    "def GenerateVectorVectorMultiplicationModuleTask():\n",
    "  temp = GenerateVectorVectorMultiplicationTask()\n",
    "  a = temp[\"data\"][\"A\"]\n",
    "  b = temp[\"data\"][\"B\"]\n",
    "  vector = np.array(temp[\"answer\"])\n",
    "  answer = np.around(sqrt(vector[0]**2 + vector[1]**2 + vector[2]**2 ), 1)\n",
    "  task = \"Вычислите длинну вектора, полученную в результате векторного произведения A и B\"\n",
    "  dic = {\n",
    "    \"task\": task,\n",
    "    \"data\": {\"A\": a, \"B\": b},\n",
    "    \"answer\": answer.tolist()}\n",
    "  return dic\n",
    "\n",
    "\n",
    "print(GenerateVectorVectorMultiplicationModuleTask())"
   ]
  },
  {
   "cell_type": "markdown",
   "metadata": {},
   "source": [
    "Смешанное произведение векторов"
   ]
  },
  {
   "cell_type": "code",
   "execution_count": null,
   "metadata": {},
   "outputs": [
    {
     "name": "stdout",
     "output_type": "stream",
     "text": [
      "{'task': 'Вычислите смешанное произведение векторов A, B и C', 'data': {'A': [10, 11, -14], 'B': [-10, 8, 0], 'C': [14, 7, -18]}, 'answer': -872.0}\n"
     ]
    }
   ],
   "source": [
    "def GenerateMixedVectorMultiplicationTask():\n",
    "  a = np.random.randint(-20, 21, size=(1,3))\n",
    "  b = np.random.randint(-20, 21, size=(1,3))\n",
    "  c = np.random.randint(-20, 21, size=(1,3))\n",
    "\n",
    "  combined = np.vstack([a, b, c])\n",
    "  answer = np.around(np.linalg.det(combined))\n",
    "  task = \"Вычислите смешанное произведение векторов A, B и C\"\n",
    "  dic = {\n",
    "    \"task\": task,\n",
    "    \"data\": {\"A\": a.tolist()[0], \"B\": b.tolist()[0], \"C\": c.tolist()[0]},\n",
    "    \"answer\": answer}\n",
    "  return dic\n",
    "\n",
    "print(GenerateMixedVectorMultiplicationTask())\n"
   ]
  },
  {
   "cell_type": "markdown",
   "metadata": {},
   "source": [
    "Коллинеарность векторов"
   ]
  },
  {
   "cell_type": "code",
   "execution_count": null,
   "metadata": {},
   "outputs": [
    {
     "name": "stdout",
     "output_type": "stream",
     "text": [
      "[-18  18  -1] [ 54 -54   3]\n",
      "{'task': 'Являются ли вектор A и вектор B коллинеарными? В ответе указать Да или Нет.', 'data': {'A': [-18, 18, -1], 'B': [54, -54, 3]}, 'ansver': 'Да'}\n"
     ]
    }
   ],
   "source": [
    "def GenerateIsCollinearVectorsTask():\n",
    "  switch = np.random.randint(0, 2, size=(1,1))[0][0]\n",
    "\n",
    "  if switch == 0:\n",
    "    a = np.random.randint(-20, 21, size=(1,3))[0]\n",
    "    b = np.random.randint(-20, 21, size=(1,3))[0]\n",
    "  else:\n",
    "    fraction = np.random.randint(-3, 5, size=(1,1))[0][0]\n",
    "    a = np.random.randint(-20, 21, size=(1,3))[0]\n",
    "    b = fraction * a\n",
    "\n",
    "  first,second,third = a[0]/b[0],a[1]/b[1],a[2]/b[2]\n",
    "\n",
    "  task = \"Являются ли вектор A и вектор B коллинеарными? В ответе указать Да или Нет.\"\n",
    "  ansver = \"Да\" if np.equal(first,second) and np.equal(first,third) else \"Нет\"\n",
    "\n",
    "  dic = {\n",
    "    \"task\": task,\n",
    "    \"data\": {\"A\": a.tolist(), \"B\": b.tolist()},\n",
    "    \"ansver\": ansver}\n",
    "\n",
    "  return dic\n",
    "\n",
    "print(GenerateIsCollinearVectorsTask())"
   ]
  },
  {
   "cell_type": "markdown",
   "metadata": {},
   "source": [
    "Компланарность векторов"
   ]
  },
  {
   "cell_type": "code",
   "execution_count": 61,
   "metadata": {},
   "outputs": [
    {
     "name": "stdout",
     "output_type": "stream",
     "text": [
      "[[8 3 1]\n",
      " [8 9 3]\n",
      " [6 9 3]]\n"
     ]
    }
   ],
   "source": [
    "def generateSingularMatrix(min_value, max_value, rows_count, columns_count):\n",
    "  a = np.random.randint(min_value, max_value, size=(rows_count, columns_count))\n",
    "  while (np.linalg.det(a) != 0):\n",
    "    a = np.random.randint(min_value, max_value, size=(rows_count, columns_count))\n",
    "  return a\n",
    "\n",
    "print(generateSingularMatrix(1, 10, 3, 3))"
   ]
  },
  {
   "cell_type": "code",
   "execution_count": 63,
   "metadata": {},
   "outputs": [
    {
     "name": "stdout",
     "output_type": "stream",
     "text": [
      "{'task': 'Являются ли векторы A B и C компланарными? В ответе указать Да или Нет.', 'data': {'A': [15, -19, 18], 'B': [4, -5, -19], 'C': [-18, -3, 6]}, 'answer': 'Нет'}\n"
     ]
    }
   ],
   "source": [
    "def GenerateIsComplanarVectorsTask():\n",
    "  switch = np.random.randint(0, 2, size=(1,1))[0][0]\n",
    "\n",
    "  if switch == 0:\n",
    "    data = generateNonsingularMatrix(-20, 21, 3, 3)\n",
    "  else:\n",
    "    data = generateSingularMatrix(-20, 21, 3, 3)\n",
    "  \n",
    "  task = \"Являются ли векторы A B и C компланарными? В ответе указать Да или Нет.\"\n",
    "  answer = \"Да\" if switch != 0 else \"Нет\"\n",
    "\n",
    "  dic = {\n",
    "    \"task\": task,\n",
    "    \"data\": {\"A\": data[0].tolist(), \"B\":data[1].tolist(), \"C\": data[2].tolist()},\n",
    "    \"answer\": answer}\n",
    "  \n",
    "  return dic\n",
    "\n",
    "print(GenerateIsComplanarVectorsTask())\n",
    "    "
   ]
  },
  {
   "cell_type": "markdown",
   "metadata": {},
   "source": [
    "Поиск уравнения паралельного вектора, проходящего через точку."
   ]
  },
  {
   "cell_type": "code",
   "execution_count": 75,
   "metadata": {},
   "outputs": [
    {
     "name": "stdout",
     "output_type": "stream",
     "text": [
      "{'task': 'Известно, что прямая  L  проходит через начало координат и точку  B(-7,-2). Записать уравнение прямой, проходящей через точку  A(-4,-5)  параллельно прямой  L', 'data': {}, 'answer': 2*x - 7*y - 27}\n"
     ]
    }
   ],
   "source": [
    "def GenerateFindParalelLineEquationTask():\n",
    "    A1,A2 = randint(-9, 9),randint(-9, 9)\n",
    "    A = sp.Point(A1,A2)\n",
    "    B1,B2 = randint(-9, 9),randint(-9, 9)\n",
    "    L1 = sp.Line((0, 0), (B1, B2))\n",
    "\n",
    "    L2 = L1.parallel_line(A)\n",
    "    task = f\"Известно, что прямая  L  проходит через начало координат и точку  B({B1},{B2}). Записать уравнение прямой, проходящей через точку  A({A1},{A2})  параллельно прямой  L\"\n",
    "    answer = L2.equation()\n",
    "\n",
    "    dic = {\n",
    "        \"task\": task,\n",
    "        \"data\": {}, #Нужно ли тут что - то на фронт возвращать? все данные уже в таске.\n",
    "        \"answer\": answer}\n",
    "    \n",
    "    return dic\n",
    "\n",
    "print(GenerateFindParalelLineEquationTask())"
   ]
  }
 ],
 "metadata": {
  "kernelspec": {
   "display_name": "Python 3",
   "language": "python",
   "name": "python3"
  },
  "language_info": {
   "codemirror_mode": {
    "name": "ipython",
    "version": 3
   },
   "file_extension": ".py",
   "mimetype": "text/x-python",
   "name": "python",
   "nbconvert_exporter": "python",
   "pygments_lexer": "ipython3",
   "version": "3.10.7"
  }
 },
 "nbformat": 4,
 "nbformat_minor": 2
}
