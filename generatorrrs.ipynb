{
 "cells": [
  {
   "cell_type": "code",
   "execution_count": 113,
   "metadata": {},
   "outputs": [],
   "source": [
    "import numpy as np\n",
    "import sympy as sp\n",
    "import scipy as sc\n",
    "from math import *\n",
    "from random import *"
   ]
  },
  {
   "cell_type": "markdown",
   "metadata": {},
   "source": [
    "конвертация матрицы в для отправки"
   ]
  },
  {
   "cell_type": "code",
   "execution_count": 114,
   "metadata": {},
   "outputs": [
    {
     "data": {
      "text/plain": [
       "{'data': [[5, 5, 3], [9, 0, 6]]}"
      ]
     },
     "execution_count": 114,
     "metadata": {},
     "output_type": "execute_result"
    }
   ],
   "source": [
    "matrix = np.random.randint(-3,10,size=(2,3))\n",
    "dic = {\"data\": matrix.tolist()}\n",
    "dic"
   ]
  },
  {
   "cell_type": "markdown",
   "metadata": {},
   "source": [
    "конвертация массива в матрицу"
   ]
  },
  {
   "cell_type": "code",
   "execution_count": 115,
   "metadata": {},
   "outputs": [
    {
     "data": {
      "text/plain": [
       "matrix([[5, 5, 3],\n",
       "        [9, 0, 6]])"
      ]
     },
     "execution_count": 115,
     "metadata": {},
     "output_type": "execute_result"
    }
   ],
   "source": [
    "np.asmatrix(dic['data'])"
   ]
  },
  {
   "cell_type": "markdown",
   "metadata": {},
   "source": [
    "определитель"
   ]
  },
  {
   "cell_type": "code",
   "execution_count": 116,
   "metadata": {},
   "outputs": [
    {
     "data": {
      "text/plain": [
       "(-729.0, -729.0000000000001)"
      ]
     },
     "execution_count": 116,
     "metadata": {},
     "output_type": "execute_result"
    }
   ],
   "source": [
    "matrix = np.random.randint(-3,10,size=(3,3))\n",
    "np.around(np.linalg.det(matrix), 1 ), np.linalg.det(matrix)"
   ]
  },
  {
   "cell_type": "markdown",
   "metadata": {},
   "source": [
    "транспонирование"
   ]
  },
  {
   "cell_type": "code",
   "execution_count": 117,
   "metadata": {},
   "outputs": [
    {
     "data": {
      "text/plain": [
       "array([[ 7,  8,  0],\n",
       "       [ 9,  1,  6],\n",
       "       [-3,  0,  9]])"
      ]
     },
     "execution_count": 117,
     "metadata": {},
     "output_type": "execute_result"
    }
   ],
   "source": [
    "matrix.transpose()"
   ]
  },
  {
   "cell_type": "markdown",
   "metadata": {},
   "source": [
    "Ранг матрицы"
   ]
  },
  {
   "cell_type": "code",
   "execution_count": 118,
   "metadata": {},
   "outputs": [
    {
     "data": {
      "text/plain": [
       "3"
      ]
     },
     "execution_count": 118,
     "metadata": {},
     "output_type": "execute_result"
    }
   ],
   "source": [
    "np.linalg.matrix_rank(matrix)"
   ]
  },
  {
   "cell_type": "markdown",
   "metadata": {},
   "source": [
    "обратная матрица"
   ]
  },
  {
   "cell_type": "code",
   "execution_count": 119,
   "metadata": {},
   "outputs": [
    {
     "data": {
      "text/plain": [
       "array([[-2, -4,  2],\n",
       "       [ 6,  3, -3],\n",
       "       [-1, -9, -9]])"
      ]
     },
     "execution_count": 119,
     "metadata": {},
     "output_type": "execute_result"
    }
   ],
   "source": [
    "a = np.random.randint(-9, 10, size=(3,3))\n",
    "while (np.linalg.det(a) == 0):\n",
    "  a = np.random.randint(-9, 10, size=(3,3))\n",
    "a"
   ]
  },
  {
   "cell_type": "code",
   "execution_count": 120,
   "metadata": {},
   "outputs": [
    {
     "data": {
      "text/plain": [
       "array([[ 0.2,  0.2, -0. ],\n",
       "       [-0.3, -0.1, -0. ],\n",
       "       [ 0.2,  0.1, -0.1]])"
      ]
     },
     "execution_count": 120,
     "metadata": {},
     "output_type": "execute_result"
    }
   ],
   "source": [
    "InvA = np.around(np.linalg.inv(a), 1)\n",
    "InvA"
   ]
  },
  {
   "cell_type": "markdown",
   "metadata": {},
   "source": [
    "Сумма матриц"
   ]
  },
  {
   "cell_type": "code",
   "execution_count": 121,
   "metadata": {},
   "outputs": [
    {
     "data": {
      "text/plain": [
       "8"
      ]
     },
     "execution_count": 121,
     "metadata": {},
     "output_type": "execute_result"
    }
   ],
   "source": [
    "matrix = np.random.randint(10, size=(4, 4))\n",
    "row_count = matrix.shape[0]\n",
    "columns_count = matrix.shape[1]\n",
    "\n",
    "row_index = np.random.randint(0,row_count, size=(1,1))[0][0]\n",
    "column_index = np.random.randint(0,columns_count, size=(1,1))[0][0]\n",
    "answer = matrix[row_index][column_index]\n",
    "answer"
   ]
  },
  {
   "cell_type": "markdown",
   "metadata": {},
   "source": [
    "Умножение числа на матрицу"
   ]
  },
  {
   "cell_type": "code",
   "execution_count": 122,
   "metadata": {},
   "outputs": [
    {
     "data": {
      "text/plain": [
       "array([[12,  0,  6,  3],\n",
       "       [ 3,  6,  9, 18],\n",
       "       [ 9,  9, 18,  6],\n",
       "       [15, 12,  3, 27]])"
      ]
     },
     "execution_count": 122,
     "metadata": {},
     "output_type": "execute_result"
    }
   ],
   "source": [
    "matrix = np.random.randint(10, size=(4, 4))\n",
    "number = np.random.randint(1, 10, size=(1,1))[0][0]\n",
    "\n",
    "answer = matrix * number\n",
    "answer"
   ]
  },
  {
   "cell_type": "markdown",
   "metadata": {},
   "source": [
    "Умножение матриц"
   ]
  },
  {
   "cell_type": "code",
   "execution_count": 123,
   "metadata": {},
   "outputs": [
    {
     "data": {
      "text/plain": [
       "(array([[ 1,  4],\n",
       "        [-5, -6]]),\n",
       " array([[ 0,  0],\n",
       "        [-3, -2]]),\n",
       " array([[-12,  -8],\n",
       "        [ 18,  12]]))"
      ]
     },
     "execution_count": 123,
     "metadata": {},
     "output_type": "execute_result"
    }
   ],
   "source": [
    "matrix1 = np.random.randint(-9, 10, size=(2,2))\n",
    "matrix2 = np.random.randint(-9, 10, size=(2,2))\n",
    "\n",
    "\n",
    "matrix1,matrix2,np.dot(matrix1, matrix2)"
   ]
  },
  {
   "cell_type": "markdown",
   "metadata": {},
   "source": [
    "Генерация невырожденной матрицы"
   ]
  },
  {
   "cell_type": "code",
   "execution_count": 124,
   "metadata": {},
   "outputs": [],
   "source": [
    "def generateNonsingularMatrix(min_value, max_value, rows_count, columns_count):\n",
    "  a = np.random.randint(min_value, max_value, size=(rows_count, columns_count))\n",
    "  while (np.linalg.det(a) == 0):\n",
    "    a = np.random.randint(min_value, max_value, size=(rows_count, columns_count))\n",
    "\n",
    "  return a"
   ]
  },
  {
   "cell_type": "markdown",
   "metadata": {},
   "source": [
    "Уравнение с определителем"
   ]
  },
  {
   "cell_type": "code",
   "execution_count": 125,
   "metadata": {},
   "outputs": [
    {
     "name": "stdout",
     "output_type": "stream",
     "text": [
      "{'task': 'Какое значение должно стоять на месте x, чтобы соблюдалось равенство?', 'data': {'matrix': [['x', '-3', '6'], ['-4', '-6', 'x'], ['9', '9', '1']], 'determinant': 96.0}, 'answer': 0}\n"
     ]
    }
   ],
   "source": [
    "def GenerateDeterminantEquationTask():\n",
    "  matrix = generateNonsingularMatrix(-9, 10, 3, 3)\n",
    "  determinant = np.around(np.linalg.det(matrix))\n",
    "\n",
    "  row_count = matrix.shape[0]\n",
    "  columns_count = matrix.shape[1]\n",
    "\n",
    "  row_index = np.random.randint(0,row_count, size=(1,1))[0][0]\n",
    "  column_index = np.random.randint(0,columns_count, size=(1,1))[0][0]\n",
    "  random_elem = matrix[row_index][column_index]\n",
    "\n",
    "  new_matrix = np.where(matrix == random_elem, \"x\", matrix)\n",
    "  task = \"Какое значение должно стоять на месте x, чтобы соблюдалось равенство?\" \n",
    "\n",
    "  dic = {\n",
    "    \"task\":task,\n",
    "    \"data\": {\"matrix\": new_matrix.tolist(), \"determinant\": determinant},\n",
    "    \"answer\": int(random_elem)}\n",
    "  return dic\n",
    "\n",
    "print(GenerateDeterminantEquationTask())"
   ]
  },
  {
   "cell_type": "markdown",
   "metadata": {},
   "source": [
    "Матричные уравнения"
   ]
  },
  {
   "cell_type": "code",
   "execution_count": 126,
   "metadata": {},
   "outputs": [
    {
     "name": "stdout",
     "output_type": "stream",
     "text": [
      "{'task': 'Решите уравнение вида A*X = B. Ответ округлите до 3х знаков после запятой', 'data': {'A': [[-3, 5, -3], [3, -8, -8], [3, 1, -4]], 'B': [[9, 8, 5], [8, 9, 0], [3, -2, 7]]}, 'answer': [[-1.165, -2.303, 0.95], [0.149, -0.609, 1.115], [-1.586, -1.379, -0.759]]}\n"
     ]
    }
   ],
   "source": [
    "def GenerateSolveMatrixEquationTask():\n",
    "  a = generateNonsingularMatrix(-9, 10, 3, 3)\n",
    "  b = generateNonsingularMatrix(-9, 10, 3, 3)\n",
    "  a1 = np.linalg.inv(a)\n",
    "  answer = np.around(np.dot(a1, b), 3)\n",
    "  task = \"Решите уравнение вида A*X = B. Ответ округлите до 3х знаков после запятой\"\n",
    "  dic = {\n",
    "  \"task\":task,\n",
    "  \"data\": {\"A\": a.tolist(), \"B\": b.tolist()},\n",
    "  \"answer\": answer.tolist()}\n",
    "  return dic\n",
    "\n",
    "print(GenerateSolveMatrixEquationTask())"
   ]
  },
  {
   "cell_type": "code",
   "execution_count": 127,
   "metadata": {},
   "outputs": [
    {
     "name": "stdout",
     "output_type": "stream",
     "text": [
      "{'task': 'Решите уравнение вида A·X·B = C. Ответ округлите до 3х знаков после запятой', 'data': {'A': [[-6, 7, 8], [-4, -7, -6], [-6, 3, 7]], 'B': [[-1, -4, -3], [-5, 2, -3], [-4, -3, -2]], 'C': [[-2, -9, -9], [-1, -9, -3], [-2, 6, 4]]}, 'answer': [[-0.761, 0.038, 0.07], [1.703, 0.068, -0.513], [-1.672, 0.026, 0.396]]}\n"
     ]
    }
   ],
   "source": [
    "def GenerateSolveDoubleMatrixEquationTask():\n",
    "  task = \"Решите уравнение вида A·X·B = C. Ответ округлите до 3х знаков после запятой\"\n",
    "  a = generateNonsingularMatrix(-9, 10, 3, 3)\n",
    "  b = generateNonsingularMatrix(-9, 10, 3, 3)\n",
    "  c = generateNonsingularMatrix(-9, 10, 3, 3)\n",
    "  a1 = np.linalg.inv(a)\n",
    "  b1 = np.linalg.inv(b)\n",
    "  x = np.dot(a1,c)\n",
    "  answer = np.around(np.dot(x, b1), 3)\n",
    "  dic = {\n",
    "  \"task\":task,\n",
    "  \"data\": {\"A\": a.tolist(), \"B\": b.tolist(), \"C\": c.tolist()},\n",
    "  \"answer\": answer.tolist()}\n",
    "  return dic\n",
    "\n",
    "print(GenerateSolveDoubleMatrixEquationTask())"
   ]
  },
  {
   "cell_type": "markdown",
   "metadata": {},
   "source": [
    "Ранг матрицы"
   ]
  },
  {
   "cell_type": "code",
   "execution_count": 128,
   "metadata": {},
   "outputs": [
    {
     "name": "stdout",
     "output_type": "stream",
     "text": [
      "{'task': 'Определите ранг матрицы', 'data': [[-6, 3, 5], [36, -27, -25], [9, -9, -5]], 'answer': 2}\n"
     ]
    }
   ],
   "source": [
    "def GenerateFindMatrixRankTask():\n",
    "  switch = np.random.randint(0, 2, size=(1,1))[0][0]\n",
    "  task = \"Определите ранг матрицы\"\n",
    "\n",
    "  if switch == 0:\n",
    "    matrix = np.random.randint(-9, 10, size=(3,3))\n",
    "    answer = np.linalg.matrix_rank(matrix)\n",
    "      \n",
    "  else:\n",
    "    matrix = np.random.randint(-9, 10, size=(2,3))\n",
    "    factor1, factor2 = 0, 0\n",
    "    while factor1 == 0 or factor2 == 0:\n",
    "        factor1 = np.random.randint(-3, 4, size=(1,1))[0][0]\n",
    "        factor2 = np.random.randint(-3, 4, size=(1,1))[0][0]\n",
    "\n",
    "    matrix = np.vstack([matrix, factor1 * matrix[0] + factor2*matrix[1]])\n",
    "    np.random.shuffle(matrix)\n",
    "    answer = np.linalg.matrix_rank(matrix)\n",
    "  \n",
    "  dic = {\n",
    "  \"task\":task,\n",
    "  \"data\": matrix.tolist(),\n",
    "  \"answer\": answer.item()}\n",
    "  return dic\n",
    "\n",
    "print(GenerateFindMatrixRankTask())"
   ]
  },
  {
   "cell_type": "markdown",
   "metadata": {},
   "source": [
    "Система линейных уравнений"
   ]
  },
  {
   "cell_type": "code",
   "execution_count": 129,
   "metadata": {},
   "outputs": [
    {
     "name": "stdout",
     "output_type": "stream",
     "text": [
      "(array([[ 1, 12,  6],\n",
      "       [-3, 12, -5],\n",
      "       [-5, 15, -1]]), array([[ 6],\n",
      "       [ 9],\n",
      "       [17]]), array([[-2.27338129],\n",
      "       [ 0.41247002],\n",
      "       [ 0.55395683]]))\n"
     ]
    }
   ],
   "source": [
    "def generateSLU(x_count, equation_count, min_value, max_value):\n",
    "  a = np.random.randint(min_value, max_value, size=(equation_count, x_count))\n",
    "  while (np.linalg.det(a) == 0):\n",
    "    a = np.random.randint(min_value, max_value, size=(equation_count, x_count))\n",
    "\n",
    "  b = np.random.randint(min_value, max_value, size=(x_count, 1))\n",
    "  x = np.random.randint(1, size=(x_count, 1))\n",
    "\n",
    "  while((a.dot(x) != b).any()):\n",
    "    a = np.random.randint(min_value, max_value, size=(equation_count, x_count))\n",
    "    while (np.linalg.det(a) == 0):\n",
    "      a = np.random.randint(min_value, max_value, size=(equation_count, x_count))\n",
    "\n",
    "    b = np.random.randint(min_value, max_value, size=(x_count, 1))\n",
    "    x = np.linalg.solve(a, b)\n",
    "  return (a,b,x)\n",
    "\n",
    "print(generateSLU(3,3,-5, 21))"
   ]
  },
  {
   "cell_type": "code",
   "execution_count": 130,
   "metadata": {},
   "outputs": [
    {
     "name": "stdout",
     "output_type": "stream",
     "text": [
      "{'task': 'Решите систему линейных уравнений. Ответ округлите до 3х знаков после запятой', 'data': {'first_equation': '3*x + -1*y + 10*z = 5', 'second_equation': '17*x + -5*y + 13*z = 2', 'third_equation': '14*x + 12*y + 13*z = 20'}, 'answer': [[-0.0], [1.1], [0.6]]}\n"
     ]
    }
   ],
   "source": [
    "def GenerateSolveLinearEquationTask():\n",
    "  a, b, x = generateSLU(3, 3, -5, 21)\n",
    "  first_equation = f\"{a[0][0]}*x + {a[0][1]}*y + {a[0][2]}*z = {b[0].item()}\"\n",
    "  second_equation = f\"{a[1][0]}*x + {a[1][1]}*y + {a[1][2]}*z = {b[1].item()}\"\n",
    "  third_equation = f\"{a[2][0]}*x + {a[2][1]}*y + {a[2][2]}*z = {b[2].item()}\"\n",
    "  task = \"Решите систему линейных уравнений. Ответ округлите до 3х знаков после запятой\"  \n",
    "  answer = np.around(x,1).tolist()\n",
    "  dic = {\n",
    "  \"task\":task,\n",
    "  \"data\": {\"first_equation\": first_equation, \"second_equation\": second_equation, \"third_equation\" : third_equation},\n",
    "  \"answer\": answer}\n",
    "  return dic\n",
    "\n",
    "print(GenerateSolveLinearEquationTask())"
   ]
  },
  {
   "cell_type": "markdown",
   "metadata": {},
   "source": [
    "Скалярное произведение векторов"
   ]
  },
  {
   "cell_type": "code",
   "execution_count": 131,
   "metadata": {},
   "outputs": [
    {
     "name": "stdout",
     "output_type": "stream",
     "text": [
      "{'task': 'Вычислите скалярное произведение векторов A и B.', 'data': {'A': [14, -10, -17], 'B': [-4, -3, 2]}, 'answer': -60}\n"
     ]
    }
   ],
   "source": [
    "def GenerateScalarVectorMultiplicationTask():\n",
    "  a = np.random.randint(-20, 21, size=(1,3))[0]\n",
    "  b = np.random.randint(-20, 21, size=(1,3))[0]\n",
    "  task = \"Вычислите скалярное произведение векторов A и B.\"\n",
    "  answer = a @ b\n",
    "  dic = {\n",
    "    \"task\": task,\n",
    "    \"data\": {\"A\": a.tolist(), \"B\": b.tolist()},\n",
    "    \"answer\": answer}\n",
    "  return dic\n",
    "\n",
    "print(GenerateScalarVectorMultiplicationTask())"
   ]
  },
  {
   "cell_type": "markdown",
   "metadata": {},
   "source": [
    "Векторное произведение векторов"
   ]
  },
  {
   "cell_type": "code",
   "execution_count": 132,
   "metadata": {},
   "outputs": [
    {
     "name": "stdout",
     "output_type": "stream",
     "text": [
      "{'task': 'Вычислите векторное произведение векторов А и В.', 'data': {'A': [-13, -9, -14], 'B': [1, -3, 18]}, 'answer': [-204, 219, 47]}\n"
     ]
    }
   ],
   "source": [
    "def GenerateVectorVectorMultiplicationTask():\n",
    "  a = np.random.randint(-20, 21, size=(1,3))\n",
    "  b = np.random.randint(-20, 21, size=(1,3))\n",
    "\n",
    "  combined = np.vstack([a, b])\n",
    "  xy = combined[:2, :2]\n",
    "  yz = combined[:2, 1:3]\n",
    "  xz = combined[:2, [0, 2]]\n",
    "  answer = np.array([int(np.linalg.det(yz)), -1 * int(np.linalg.det(xz)), int(np.linalg.det(xy))])\n",
    "  task = \"Вычислите векторное произведение векторов А и В.\"\n",
    "  dic = {\n",
    "    \"task\": task,\n",
    "    \"data\": {\"A\": a.tolist()[0], \"B\": b.tolist()[0]},\n",
    "    \"answer\": answer.tolist()}\n",
    "  return dic\n",
    "\n",
    "print(GenerateVectorVectorMultiplicationTask())\n"
   ]
  },
  {
   "cell_type": "markdown",
   "metadata": {},
   "source": [
    "Длина Вектора"
   ]
  },
  {
   "cell_type": "code",
   "execution_count": 133,
   "metadata": {},
   "outputs": [
    {
     "name": "stdout",
     "output_type": "stream",
     "text": [
      "{'task': 'Вычислите длинну вектора, полученную в результате векторного произведения A и B', 'data': {'A': [-1, 16, -10], 'B': [2, 0, -1]}, 'answer': 41.1}\n"
     ]
    }
   ],
   "source": [
    "\n",
    "def GenerateVectorVectorMultiplicationModuleTask():\n",
    "  temp = GenerateVectorVectorMultiplicationTask()\n",
    "  a = temp[\"data\"][\"A\"]\n",
    "  b = temp[\"data\"][\"B\"]\n",
    "  vector = np.array(temp[\"answer\"])\n",
    "  answer = np.around(sqrt(vector[0]**2 + vector[1]**2 + vector[2]**2 ), 1)\n",
    "  task = \"Вычислите длинну вектора, полученную в результате векторного произведения A и B\"\n",
    "  dic = {\n",
    "    \"task\": task,\n",
    "    \"data\": {\"A\": a, \"B\": b},\n",
    "    \"answer\": answer.tolist()}\n",
    "  return dic\n",
    "\n",
    "\n",
    "print(GenerateVectorVectorMultiplicationModuleTask())"
   ]
  },
  {
   "cell_type": "markdown",
   "metadata": {},
   "source": [
    "Смешанное произведение векторов"
   ]
  },
  {
   "cell_type": "code",
   "execution_count": 134,
   "metadata": {},
   "outputs": [
    {
     "name": "stdout",
     "output_type": "stream",
     "text": [
      "{'task': 'Вычислите смешанное произведение векторов A, B и C', 'data': {'A': [15, 16, -8], 'B': [6, -6, 20], 'C': [14, 12, -11]}, 'answer': 1678.0}\n"
     ]
    }
   ],
   "source": [
    "def GenerateMixedVectorMultiplicationTask():\n",
    "  a = np.random.randint(-20, 21, size=(1,3))\n",
    "  b = np.random.randint(-20, 21, size=(1,3))\n",
    "  c = np.random.randint(-20, 21, size=(1,3))\n",
    "\n",
    "  combined = np.vstack([a, b, c])\n",
    "  answer = np.around(np.linalg.det(combined))\n",
    "  task = \"Вычислите смешанное произведение векторов A, B и C\"\n",
    "  dic = {\n",
    "    \"task\": task,\n",
    "    \"data\": {\"A\": a.tolist()[0], \"B\": b.tolist()[0], \"C\": c.tolist()[0]},\n",
    "    \"answer\": answer}\n",
    "  return dic\n",
    "\n",
    "print(GenerateMixedVectorMultiplicationTask())\n"
   ]
  },
  {
   "cell_type": "markdown",
   "metadata": {},
   "source": [
    "Коллинеарность векторов"
   ]
  },
  {
   "cell_type": "code",
   "execution_count": 135,
   "metadata": {},
   "outputs": [
    {
     "name": "stdout",
     "output_type": "stream",
     "text": [
      "{'task': 'Являются ли вектор A и вектор B коллинеарными? В ответе указать Да или Нет.', 'data': {'A': [-1, -16, 2], 'B': [-4, -64, 8]}, 'ansver': 'Да'}\n"
     ]
    }
   ],
   "source": [
    "def GenerateIsCollinearVectorsTask():\n",
    "  switch = np.random.randint(0, 2, size=(1,1))[0][0]\n",
    "\n",
    "  if switch == 0:\n",
    "    a = np.random.randint(-20, 21, size=(1,3))[0]\n",
    "    b = np.random.randint(-20, 21, size=(1,3))[0]\n",
    "  else:\n",
    "    fraction = np.random.randint(-3, 5, size=(1,1))[0][0]\n",
    "    a = np.random.randint(-20, 21, size=(1,3))[0]\n",
    "    b = fraction * a\n",
    "\n",
    "  first,second,third = a[0]/b[0],a[1]/b[1],a[2]/b[2]\n",
    "\n",
    "  task = \"Являются ли вектор A и вектор B коллинеарными? В ответе указать Да или Нет.\"\n",
    "  ansver = \"Да\" if np.equal(first,second) and np.equal(first,third) else \"Нет\"\n",
    "\n",
    "  dic = {\n",
    "    \"task\": task,\n",
    "    \"data\": {\"A\": a.tolist(), \"B\": b.tolist()},\n",
    "    \"ansver\": ansver}\n",
    "\n",
    "  return dic\n",
    "\n",
    "print(GenerateIsCollinearVectorsTask())"
   ]
  },
  {
   "cell_type": "markdown",
   "metadata": {},
   "source": [
    "Компланарность векторов"
   ]
  },
  {
   "cell_type": "code",
   "execution_count": 136,
   "metadata": {},
   "outputs": [
    {
     "name": "stdout",
     "output_type": "stream",
     "text": [
      "[[6 3 3]\n",
      " [5 3 4]\n",
      " [5 3 4]]\n"
     ]
    }
   ],
   "source": [
    "def generateSingularMatrix(min_value, max_value, rows_count, columns_count):\n",
    "  a = np.random.randint(min_value, max_value, size=(rows_count, columns_count))\n",
    "  while (np.linalg.det(a) != 0):\n",
    "    a = np.random.randint(min_value, max_value, size=(rows_count, columns_count))\n",
    "  return a\n",
    "\n",
    "print(generateSingularMatrix(1, 10, 3, 3))"
   ]
  },
  {
   "cell_type": "code",
   "execution_count": 137,
   "metadata": {},
   "outputs": [
    {
     "name": "stdout",
     "output_type": "stream",
     "text": [
      "{'task': 'Являются ли векторы A B и C компланарными? В ответе указать Да или Нет.', 'data': {'A': [0, -7, -18], 'B': [-20, -13, -16], 'C': [-2, 4, 18]}, 'answer': 'Нет'}\n"
     ]
    }
   ],
   "source": [
    "def GenerateIsComplanarVectorsTask():\n",
    "  switch = np.random.randint(0, 2, size=(1,1))[0][0]\n",
    "\n",
    "  if switch == 0:\n",
    "    data = generateNonsingularMatrix(-20, 21, 3, 3)\n",
    "  else:\n",
    "    data = generateSingularMatrix(-20, 21, 3, 3)\n",
    "  \n",
    "  task = \"Являются ли векторы A B и C компланарными? В ответе указать Да или Нет.\"\n",
    "  answer = \"Да\" if switch != 0 else \"Нет\"\n",
    "\n",
    "  dic = {\n",
    "    \"task\": task,\n",
    "    \"data\": {\"A\": data[0].tolist(), \"B\":data[1].tolist(), \"C\": data[2].tolist()},\n",
    "    \"answer\": answer}\n",
    "  \n",
    "  return dic\n",
    "\n",
    "print(GenerateIsComplanarVectorsTask())\n",
    "    "
   ]
  },
  {
   "cell_type": "markdown",
   "metadata": {},
   "source": [
    "Поиск уравнения прямой"
   ]
  },
  {
   "cell_type": "code",
   "execution_count": 138,
   "metadata": {},
   "outputs": [
    {
     "name": "stdout",
     "output_type": "stream",
     "text": [
      "{'task': 'Составить уравнение прямой, проходящей через две точки:  A(7,-6)  и  B(-2,3)', 'data': {}, 'answer': -9*x - 9*y + 9}\n"
     ]
    }
   ],
   "source": [
    "def GenerateFindLineEquationByPointsTask():\n",
    "    A1,A2 = randint(-9, 9),randint(-9, 9)\n",
    "    B1,B2 = randint(-9, 9),randint(-9, 9)\n",
    "\n",
    "    A, B = sp.Point(A1, A2), sp.Point(B1, B2)\n",
    "    L = sp.Line(A, B)\n",
    "\n",
    "    task = f\"Составить уравнение прямой, проходящей через две точки:  A({A1},{A2})  и  B({B1},{B2})\"\n",
    "    answer = L.equation()\n",
    "\n",
    "    dic = {\n",
    "    \"task\": task,\n",
    "    \"data\": {}, #Нужно ли тут что - то на фронт возвращать? все данные уже в задаче.\n",
    "    \"answer\": answer}\n",
    "    return dic\n",
    "\n",
    "print(GenerateFindLineEquationByPointsTask())"
   ]
  },
  {
   "cell_type": "markdown",
   "metadata": {},
   "source": [
    "Поиск уравнения паралельного вектора, проходящего через точку."
   ]
  },
  {
   "cell_type": "code",
   "execution_count": 139,
   "metadata": {},
   "outputs": [
    {
     "name": "stdout",
     "output_type": "stream",
     "text": [
      "{'task': 'Известно, что прямая  L  проходит через начало координат и точку  B(4,-3). Записать уравнение прямой, проходящей через точку  A(-3,2)  параллельно прямой  L', 'data': {}, 'answer': 3*x + 4*y + 1}\n"
     ]
    }
   ],
   "source": [
    "def GenerateFindParalelLineEquationTask():\n",
    "    A1,A2 = randint(-9, 9),randint(-9, 9)\n",
    "    A = sp.Point(A1,A2)\n",
    "    B1,B2 = randint(-9, 9),randint(-9, 9)\n",
    "    L1 = sp.Line((0, 0), (B1, B2))\n",
    "\n",
    "    L2 = L1.parallel_line(A)\n",
    "    task = f\"Известно, что прямая  L  проходит через начало координат и точку  B({B1},{B2}). Записать уравнение прямой, проходящей через точку  A({A1},{A2})  параллельно прямой  L\"\n",
    "    answer = L2.equation()\n",
    "\n",
    "    dic = {\n",
    "        \"task\": task,\n",
    "        \"data\": {}, #Нужно ли тут что - то на фронт возвращать? все данные уже в таске.\n",
    "        \"answer\": answer}\n",
    "    \n",
    "    return dic\n",
    "\n",
    "print(GenerateFindParalelLineEquationTask())"
   ]
  },
  {
   "cell_type": "code",
   "execution_count": 140,
   "metadata": {},
   "outputs": [
    {
     "name": "stdout",
     "output_type": "stream",
     "text": [
      "{'task': 'Составить уравнение прямой, проходящей через точку А(-4,9), параллельную прямой BC, если B(9,-8), C(7,9)', 'data': {}, 'answer': -17*x - 2*y - 50}\n"
     ]
    }
   ],
   "source": [
    "def GenerateFindParalelLineEquationByPointsTask():\n",
    "    A1,A2 = randint(-9, 9),randint(-9, 9)\n",
    "    B1,B2 = randint(-9, 9),randint(-9, 9)\n",
    "    C1,C2 = randint(-9, 9),randint(-9, 9)\n",
    "    A = sp.Point(A1,A2)\n",
    "    L1 = sp.Line((B1, B2), (C1, C2))\n",
    "\n",
    "    L2 = L1.parallel_line(A)\n",
    "    task = f\"Составить уравнение прямой, проходящей через точку А({A1},{A2}), параллельную прямой BC, если B({B1},{B2}), C({C1},{C2})\"\n",
    "    answer = L2.equation()\n",
    "\n",
    "    dic = {\n",
    "    \"task\": task,\n",
    "    \"data\": {}, #Нужно ли тут что - то на фронт возвращать? все данные уже в задаче.\n",
    "    \"answer\": answer}\n",
    "\n",
    "    return dic\n",
    "    \n",
    "print(GenerateFindParalelLineEquationByPointsTask())"
   ]
  },
  {
   "cell_type": "markdown",
   "metadata": {},
   "source": [
    "Поиск точки пересечения прямых"
   ]
  },
  {
   "cell_type": "code",
   "execution_count": 141,
   "metadata": {},
   "outputs": [
    {
     "name": "stdout",
     "output_type": "stream",
     "text": [
      "{'task': 'Найти точку пересечения прямых L1 и L2, если известно, что прямая L1 проходит через точки А(0,7) и B(-9,-8), а прямая L2 проходит через точки C(3,-1) и D(-8,9)', 'data': {}, 'answer': [-174/85, 61/17]}\n"
     ]
    }
   ],
   "source": [
    "def GenerateFindCrossPointOfTwoLinesTask():\n",
    "    A1,A2 = randint(-9, 9),randint(-9, 9)\n",
    "    B1,B2 = randint(-9, 9),randint(-9, 9)\n",
    "    C1,C2 = randint(-9, 9),randint(-9, 9)\n",
    "    D1,D2 = randint(-9, 9),randint(-9, 9)\n",
    "\n",
    "    L1 = sp.Line((A1, A2), (B1, B2))\n",
    "    L2 = sp.Line((C1, C2), (D1, D2))\n",
    "\n",
    "    task = f\"Найти точку пересечения прямых L1 и L2, если известно, что прямая L1 проходит через точки А({A1},{A2}) и B({B1},{B2}), а прямая L2 проходит через точки C({C1},{C2}) и D({D1},{D2})\"\n",
    "    answer = list(L1.intersection(L2)[0].coordinates)\n",
    "\n",
    "    dic = {\n",
    "    \"task\": task,\n",
    "    \"data\": {}, #Нужно ли тут что - то на фронт возвращать? все данные уже в задаче.\n",
    "    \"answer\": answer}\n",
    "    return dic\n",
    "\n",
    "\n",
    "print(GenerateFindCrossPointOfTwoLinesTask())"
   ]
  },
  {
   "cell_type": "markdown",
   "metadata": {},
   "source": [
    "Поиск расстояния от точки до прямой"
   ]
  },
  {
   "cell_type": "code",
   "execution_count": 142,
   "metadata": {},
   "outputs": [
    {
     "name": "stdout",
     "output_type": "stream",
     "text": [
      "{'task': 'Известно, что прямая L проходит через точки A(0,9) и B(8,-2). Из точки C(8,1) на прямую L опущен перпендикуляр, который касается её в точке D. Определить длину отрезка CD. Пример формы ответа: 3*sqrt(26)/13', 'data': {}, 'answer': 24*sqrt(185)/185}\n"
     ]
    }
   ],
   "source": [
    "def GenerateFindDicstanceFromLineToPointTask():\n",
    "    A1,A2 = randint(-9, 9),randint(-9, 9)\n",
    "    B1,B2 = randint(-9, 9),randint(-9, 9)\n",
    "    C1,C2 = randint(-9, 9),randint(-9, 9)\n",
    "\n",
    "    C = sp.Point(C1, C2)\n",
    "    L1 = sp.Line((A1, A2), (B1, B2))\n",
    "\n",
    "    task = f\"Известно, что прямая L проходит через точки A({A1},{A2}) и B({B1},{B2}). Из точки C({C1},{C2}) на прямую L опущен перпендикуляр, который касается её в точке D. Определить длину отрезка CD. Пример формы ответа: 3*sqrt(26)/13\"\n",
    "    answer = L1.perpendicular_segment(C).length\n",
    "\n",
    "    dic = {\n",
    "    \"task\": task,\n",
    "    \"data\": {}, #Нужно ли тут что - то на фронт возвращать? все данные уже в задаче.\n",
    "    \"answer\": answer}\n",
    "    return dic\n",
    "\n",
    "print(GenerateFindDicstanceFromLineToPointTask())"
   ]
  },
  {
   "cell_type": "markdown",
   "metadata": {},
   "source": [
    "Уравнение плоскости по трем точкам"
   ]
  },
  {
   "cell_type": "code",
   "execution_count": 143,
   "metadata": {},
   "outputs": [
    {
     "name": "stdout",
     "output_type": "stream",
     "text": [
      "{'task': 'Записать уравнение плоскости, проходящей через точки A(4,5,8), B(3,0,-2), C(-7,9,-2). Пример формы записи ответа: 38*x - 136*y - 126*z - 574', 'data': {}, 'answer': 90*x + 100*y - 59*z - 388}\n"
     ]
    }
   ],
   "source": [
    "def GenerateFindPlaneEquationByThreePointsTask():\n",
    "    A1,A2,A3 = randint(-9, 9),randint(-9, 9),randint(-9, 9)\n",
    "    B1,B2,B3 = randint(-9, 9),randint(-9, 9),randint(-9, 9)\n",
    "    C1,C2,C3 = randint(-9, 9),randint(-9, 9),randint(-9, 9)\n",
    "\n",
    "    alpha = sp.Plane(sp.Point3D(A1, A2, A3), sp.Point3D(B1, B2, B3), sp.Point3D(C1, C2, C3))\n",
    "\n",
    "    task = f\"Записать уравнение плоскости, проходящей через точки A({A1},{A2},{A3}), B({B1},{B2},{B3}), C({C1},{C2},{C3}). Пример формы записи ответа: 38*x - 136*y - 126*z - 574\"\n",
    "    answer = alpha.equation()\n",
    "\n",
    "    dic = {\n",
    "    \"task\": task,\n",
    "    \"data\": {}, #Нужно ли тут что - то на фронт возвращать? все данные уже в задаче.\n",
    "    \"answer\": answer}\n",
    "    return dic\n",
    "\n",
    "print(GenerateFindPlaneEquationByThreePointsTask())"
   ]
  },
  {
   "cell_type": "markdown",
   "metadata": {},
   "source": [
    "Уравнение прямой по нормальному вектору и точке"
   ]
  },
  {
   "cell_type": "code",
   "execution_count": 144,
   "metadata": {},
   "outputs": [
    {
     "name": "stdout",
     "output_type": "stream",
     "text": [
      "{'task': 'Записать уравнение плоскости a, которая проходит через точку M(1,2,-3) и перпендикулярна вектору n =(-8,2,-2). Пример записи ответа: -3*x - 8*y - 8*z + 85', 'data': {}, 'answer': -8*x + 2*y - 2*z - 2}\n"
     ]
    }
   ],
   "source": [
    "def GenerateFindPlaneEquationByPointAndNormalVector():\n",
    "    A1,A2,A3 = randint(-9, 9),randint(-9, 9),randint(-9, 9)\n",
    "    B1,B2,B3 = randint(-9, 9),randint(-9, 9),randint(-9, 9)\n",
    "\n",
    "    alpha = sp.Plane(sp.Point3D(A1, A2, A3), normal_vector =(B1, B2, B3))\n",
    "\n",
    "    task = f\"Записать уравнение плоскости a, которая проходит через точку M({A1},{A2},{A3}) и перпендикулярна вектору n =({B1},{B2},{B3}). Пример записи ответа: -3*x - 8*y - 8*z + 85\"\n",
    "    answer = alpha.equation()\n",
    "\n",
    "    dic = {\n",
    "    \"task\": task,\n",
    "    \"data\": {}, #Нужно ли тут что - то на фронт возвращать? все данные уже в задаче.\n",
    "    \"answer\": answer}\n",
    "    return dic\n",
    "\n",
    "print(GenerateFindPlaneEquationByPointAndNormalVector())"
   ]
  }
 ],
 "metadata": {
  "kernelspec": {
   "display_name": "Python 3",
   "language": "python",
   "name": "python3"
  },
  "language_info": {
   "codemirror_mode": {
    "name": "ipython",
    "version": 3
   },
   "file_extension": ".py",
   "mimetype": "text/x-python",
   "name": "python",
   "nbconvert_exporter": "python",
   "pygments_lexer": "ipython3",
   "version": "3.10.7"
  }
 },
 "nbformat": 4,
 "nbformat_minor": 2
}
