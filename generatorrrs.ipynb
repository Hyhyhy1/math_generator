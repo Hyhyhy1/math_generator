{
 "cells": [
  {
   "cell_type": "code",
   "execution_count": 26,
   "metadata": {},
   "outputs": [],
   "source": [
    "import numpy as np\n",
    "import sympy as sp\n",
    "import scipy as sci\n",
    "from math import *"
   ]
  },
  {
   "cell_type": "markdown",
   "metadata": {},
   "source": [
    "конвертация матрицы в для отправки"
   ]
  },
  {
   "cell_type": "code",
   "execution_count": 3,
   "metadata": {},
   "outputs": [
    {
     "data": {
      "text/plain": [
       "{'data': [[9, 6, 3], [2, 3, 6], [8, 3, 1]]}"
      ]
     },
     "execution_count": 3,
     "metadata": {},
     "output_type": "execute_result"
    }
   ],
   "source": [
    "dic = {\"data\": matrix.tolist()}\n",
    "dic"
   ]
  },
  {
   "cell_type": "markdown",
   "metadata": {},
   "source": [
    "конвертация массива в матрицу"
   ]
  },
  {
   "cell_type": "code",
   "execution_count": 4,
   "metadata": {},
   "outputs": [
    {
     "data": {
      "text/plain": [
       "matrix([[9, 6, 3],\n",
       "        [2, 3, 6],\n",
       "        [8, 3, 1]])"
      ]
     },
     "execution_count": 4,
     "metadata": {},
     "output_type": "execute_result"
    }
   ],
   "source": [
    "np.asmatrix(dic['data'])"
   ]
  },
  {
   "cell_type": "markdown",
   "metadata": {},
   "source": [
    "размер матрицы"
   ]
  },
  {
   "cell_type": "code",
   "execution_count": 5,
   "metadata": {},
   "outputs": [
    {
     "data": {
      "text/plain": [
       "True"
      ]
     },
     "execution_count": 5,
     "metadata": {},
     "output_type": "execute_result"
    }
   ],
   "source": [
    "matrix.shape == (matrix_size, matrix_size)"
   ]
  },
  {
   "cell_type": "markdown",
   "metadata": {},
   "source": [
    "определитель"
   ]
  },
  {
   "cell_type": "code",
   "execution_count": 6,
   "metadata": {},
   "outputs": [
    {
     "data": {
      "text/plain": [
       "(87.0, 87.0)"
      ]
     },
     "execution_count": 6,
     "metadata": {},
     "output_type": "execute_result"
    }
   ],
   "source": [
    "np.around(np.linalg.det(matrix), ), np.linalg.det(matrix)"
   ]
  },
  {
   "cell_type": "markdown",
   "metadata": {},
   "source": [
    "транспонирование"
   ]
  },
  {
   "cell_type": "code",
   "execution_count": 7,
   "metadata": {},
   "outputs": [
    {
     "data": {
      "text/plain": [
       "array([[9, 2, 8],\n",
       "       [6, 3, 3],\n",
       "       [3, 6, 1]])"
      ]
     },
     "execution_count": 7,
     "metadata": {},
     "output_type": "execute_result"
    }
   ],
   "source": [
    "matrix.transpose()"
   ]
  },
  {
   "cell_type": "markdown",
   "metadata": {},
   "source": [
    "Ранг матрицы"
   ]
  },
  {
   "cell_type": "code",
   "execution_count": 8,
   "metadata": {},
   "outputs": [
    {
     "data": {
      "text/plain": [
       "3"
      ]
     },
     "execution_count": 8,
     "metadata": {},
     "output_type": "execute_result"
    }
   ],
   "source": [
    "np.linalg.matrix_rank(matrix)"
   ]
  },
  {
   "cell_type": "markdown",
   "metadata": {},
   "source": [
    "обратная матрица"
   ]
  },
  {
   "cell_type": "code",
   "execution_count": 11,
   "metadata": {},
   "outputs": [
    {
     "data": {
      "text/plain": [
       "array([[-7, -5, -4],\n",
       "       [ 5, -2, -8],\n",
       "       [-9, -5,  6]])"
      ]
     },
     "execution_count": 11,
     "metadata": {},
     "output_type": "execute_result"
    }
   ],
   "source": [
    "a = np.random.randint(-9, 10, size=(3,3))\n",
    "while (np.linalg.det(a) == 0):\n",
    "  a = np.random.randint(-9, 10, size=(3,3))\n",
    "a"
   ]
  },
  {
   "cell_type": "code",
   "execution_count": 12,
   "metadata": {},
   "outputs": [
    {
     "data": {
      "text/plain": [
       "array([[-0.16 ,  0.153,  0.098],\n",
       "       [ 0.129, -0.239, -0.233],\n",
       "       [-0.132,  0.031,  0.12 ]])"
      ]
     },
     "execution_count": 12,
     "metadata": {},
     "output_type": "execute_result"
    }
   ],
   "source": [
    "InvA = np.around(np.linalg.inv(a), 3)\n",
    "InvA"
   ]
  },
  {
   "cell_type": "markdown",
   "metadata": {},
   "source": [
    "Сумма матриц"
   ]
  },
  {
   "cell_type": "code",
   "execution_count": 13,
   "metadata": {},
   "outputs": [
    {
     "data": {
      "text/plain": [
       "1"
      ]
     },
     "execution_count": 13,
     "metadata": {},
     "output_type": "execute_result"
    }
   ],
   "source": [
    "matrix = np.random.randint(10, size=(4, 4))\n",
    "row_count = matrix.shape[0]\n",
    "columns_count = matrix.shape[1]\n",
    "\n",
    "row_index = np.random.randint(0,row_count, size=(1,1))[0][0]\n",
    "column_index = np.random.randint(0,columns_count, size=(1,1))[0][0]\n",
    "answer = matrix[row_index][column_index]\n",
    "answer"
   ]
  },
  {
   "cell_type": "markdown",
   "metadata": {},
   "source": [
    "Умножение числа на матрицу"
   ]
  },
  {
   "cell_type": "code",
   "execution_count": 14,
   "metadata": {},
   "outputs": [
    {
     "data": {
      "text/plain": [
       "array([[48, 40, 64,  8],\n",
       "       [32, 72, 16, 40],\n",
       "       [16, 72, 72, 72],\n",
       "       [32, 16, 16, 48]])"
      ]
     },
     "execution_count": 14,
     "metadata": {},
     "output_type": "execute_result"
    }
   ],
   "source": [
    "matrix = np.random.randint(10, size=(4, 4))\n",
    "number = np.random.randint(1, 10, size=(1,1))[0][0]\n",
    "\n",
    "answer = matrix * number\n",
    "answer"
   ]
  },
  {
   "cell_type": "markdown",
   "metadata": {},
   "source": [
    "Умножение матриц"
   ]
  },
  {
   "cell_type": "code",
   "execution_count": 15,
   "metadata": {},
   "outputs": [
    {
     "data": {
      "text/plain": [
       "(array([[-3,  4],\n",
       "        [-3,  1]]),\n",
       " array([[-4,  0],\n",
       "        [-4,  2]]),\n",
       " array([[-4,  8],\n",
       "        [ 8,  2]]))"
      ]
     },
     "execution_count": 15,
     "metadata": {},
     "output_type": "execute_result"
    }
   ],
   "source": [
    "matrix1 = np.random.randint(-9, 10, size=(2,2))\n",
    "matrix2 = np.random.randint(-9, 10, size=(2,2))\n",
    "\n",
    "\n",
    "matrix1,matrix2,np.dot(matrix1, matrix2)"
   ]
  },
  {
   "cell_type": "markdown",
   "metadata": {},
   "source": [
    "Генерация невырожденной матрицы"
   ]
  },
  {
   "cell_type": "code",
   "execution_count": 16,
   "metadata": {},
   "outputs": [],
   "source": [
    "def generateNonsingularMatrix(min_value, max_value, rows_count, columns_count):\n",
    "  a = np.random.randint(min_value, max_value, size=(rows_count, columns_count))\n",
    "  while (np.linalg.det(a) == 0):\n",
    "    a = np.random.randint(min_value, max_value, size=(rows_count, columns_count))\n",
    "\n",
    "  return a"
   ]
  },
  {
   "cell_type": "markdown",
   "metadata": {},
   "source": [
    "Уравнение с определителем"
   ]
  },
  {
   "cell_type": "code",
   "execution_count": 99,
   "metadata": {},
   "outputs": [
    {
     "name": "stdout",
     "output_type": "stream",
     "text": [
      "{'task': 'Какое значение должно стоять на месте x, чтобы соблюдалось равенство?', 'data': {'matrix': [['-5', 'x', '3'], ['-5', '-9', '5'], ['-3', 'x', '4']], 'determinant': 69.0}, 'answer': -2}\n"
     ]
    }
   ],
   "source": [
    "def GenerateDeterminantEquationTask():\n",
    "  matrix = generateNonsingularMatrix(-9, 10, 3, 3)\n",
    "  determinant = np.around(np.linalg.det(matrix))\n",
    "\n",
    "  row_count = matrix.shape[0]\n",
    "  columns_count = matrix.shape[1]\n",
    "\n",
    "  row_index = np.random.randint(0,row_count, size=(1,1))[0][0]\n",
    "  column_index = np.random.randint(0,columns_count, size=(1,1))[0][0]\n",
    "  random_elem = matrix[row_index][column_index]\n",
    "\n",
    "  new_matrix = np.where(matrix == random_elem, \"x\", matrix)\n",
    "  task = \"Какое значение должно стоять на месте x, чтобы соблюдалось равенство?\" #Сделать запрос к бд\n",
    "\n",
    "  dic = {\n",
    "    \"task\":task,\n",
    "    \"data\": {\"matrix\": new_matrix.tolist(), \"determinant\": determinant},\n",
    "    \"answer\": int(random_elem)}\n",
    "  return dic\n",
    "\n",
    "print(GenerateDeterminantEquationTask())"
   ]
  },
  {
   "cell_type": "markdown",
   "metadata": {},
   "source": [
    "Матричные уравнения"
   ]
  },
  {
   "cell_type": "code",
   "execution_count": 80,
   "metadata": {},
   "outputs": [
    {
     "name": "stdout",
     "output_type": "stream",
     "text": [
      "{'task': 'Решите уравнение вида A*X = B. Ответ округлите до 3х знаков после запятой', 'data': {'A': [[2, -5, -8], [2, 5, -8], [-3, 9, -5]], 'B': [[2, 8, 3], [-3, 5, 3], [-8, 0, -2]]}, 'answer': [[0.75, 0.321, 0.912], [-0.5, -0.3, 0.0], [0.25, -0.732, -0.147]]}\n"
     ]
    }
   ],
   "source": [
    "def GenerateSolveMatrixEquationTask():\n",
    "  a = generateNonsingularMatrix(-9, 10, 3, 3)\n",
    "  b = generateNonsingularMatrix(-9, 10, 3, 3)\n",
    "  a1 = np.linalg.inv(a)\n",
    "  answer = np.around(np.dot(a1, b), 3)\n",
    "  task = \"Решите уравнение вида A*X = B. Ответ округлите до 3х знаков после запятой\"\n",
    "  dic = {\n",
    "  \"task\":task,\n",
    "  \"data\": {\"A\": a.tolist(), \"B\": b.tolist()},\n",
    "  \"answer\": answer.tolist()}\n",
    "  return dic\n",
    "\n",
    "print(GenerateSolveMatrixEquationTask())"
   ]
  },
  {
   "cell_type": "code",
   "execution_count": 79,
   "metadata": {},
   "outputs": [
    {
     "name": "stdout",
     "output_type": "stream",
     "text": [
      "{'task': 'Решите уравнение вида A·X·B = C. Ответ округлите до 3х знаков после запятой', 'data': {'A': [[-6, 1, -3], [-4, 1, -8], [-7, -2, 2]], 'B': [[-3, 9, -8], [-9, 6, 1], [-2, 6, 0]], 'C': [[-6, 4, 0], [-3, 4, 6], [-7, -5, 4]]}, 'answer': [[-0.023, -0.141, 0.151], [0.403, -0.095, -0.018], [0.152, 0.029, -0.266]]}\n"
     ]
    }
   ],
   "source": [
    "def GenerateSolveDoubleMatrixEquationTask():\n",
    "  task = \"Решите уравнение вида A·X·B = C. Ответ округлите до 3х знаков после запятой\"\n",
    "  a = generateNonsingularMatrix(-9, 10, 3, 3)\n",
    "  b = generateNonsingularMatrix(-9, 10, 3, 3)\n",
    "  c = generateNonsingularMatrix(-9, 10, 3, 3)\n",
    "  a1 = np.linalg.inv(a)\n",
    "  b1 = np.linalg.inv(b)\n",
    "  x = np.dot(a1,c)\n",
    "  answer = np.around(np.dot(x, b1), 3)\n",
    "  dic = {\n",
    "  \"task\":task,\n",
    "  \"data\": {\"A\": a.tolist(), \"B\": b.tolist(), \"C\": c.tolist()},\n",
    "  \"answer\": answer.tolist()}\n",
    "  return dic\n",
    "\n",
    "print(GenerateSolveDoubleMatrixEquationTask())"
   ]
  },
  {
   "cell_type": "markdown",
   "metadata": {},
   "source": [
    "Ранг матрицы"
   ]
  },
  {
   "cell_type": "code",
   "execution_count": 94,
   "metadata": {},
   "outputs": [
    {
     "name": "stdout",
     "output_type": "stream",
     "text": [
      "{'task': 'Определите ранг матрицы', 'data': [[-5, -9, -18], [-2, 3, 5], [-9, -3, -8]], 'answer': 2}\n"
     ]
    }
   ],
   "source": [
    "def GenerateFindMatrixRankTask():\n",
    "  switch = np.random.randint(0, 2, size=(1,1))[0][0]\n",
    "  task = \"Определите ранг матрицы\"\n",
    "\n",
    "  if switch == 0:\n",
    "    matrix = np.random.randint(-9, 10, size=(3,3))\n",
    "    answer = np.linalg.matrix_rank(matrix)\n",
    "      \n",
    "  else:\n",
    "    matrix = np.random.randint(-9, 10, size=(2,3))\n",
    "    factor1, factor2 = 0, 0\n",
    "    while factor1 == 0 or factor2 == 0:\n",
    "        factor1 = np.random.randint(-3, 4, size=(1,1))[0][0]\n",
    "        factor2 = np.random.randint(-3, 4, size=(1,1))[0][0]\n",
    "\n",
    "    matrix = np.vstack([matrix, factor1 * matrix[0] + factor2*matrix[1]])\n",
    "    np.random.shuffle(matrix)\n",
    "    answer = np.linalg.matrix_rank(matrix)\n",
    "  \n",
    "  dic = {\n",
    "  \"task\":task,\n",
    "  \"data\": matrix.tolist(),\n",
    "  \"answer\": answer.item()}\n",
    "  return dic\n",
    "\n",
    "print(GenerateFindMatrixRankTask())"
   ]
  },
  {
   "cell_type": "markdown",
   "metadata": {},
   "source": [
    "Система линейных уравнений"
   ]
  },
  {
   "cell_type": "code",
   "execution_count": 77,
   "metadata": {},
   "outputs": [
    {
     "name": "stdout",
     "output_type": "stream",
     "text": [
      "(array([[11,  0, -3],\n",
      "       [ 3, 18, 16],\n",
      "       [18,  2, -2]]), array([[ 7],\n",
      "       [14],\n",
      "       [11]]), array([[ 0.16504854],\n",
      "       [ 2.28640777],\n",
      "       [-1.72815534]]))\n"
     ]
    }
   ],
   "source": [
    "def generateSLU(x_count, equation_count, min_value, max_value):\n",
    "  a = np.random.randint(min_value, max_value, size=(equation_count, x_count))\n",
    "  while (np.linalg.det(a) == 0):\n",
    "    a = np.random.randint(min_value, max_value, size=(equation_count, x_count))\n",
    "\n",
    "  b = np.random.randint(min_value, max_value, size=(x_count, 1))\n",
    "  x = np.random.randint(1, size=(x_count, 1))\n",
    "\n",
    "  while((a.dot(x) != b).any()):\n",
    "    a = np.random.randint(min_value, max_value, size=(equation_count, x_count))\n",
    "    while (np.linalg.det(a) == 0):\n",
    "      a = np.random.randint(min_value, max_value, size=(equation_count, x_count))\n",
    "\n",
    "    b = np.random.randint(min_value, max_value, size=(x_count, 1))\n",
    "    x = np.linalg.solve(a, b)\n",
    "  return (a,b,x)\n",
    "\n",
    "print(generateSLU(3,3,-5, 21))"
   ]
  },
  {
   "cell_type": "code",
   "execution_count": 78,
   "metadata": {},
   "outputs": [
    {
     "name": "stdout",
     "output_type": "stream",
     "text": [
      "{'task': 'Решите систему линейных уравнений. Ответ округлите до 3х знаков после запятой', 'data': {'first_equation': '7*x + 3*y + 15*z = 9', 'second_equation': '8*x + 13*y + 20*z = 20', 'third_equation': '-4*x + -2*y + 13*z = 13'}, 'answer': [[-0.864], [0.761], [0.851]]}\n"
     ]
    }
   ],
   "source": [
    "def GenerateSolveLinearEquationTask():\n",
    "  a, b, x = generateSLU(3, 3, -5, 21)\n",
    "  first_equation = f\"{a[0][0]}*x + {a[0][1]}*y + {a[0][2]}*z = {b[0].item()}\"\n",
    "  second_equation = f\"{a[1][0]}*x + {a[1][1]}*y + {a[1][2]}*z = {b[1].item()}\"\n",
    "  third_equation = f\"{a[2][0]}*x + {a[2][1]}*y + {a[2][2]}*z = {b[2].item()}\"\n",
    "  task = \"Решите систему линейных уравнений. Ответ округлите до 3х знаков после запятой\"  \n",
    "  answer = np.around(x,3).tolist()\n",
    "  dic = {\n",
    "  \"task\":task,\n",
    "  \"data\": {\"first_equation\": first_equation, \"second_equation\": second_equation, \"third_equation\" : third_equation},\n",
    "  \"answer\": answer}\n",
    "  return dic\n",
    "\n",
    "print(GenerateSolveLinearEquationTask())"
   ]
  },
  {
   "cell_type": "markdown",
   "metadata": {},
   "source": [
    "Скалярное произведение векторов"
   ]
  },
  {
   "cell_type": "code",
   "execution_count": 59,
   "metadata": {},
   "outputs": [
    {
     "name": "stdout",
     "output_type": "stream",
     "text": [
      "{'task': 'Вычислите скалярное произведение векторов A и B.', 'data': {'A': [2, -11, -9], 'B': [4, 16, 10]}, 'answer': [8, -176, -90]}\n"
     ]
    }
   ],
   "source": [
    "def GenerateScalarVectorMultiplicationTask():\n",
    "  a = np.random.randint(-20, 21, size=(1,3))\n",
    "  b = np.random.randint(-20, 21, size=(1,3))\n",
    "  task = \"Вычислите скалярное произведение векторов A и B.\"\n",
    "  answer = a * b\n",
    "  dic = {\n",
    "    \"task\": task,\n",
    "    \"data\": {\"A\": a.tolist()[0], \"B\": b.tolist()[0]},\n",
    "    \"answer\": answer.tolist()[0]}\n",
    "  return dic\n",
    "\n",
    "print(GenerateScalarVectorMultiplicationTask())"
   ]
  },
  {
   "cell_type": "markdown",
   "metadata": {},
   "source": [
    "Векторное произведение векторов"
   ]
  },
  {
   "cell_type": "code",
   "execution_count": 53,
   "metadata": {},
   "outputs": [
    {
     "name": "stdout",
     "output_type": "stream",
     "text": [
      "{'task': 'Вычислите векторное произведение векторов А и В.', 'data': {'A': [15, -11, 2], 'B': [-4, -4, 1]}, 'answer': [-3, -23, -103]}\n"
     ]
    }
   ],
   "source": [
    "def GenerateVectorVectorMultiplicationTask():\n",
    "  a = np.random.randint(-20, 21, size=(1,3))\n",
    "  b = np.random.randint(-20, 21, size=(1,3))\n",
    "\n",
    "  combined = np.vstack([a, b])\n",
    "  xy = combined[:2, :2]\n",
    "  yz = combined[:2, 1:3]\n",
    "  xz = combined[:2, [0, 2]]\n",
    "  answer = np.array([int(np.linalg.det(yz)), -1 * int(np.linalg.det(xz)), int(np.linalg.det(xy))])\n",
    "  task = \"Вычислите векторное произведение векторов А и В.\"\n",
    "  dic = {\n",
    "    \"task\": task,\n",
    "    \"data\": {\"A\": a.tolist()[0], \"B\": b.tolist()[0]},\n",
    "    \"answer\": answer.tolist()}\n",
    "  return dic\n",
    "\n",
    "print(GenerateVectorVectorMultiplicationTask())\n"
   ]
  },
  {
   "cell_type": "markdown",
   "metadata": {},
   "source": [
    "Длина Вектора"
   ]
  },
  {
   "cell_type": "code",
   "execution_count": 49,
   "metadata": {},
   "outputs": [
    {
     "name": "stdout",
     "output_type": "stream",
     "text": [
      "{'task': 'Вычислите длинну вектора, полученную в результате векторного произведения A и B', 'data': {'A': [4, -6, 1], 'B': [5, -9, -15]}, 'answer': 118.038}\n"
     ]
    }
   ],
   "source": [
    "\n",
    "def GenerateVectorVectorMultiplicationModuleTask():\n",
    "  temp = GenerateVectorVectorMultiplicationTask()\n",
    "  a = temp[\"data\"][\"A\"]\n",
    "  b = temp[\"data\"][\"B\"]\n",
    "  vector = np.array(temp[\"answer\"])\n",
    "  answer = np.around(sqrt(vector[0]**2 + vector[1]**2 + vector[2]**2 ), 3)\n",
    "  task = \"Вычислите длинну вектора, полученную в результате векторного произведения A и B\"\n",
    "  dic = {\n",
    "    \"task\": task,\n",
    "    \"data\": {\"A\": a, \"B\": b},\n",
    "    \"answer\": answer.tolist()}\n",
    "  return dic\n",
    "\n",
    "\n",
    "print(GenerateVectorVectorMultiplicationModuleTask())"
   ]
  },
  {
   "cell_type": "markdown",
   "metadata": {},
   "source": [
    "Смешанное произведение векторов"
   ]
  },
  {
   "cell_type": "code",
   "execution_count": 47,
   "metadata": {},
   "outputs": [
    {
     "name": "stdout",
     "output_type": "stream",
     "text": [
      "{'task': 'Вычислите смешанное произведение векторов A, B и C', 'data': {'A': [10, 11, -14], 'B': [-10, 8, 0], 'C': [14, 7, -18]}, 'answer': -872.0}\n"
     ]
    }
   ],
   "source": [
    "def GenerateMixedVectorMultiplicationTask():\n",
    "  a = np.random.randint(-20, 21, size=(1,3))\n",
    "  b = np.random.randint(-20, 21, size=(1,3))\n",
    "  c = np.random.randint(-20, 21, size=(1,3))\n",
    "\n",
    "  combined = np.vstack([a, b, c])\n",
    "  answer = np.around(np.linalg.det(combined))\n",
    "  task = \"Вычислите смешанное произведение векторов A, B и C\"\n",
    "  dic = {\n",
    "    \"task\": task,\n",
    "    \"data\": {\"A\": a.tolist()[0], \"B\": b.tolist()[0], \"C\": c.tolist()[0]},\n",
    "    \"answer\": answer}\n",
    "  return dic\n",
    "\n",
    "print(GenerateMixedVectorMultiplicationTask())\n"
   ]
  }
 ],
 "metadata": {
  "kernelspec": {
   "display_name": "Python 3",
   "language": "python",
   "name": "python3"
  },
  "language_info": {
   "codemirror_mode": {
    "name": "ipython",
    "version": 3
   },
   "file_extension": ".py",
   "mimetype": "text/x-python",
   "name": "python",
   "nbconvert_exporter": "python",
   "pygments_lexer": "ipython3",
   "version": "3.10.7"
  }
 },
 "nbformat": 4,
 "nbformat_minor": 2
}
