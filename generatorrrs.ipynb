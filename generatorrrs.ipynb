{
 "cells": [
  {
   "cell_type": "code",
   "execution_count": 2,
   "metadata": {},
   "outputs": [],
   "source": [
    "import io\n",
    "import spb\n",
    "import numpy as np\n",
    "import sympy as sp\n",
    "import scipy as sc\n",
    "import sympy.plotting as smp\n",
    "from math import *\n",
    "from random import *\n",
    "from sympy import S, real_roots\n",
    "from sympy.abc import x, y"
   ]
  },
  {
   "cell_type": "markdown",
   "metadata": {},
   "source": [
    "конвертация матрицы в для отправки"
   ]
  },
  {
   "cell_type": "code",
   "execution_count": 3,
   "metadata": {},
   "outputs": [
    {
     "data": {
      "text/plain": [
       "{'data': [[1, 0, -2], [-2, 6, 5]]}"
      ]
     },
     "execution_count": 3,
     "metadata": {},
     "output_type": "execute_result"
    }
   ],
   "source": [
    "matrix = np.random.randint(-3,10,size=(2,3))\n",
    "dic = {\"data\": matrix.tolist()}\n",
    "dic"
   ]
  },
  {
   "cell_type": "markdown",
   "metadata": {},
   "source": [
    "конвертация массива в матрицу"
   ]
  },
  {
   "cell_type": "code",
   "execution_count": 4,
   "metadata": {},
   "outputs": [
    {
     "data": {
      "text/plain": [
       "matrix([[ 1,  0, -2],\n",
       "        [-2,  6,  5]])"
      ]
     },
     "execution_count": 4,
     "metadata": {},
     "output_type": "execute_result"
    }
   ],
   "source": [
    "np.asmatrix(dic['data'])"
   ]
  },
  {
   "cell_type": "markdown",
   "metadata": {},
   "source": [
    "определитель"
   ]
  },
  {
   "cell_type": "code",
   "execution_count": 5,
   "metadata": {},
   "outputs": [
    {
     "data": {
      "text/plain": [
       "(-104.0, -103.99999999999999)"
      ]
     },
     "execution_count": 5,
     "metadata": {},
     "output_type": "execute_result"
    }
   ],
   "source": [
    "matrix = np.random.randint(-3,10,size=(3,3))\n",
    "np.around(np.linalg.det(matrix), 1 ), np.linalg.det(matrix)"
   ]
  },
  {
   "cell_type": "markdown",
   "metadata": {},
   "source": [
    "транспонирование"
   ]
  },
  {
   "cell_type": "code",
   "execution_count": 6,
   "metadata": {},
   "outputs": [
    {
     "data": {
      "text/plain": [
       "array([[ 7,  0,  3],\n",
       "       [ 2, -1,  3],\n",
       "       [ 7,  6,  5]])"
      ]
     },
     "execution_count": 6,
     "metadata": {},
     "output_type": "execute_result"
    }
   ],
   "source": [
    "matrix.transpose()"
   ]
  },
  {
   "cell_type": "markdown",
   "metadata": {},
   "source": [
    "Ранг матрицы"
   ]
  },
  {
   "cell_type": "code",
   "execution_count": 7,
   "metadata": {},
   "outputs": [
    {
     "data": {
      "text/plain": [
       "3"
      ]
     },
     "execution_count": 7,
     "metadata": {},
     "output_type": "execute_result"
    }
   ],
   "source": [
    "np.linalg.matrix_rank(matrix)"
   ]
  },
  {
   "cell_type": "markdown",
   "metadata": {},
   "source": [
    "обратная матрица"
   ]
  },
  {
   "cell_type": "code",
   "execution_count": 8,
   "metadata": {},
   "outputs": [
    {
     "data": {
      "text/plain": [
       "array([[-3, -2,  5],\n",
       "       [-4,  5, -1],\n",
       "       [ 2, -9, -6]])"
      ]
     },
     "execution_count": 8,
     "metadata": {},
     "output_type": "execute_result"
    }
   ],
   "source": [
    "a = np.random.randint(-9, 10, size=(3,3))\n",
    "while (np.linalg.det(a) == 0):\n",
    "  a = np.random.randint(-9, 10, size=(3,3))\n",
    "a"
   ]
  },
  {
   "cell_type": "code",
   "execution_count": 9,
   "metadata": {},
   "outputs": [
    {
     "data": {
      "text/plain": [
       "array([[-0.1, -0.2, -0.1],\n",
       "       [-0.1,  0. , -0.1],\n",
       "       [ 0.1, -0.1, -0.1]])"
      ]
     },
     "execution_count": 9,
     "metadata": {},
     "output_type": "execute_result"
    }
   ],
   "source": [
    "InvA = np.around(np.linalg.inv(a), 1)\n",
    "InvA"
   ]
  },
  {
   "cell_type": "markdown",
   "metadata": {},
   "source": [
    "Сумма матриц"
   ]
  },
  {
   "cell_type": "code",
   "execution_count": 10,
   "metadata": {},
   "outputs": [
    {
     "data": {
      "text/plain": [
       "2"
      ]
     },
     "execution_count": 10,
     "metadata": {},
     "output_type": "execute_result"
    }
   ],
   "source": [
    "matrix = np.random.randint(10, size=(4, 4))\n",
    "row_count = matrix.shape[0]\n",
    "columns_count = matrix.shape[1]\n",
    "\n",
    "row_index = np.random.randint(0,row_count, size=(1,1))[0][0]\n",
    "column_index = np.random.randint(0,columns_count, size=(1,1))[0][0]\n",
    "answer = matrix[row_index][column_index]\n",
    "answer"
   ]
  },
  {
   "cell_type": "markdown",
   "metadata": {},
   "source": [
    "Умножение числа на матрицу"
   ]
  },
  {
   "cell_type": "code",
   "execution_count": 11,
   "metadata": {},
   "outputs": [
    {
     "data": {
      "text/plain": [
       "array([[56, 24, 24,  0],\n",
       "       [40, 48, 24, 16],\n",
       "       [ 8,  0, 56, 24],\n",
       "       [40, 32, 24,  8]])"
      ]
     },
     "execution_count": 11,
     "metadata": {},
     "output_type": "execute_result"
    }
   ],
   "source": [
    "matrix = np.random.randint(10, size=(4, 4))\n",
    "number = np.random.randint(1, 10, size=(1,1))[0][0]\n",
    "\n",
    "answer = matrix * number\n",
    "answer"
   ]
  },
  {
   "cell_type": "markdown",
   "metadata": {},
   "source": [
    "Умножение матриц"
   ]
  },
  {
   "cell_type": "code",
   "execution_count": 12,
   "metadata": {},
   "outputs": [
    {
     "data": {
      "text/plain": [
       "(array([[ 6, -4],\n",
       "        [ 5,  6]]),\n",
       " array([[ 3, -7],\n",
       "        [ 2, -5]]),\n",
       " array([[ 10, -22],\n",
       "        [ 27, -65]]))"
      ]
     },
     "execution_count": 12,
     "metadata": {},
     "output_type": "execute_result"
    }
   ],
   "source": [
    "matrix1 = np.random.randint(-9, 10, size=(2,2))\n",
    "matrix2 = np.random.randint(-9, 10, size=(2,2))\n",
    "\n",
    "\n",
    "matrix1,matrix2,np.dot(matrix1, matrix2)"
   ]
  },
  {
   "cell_type": "markdown",
   "metadata": {},
   "source": [
    "Генерация невырожденной матрицы"
   ]
  },
  {
   "cell_type": "code",
   "execution_count": 13,
   "metadata": {},
   "outputs": [],
   "source": [
    "def generateNonsingularMatrix(min_value, max_value, rows_count, columns_count):\n",
    "  a = np.random.randint(min_value, max_value, size=(rows_count, columns_count))\n",
    "  while (np.linalg.det(a) == 0):\n",
    "    a = np.random.randint(min_value, max_value, size=(rows_count, columns_count))\n",
    "\n",
    "  return a"
   ]
  },
  {
   "cell_type": "markdown",
   "metadata": {},
   "source": [
    "Уравнение с определителем"
   ]
  },
  {
   "cell_type": "code",
   "execution_count": 14,
   "metadata": {},
   "outputs": [
    {
     "name": "stdout",
     "output_type": "stream",
     "text": [
      "{'task': 'Какое значение должно стоять на месте x, чтобы соблюдалось равенство?', 'data': {'matrix': [['-7', '7', '6'], ['4', '4', '-1'], ['1', '1', 'x']], 'determinant': 154.0}, 'answer': -3}\n"
     ]
    }
   ],
   "source": [
    "def GenerateDeterminantEquationTask():\n",
    "  matrix = generateNonsingularMatrix(-9, 10, 3, 3)\n",
    "  determinant = np.around(np.linalg.det(matrix))\n",
    "\n",
    "  row_count = matrix.shape[0]\n",
    "  columns_count = matrix.shape[1]\n",
    "\n",
    "  row_index = np.random.randint(0,row_count, size=(1,1))[0][0]\n",
    "  column_index = np.random.randint(0,columns_count, size=(1,1))[0][0]\n",
    "  random_elem = matrix[row_index][column_index]\n",
    "\n",
    "  new_matrix = np.where(matrix == random_elem, \"x\", matrix)\n",
    "  task = \"Какое значение должно стоять на месте x, чтобы соблюдалось равенство?\" \n",
    "\n",
    "  dic = {\n",
    "    \"task\":task,\n",
    "    \"data\": {\"matrix\": new_matrix.tolist(), \"determinant\": determinant},\n",
    "    \"answer\": int(random_elem)}\n",
    "  return dic\n",
    "\n",
    "print(GenerateDeterminantEquationTask())"
   ]
  },
  {
   "cell_type": "markdown",
   "metadata": {},
   "source": [
    "Матричные уравнения"
   ]
  },
  {
   "cell_type": "code",
   "execution_count": 38,
   "metadata": {},
   "outputs": [
    {
     "name": "stdout",
     "output_type": "stream",
     "text": [
      "{'task': 'Решите уравнение вида A*X = B. Ответ округлите до 3х знаков после запятой', 'data': {'A': [[0, -7, 9], [0, 4, -2], [-3, 5, -7]], 'B': [[4, -1, 8], [9, 9, 9], [-2, 7, 7]]}, 'answer': [[-0.97, -2.606, -5.061], [4.045, 3.591, 4.409], [3.591, 2.682, 4.318]]}\n"
     ]
    }
   ],
   "source": [
    "def GenerateSolveMatrixEquationTask():\n",
    "  switch = randint(0, 1)\n",
    "\n",
    "  if switch == 0:\n",
    "    a = generateNonsingularMatrix(-9, 10, 3, 3)\n",
    "    b = generateNonsingularMatrix(-9, 10, 3, 3)\n",
    "    a1 = np.linalg.inv(a)\n",
    "    answer = np.around(np.dot(a1, b), 3)\n",
    "    task = \"Решите уравнение вида A*X = B. Ответ округлите до 3х знаков после запятой\"\n",
    "  else:\n",
    "    a = generateNonsingularMatrix(-9, 10, 3, 3)\n",
    "    b = generateNonsingularMatrix(-9, 10, 3, 3)\n",
    "    a1 = np.linalg.inv(a)\n",
    "    answer = np.around(np.dot(b,a1), 3)\n",
    "    task = \"Решите уравнение вида X*A = B. Ответ округлите до 3х знаков после запятой\"\n",
    "    \n",
    "  dic = {\n",
    "  \"task\":task,\n",
    "  \"data\": {\"A\": a.tolist(), \"B\": b.tolist()},\n",
    "  \"answer\": answer.tolist()}\n",
    "  return dic\n",
    "\n",
    "print(GenerateSolveMatrixEquationTask())"
   ]
  },
  {
   "cell_type": "code",
   "execution_count": 16,
   "metadata": {},
   "outputs": [
    {
     "name": "stdout",
     "output_type": "stream",
     "text": [
      "{'task': 'Решите уравнение вида A·X·B = C. Ответ округлите до 3х знаков после запятой', 'data': {'A': [[-4, -6, 3], [0, -1, -9], [-2, -2, -1]], 'B': [[6, -4, 5], [6, -1, 4], [-3, -4, -7]], 'C': [[5, 4, 4], [-1, 2, 4], [-1, 5, 9]]}, 'answer': [[-1.471, 2.847, 1.809], [1.069, -2.011, -1.044], [-0.186, 0.355, 0.206]]}\n"
     ]
    }
   ],
   "source": [
    "def GenerateSolveDoubleMatrixEquationTask():\n",
    "  task = \"Решите уравнение вида A·X·B = C. Ответ округлите до 3х знаков после запятой\"\n",
    "  a = generateNonsingularMatrix(-9, 10, 3, 3)\n",
    "  b = generateNonsingularMatrix(-9, 10, 3, 3)\n",
    "  c = generateNonsingularMatrix(-9, 10, 3, 3)\n",
    "  a1 = np.linalg.inv(a)\n",
    "  b1 = np.linalg.inv(b)\n",
    "  x = np.dot(a1,c)\n",
    "  answer = np.around(np.dot(x, b1), 3)\n",
    "  dic = {\n",
    "  \"task\":task,\n",
    "  \"data\": {\"A\": a.tolist(), \"B\": b.tolist(), \"C\": c.tolist()},\n",
    "  \"answer\": answer.tolist()}\n",
    "  return dic\n",
    "\n",
    "print(GenerateSolveDoubleMatrixEquationTask())"
   ]
  },
  {
   "cell_type": "markdown",
   "metadata": {},
   "source": [
    "Ранг матрицы"
   ]
  },
  {
   "cell_type": "code",
   "execution_count": 17,
   "metadata": {},
   "outputs": [
    {
     "name": "stdout",
     "output_type": "stream",
     "text": [
      "{'task': 'Определите ранг матрицы', 'data': [[-9, 2, 8], [-2, -9, 4], [2, 8, -7]], 'answer': 3}\n"
     ]
    }
   ],
   "source": [
    "def GenerateFindMatrixRankTask():\n",
    "  switch = np.random.randint(0, 2, size=(1,1))[0][0]\n",
    "  task = \"Определите ранг матрицы\"\n",
    "\n",
    "  if switch == 0:\n",
    "    matrix = np.random.randint(-9, 10, size=(3,3))\n",
    "    answer = np.linalg.matrix_rank(matrix)\n",
    "      \n",
    "  else:\n",
    "    matrix = np.random.randint(-9, 10, size=(2,3))\n",
    "    factor1, factor2 = 0, 0\n",
    "    while factor1 == 0 or factor2 == 0:\n",
    "        factor1 = np.random.randint(-3, 4, size=(1,1))[0][0]\n",
    "        factor2 = np.random.randint(-3, 4, size=(1,1))[0][0]\n",
    "\n",
    "    matrix = np.vstack([matrix, factor1 * matrix[0] + factor2*matrix[1]])\n",
    "    np.random.shuffle(matrix)\n",
    "    answer = np.linalg.matrix_rank(matrix)\n",
    "  \n",
    "  dic = {\n",
    "  \"task\":task,\n",
    "  \"data\": matrix.tolist(),\n",
    "  \"answer\": answer.item()}\n",
    "  return dic\n",
    "\n",
    "print(GenerateFindMatrixRankTask())"
   ]
  },
  {
   "cell_type": "markdown",
   "metadata": {},
   "source": [
    "Система линейных уравнений"
   ]
  },
  {
   "cell_type": "code",
   "execution_count": 18,
   "metadata": {},
   "outputs": [
    {
     "name": "stdout",
     "output_type": "stream",
     "text": [
      "(array([[ 7,  4,  1],\n",
      "       [ 5,  1, -3],\n",
      "       [ 8,  1, -3]]), array([[16],\n",
      "       [18],\n",
      "       [19]]), array([[ 0.33333333],\n",
      "       [ 4.41025641],\n",
      "       [-3.97435897]]))\n"
     ]
    }
   ],
   "source": [
    "def generateSLU(x_count, equation_count, min_value, max_value):\n",
    "  a = np.random.randint(min_value, max_value, size=(equation_count, x_count))\n",
    "  while (np.linalg.det(a) == 0):\n",
    "    a = np.random.randint(min_value, max_value, size=(equation_count, x_count))\n",
    "\n",
    "  b = np.random.randint(min_value, max_value, size=(x_count, 1))\n",
    "  x = np.random.randint(1, size=(x_count, 1))\n",
    "\n",
    "  while((a.dot(x) != b).any()):\n",
    "    a = np.random.randint(min_value, max_value, size=(equation_count, x_count))\n",
    "    while (np.linalg.det(a) == 0):\n",
    "      a = np.random.randint(min_value, max_value, size=(equation_count, x_count))\n",
    "\n",
    "    b = np.random.randint(min_value, max_value, size=(x_count, 1))\n",
    "    x = np.linalg.solve(a, b)\n",
    "  return (a,b,x)\n",
    "\n",
    "print(generateSLU(3,3,-5, 21))"
   ]
  },
  {
   "cell_type": "code",
   "execution_count": 19,
   "metadata": {},
   "outputs": [
    {
     "name": "stdout",
     "output_type": "stream",
     "text": [
      "{'task': 'Решите систему линейных уравнений. Ответ округлите до 3х знаков после запятой', 'data': {'first_equation': '8*x + 12*y + 15*z = 10', 'second_equation': '10*x + 12*y + 3*z = 4', 'third_equation': '3*x + 7*y + 6*z = 4'}, 'answer': [[0.2], [0.0], [0.5]]}\n"
     ]
    }
   ],
   "source": [
    "def GenerateSolveLinearEquationTask():\n",
    "  a, b, x = generateSLU(3, 3, -5, 21)\n",
    "  first_equation = f\"{a[0][0]}*x + {a[0][1]}*y + {a[0][2]}*z = {b[0].item()}\"\n",
    "  second_equation = f\"{a[1][0]}*x + {a[1][1]}*y + {a[1][2]}*z = {b[1].item()}\"\n",
    "  third_equation = f\"{a[2][0]}*x + {a[2][1]}*y + {a[2][2]}*z = {b[2].item()}\"\n",
    "  task = \"Решите систему линейных уравнений. Ответ округлите до 3х знаков после запятой\"  \n",
    "  answer = np.around(x,1).tolist()\n",
    "  dic = {\n",
    "  \"task\":task,\n",
    "  \"data\": {\"first_equation\": first_equation, \"second_equation\": second_equation, \"third_equation\" : third_equation},\n",
    "  \"answer\": answer}\n",
    "  return dic\n",
    "\n",
    "print(GenerateSolveLinearEquationTask())"
   ]
  },
  {
   "cell_type": "markdown",
   "metadata": {},
   "source": [
    "Скалярное произведение векторов"
   ]
  },
  {
   "cell_type": "code",
   "execution_count": 20,
   "metadata": {},
   "outputs": [
    {
     "name": "stdout",
     "output_type": "stream",
     "text": [
      "{'task': 'Вычислите скалярное произведение векторов A и B.', 'data': {'A': [-8, -13, -19], 'B': [8, -18, -6]}, 'answer': 284}\n"
     ]
    }
   ],
   "source": [
    "def GenerateScalarVectorMultiplicationTask():\n",
    "  a = np.random.randint(-20, 21, size=(1,3))[0]\n",
    "  b = np.random.randint(-20, 21, size=(1,3))[0]\n",
    "  task = \"Вычислите скалярное произведение векторов A и B.\"\n",
    "  answer = a @ b\n",
    "  dic = {\n",
    "    \"task\": task,\n",
    "    \"data\": {\"A\": a.tolist(), \"B\": b.tolist()},\n",
    "    \"answer\": answer}\n",
    "  return dic\n",
    "\n",
    "print(GenerateScalarVectorMultiplicationTask())"
   ]
  },
  {
   "cell_type": "markdown",
   "metadata": {},
   "source": [
    "Векторное произведение векторов"
   ]
  },
  {
   "cell_type": "code",
   "execution_count": 21,
   "metadata": {},
   "outputs": [
    {
     "name": "stdout",
     "output_type": "stream",
     "text": [
      "{'task': 'Вычислите векторное произведение векторов А и В.', 'data': {'A': [-3, 3, 15], 'B': [8, 0, -19]}, 'answer': [-57, 62, -23]}\n"
     ]
    }
   ],
   "source": [
    "def GenerateVectorVectorMultiplicationTask():\n",
    "  a = np.random.randint(-20, 21, size=(1,3))\n",
    "  b = np.random.randint(-20, 21, size=(1,3))\n",
    "\n",
    "  combined = np.vstack([a, b])\n",
    "  xy = combined[:2, :2]\n",
    "  yz = combined[:2, 1:3]\n",
    "  xz = combined[:2, [0, 2]]\n",
    "  answer = np.array([int(np.linalg.det(yz)), -1 * int(np.linalg.det(xz)), int(np.linalg.det(xy))])\n",
    "  task = \"Вычислите векторное произведение векторов А и В.\"\n",
    "  dic = {\n",
    "    \"task\": task,\n",
    "    \"data\": {\"A\": a.tolist()[0], \"B\": b.tolist()[0]},\n",
    "    \"answer\": answer.tolist()}\n",
    "  return dic\n",
    "\n",
    "print(GenerateVectorVectorMultiplicationTask())\n"
   ]
  },
  {
   "cell_type": "markdown",
   "metadata": {},
   "source": [
    "Длина Вектора"
   ]
  },
  {
   "cell_type": "code",
   "execution_count": 22,
   "metadata": {},
   "outputs": [
    {
     "name": "stdout",
     "output_type": "stream",
     "text": [
      "{'task': 'Вычислите длинну вектора, полученную в результате векторного произведения A и B', 'data': {'A': [-11, 3, -20], 'B': [11, -6, -19]}, 'answer': 465.3}\n"
     ]
    }
   ],
   "source": [
    "\n",
    "def GenerateVectorVectorMultiplicationModuleTask():\n",
    "  temp = GenerateVectorVectorMultiplicationTask()\n",
    "  a = temp[\"data\"][\"A\"]\n",
    "  b = temp[\"data\"][\"B\"]\n",
    "  vector = np.array(temp[\"answer\"])\n",
    "  answer = np.around(sqrt(vector[0]**2 + vector[1]**2 + vector[2]**2 ), 1)\n",
    "  task = \"Вычислите длинну вектора, полученную в результате векторного произведения A и B\"\n",
    "  dic = {\n",
    "    \"task\": task,\n",
    "    \"data\": {\"A\": a, \"B\": b},\n",
    "    \"answer\": answer.tolist()}\n",
    "  return dic\n",
    "\n",
    "\n",
    "print(GenerateVectorVectorMultiplicationModuleTask())"
   ]
  },
  {
   "cell_type": "markdown",
   "metadata": {},
   "source": [
    "Смешанное произведение векторов"
   ]
  },
  {
   "cell_type": "code",
   "execution_count": 23,
   "metadata": {},
   "outputs": [
    {
     "name": "stdout",
     "output_type": "stream",
     "text": [
      "{'task': 'Вычислите смешанное произведение векторов A, B и C', 'data': {'A': [19, 4, 20], 'B': [-20, -16, -8], 'C': [1, 3, 13]}, 'answer': -3368.0}\n"
     ]
    }
   ],
   "source": [
    "def GenerateMixedVectorMultiplicationTask():\n",
    "  a = np.random.randint(-20, 21, size=(1,3))\n",
    "  b = np.random.randint(-20, 21, size=(1,3))\n",
    "  c = np.random.randint(-20, 21, size=(1,3))\n",
    "\n",
    "  combined = np.vstack([a, b, c])\n",
    "  answer = np.around(np.linalg.det(combined))\n",
    "  task = \"Вычислите смешанное произведение векторов A, B и C\"\n",
    "  dic = {\n",
    "    \"task\": task,\n",
    "    \"data\": {\"A\": a.tolist()[0], \"B\": b.tolist()[0], \"C\": c.tolist()[0]},\n",
    "    \"answer\": answer}\n",
    "  return dic\n",
    "\n",
    "print(GenerateMixedVectorMultiplicationTask())\n"
   ]
  },
  {
   "cell_type": "markdown",
   "metadata": {},
   "source": [
    "Коллинеарность векторов"
   ]
  },
  {
   "cell_type": "code",
   "execution_count": 24,
   "metadata": {},
   "outputs": [
    {
     "name": "stdout",
     "output_type": "stream",
     "text": [
      "{'task': 'Являются ли вектор A и вектор B коллинеарными? В ответе указать Да или Нет.', 'data': {'A': [16, 13, -15], 'B': [-9, -4, -13]}, 'ansver': 'Нет'}\n"
     ]
    }
   ],
   "source": [
    "def GenerateIsCollinearVectorsTask():\n",
    "  switch = np.random.randint(0, 2, size=(1,1))[0][0]\n",
    "\n",
    "  if switch == 0:\n",
    "    a = np.random.randint(-20, 21, size=(1,3))[0]\n",
    "    b = np.random.randint(-20, 21, size=(1,3))[0]\n",
    "  else:\n",
    "    fraction = np.random.randint(-3, 5, size=(1,1))[0][0]\n",
    "    a = np.random.randint(-20, 21, size=(1,3))[0]\n",
    "    b = fraction * a\n",
    "\n",
    "  first,second,third = a[0]/b[0],a[1]/b[1],a[2]/b[2]\n",
    "\n",
    "  task = \"Являются ли вектор A и вектор B коллинеарными? В ответе указать Да или Нет.\"\n",
    "  ansver = \"Да\" if np.equal(first,second) and np.equal(first,third) else \"Нет\"\n",
    "\n",
    "  dic = {\n",
    "    \"task\": task,\n",
    "    \"data\": {\"A\": a.tolist(), \"B\": b.tolist()},\n",
    "    \"ansver\": ansver}\n",
    "\n",
    "  return dic\n",
    "\n",
    "print(GenerateIsCollinearVectorsTask())"
   ]
  },
  {
   "cell_type": "markdown",
   "metadata": {},
   "source": [
    "Компланарность векторов"
   ]
  },
  {
   "cell_type": "code",
   "execution_count": 25,
   "metadata": {},
   "outputs": [
    {
     "name": "stdout",
     "output_type": "stream",
     "text": [
      "[[6 6 6]\n",
      " [9 6 5]\n",
      " [6 6 6]]\n"
     ]
    }
   ],
   "source": [
    "def generateSingularMatrix(min_value, max_value, rows_count, columns_count):\n",
    "  a = np.random.randint(min_value, max_value, size=(rows_count, columns_count))\n",
    "  while (np.linalg.det(a) != 0):\n",
    "    a = np.random.randint(min_value, max_value, size=(rows_count, columns_count))\n",
    "  return a\n",
    "\n",
    "print(generateSingularMatrix(1, 10, 3, 3))"
   ]
  },
  {
   "cell_type": "code",
   "execution_count": 26,
   "metadata": {},
   "outputs": [
    {
     "name": "stdout",
     "output_type": "stream",
     "text": [
      "{'task': 'Являются ли векторы A B и C компланарными? В ответе указать Да или Нет.', 'data': {'A': [-9, 2, 15], 'B': [2, -5, 9], 'C': [4, 13, -20]}, 'answer': 'Нет'}\n"
     ]
    }
   ],
   "source": [
    "def GenerateIsComplanarVectorsTask():\n",
    "  switch = np.random.randint(0, 2, size=(1,1))[0][0]\n",
    "\n",
    "  if switch == 0:\n",
    "    data = generateNonsingularMatrix(-20, 21, 3, 3)\n",
    "  else:\n",
    "    data = generateSingularMatrix(-20, 21, 3, 3)\n",
    "  \n",
    "  task = \"Являются ли векторы A B и C компланарными? В ответе указать Да или Нет.\"\n",
    "  answer = \"Да\" if switch != 0 else \"Нет\"\n",
    "\n",
    "  dic = {\n",
    "    \"task\": task,\n",
    "    \"data\": {\"A\": data[0].tolist(), \"B\":data[1].tolist(), \"C\": data[2].tolist()},\n",
    "    \"answer\": answer}\n",
    "  \n",
    "  return dic\n",
    "\n",
    "print(GenerateIsComplanarVectorsTask())\n",
    "    "
   ]
  },
  {
   "cell_type": "markdown",
   "metadata": {},
   "source": [
    "Поиск уравнения прямой"
   ]
  },
  {
   "cell_type": "code",
   "execution_count": 27,
   "metadata": {},
   "outputs": [
    {
     "name": "stdout",
     "output_type": "stream",
     "text": [
      "{'task': 'Составить уравнение прямой, проходящей через две точки:  A(-3,3)  и  B(-2,7)', 'data': {}, 'answer': -4*x + y - 15}\n"
     ]
    }
   ],
   "source": [
    "def GenerateFindLineEquationByPointsTask():\n",
    "    A1,A2 = randint(-9, 9),randint(-9, 9)\n",
    "    B1,B2 = randint(-9, 9),randint(-9, 9)\n",
    "\n",
    "    A, B = sp.Point(A1, A2), sp.Point(B1, B2)\n",
    "    L = sp.Line(A, B)\n",
    "\n",
    "    task = f\"Составить уравнение прямой, проходящей через две точки:  A({A1},{A2})  и  B({B1},{B2})\"\n",
    "    answer = L.equation()\n",
    "\n",
    "    dic = {\n",
    "    \"task\": task,\n",
    "    \"data\": {}, #Нужно ли тут что - то на фронт возвращать? все данные уже в задаче.\n",
    "    \"answer\": answer}\n",
    "    return dic\n",
    "\n",
    "print(GenerateFindLineEquationByPointsTask())"
   ]
  },
  {
   "cell_type": "markdown",
   "metadata": {},
   "source": [
    "Поиск уравнения паралельного вектора, проходящего через точку."
   ]
  },
  {
   "cell_type": "code",
   "execution_count": 28,
   "metadata": {},
   "outputs": [
    {
     "name": "stdout",
     "output_type": "stream",
     "text": [
      "{'task': 'Известно, что прямая  L  проходит через начало координат и точку  B(3,4). Записать уравнение прямой, проходящей через точку  A(7,7)  параллельно прямой  L', 'data': {}, 'answer': -4*x + 3*y + 7}\n"
     ]
    }
   ],
   "source": [
    "def GenerateFindParalelLineEquationTask():\n",
    "    A1,A2 = randint(-9, 9),randint(-9, 9)\n",
    "    A = sp.Point(A1,A2)\n",
    "    B1,B2 = randint(-9, 9),randint(-9, 9)\n",
    "    L1 = sp.Line((0, 0), (B1, B2))\n",
    "\n",
    "    L2 = L1.parallel_line(A)\n",
    "    task = f\"Известно, что прямая  L  проходит через начало координат и точку  B({B1},{B2}). Записать уравнение прямой, проходящей через точку  A({A1},{A2})  параллельно прямой  L\"\n",
    "    answer = L2.equation()\n",
    "\n",
    "    dic = {\n",
    "        \"task\": task,\n",
    "        \"data\": {}, #Нужно ли тут что - то на фронт возвращать? все данные уже в таске.\n",
    "        \"answer\": answer}\n",
    "    \n",
    "    return dic\n",
    "\n",
    "print(GenerateFindParalelLineEquationTask())"
   ]
  },
  {
   "cell_type": "code",
   "execution_count": 29,
   "metadata": {},
   "outputs": [
    {
     "name": "stdout",
     "output_type": "stream",
     "text": [
      "{'task': 'Составить уравнение прямой, проходящей через точку А(8,1), параллельную прямой BC, если B(4,-9), C(-3,6)', 'data': {}, 'answer': -15*x - 7*y + 127}\n"
     ]
    }
   ],
   "source": [
    "def GenerateFindParalelLineEquationByPointsTask():\n",
    "    A1,A2 = randint(-9, 9),randint(-9, 9)\n",
    "    B1,B2 = randint(-9, 9),randint(-9, 9)\n",
    "    C1,C2 = randint(-9, 9),randint(-9, 9)\n",
    "    A = sp.Point(A1,A2)\n",
    "    L1 = sp.Line((B1, B2), (C1, C2))\n",
    "\n",
    "    L2 = L1.parallel_line(A)\n",
    "    task = f\"Составить уравнение прямой, проходящей через точку А({A1},{A2}), параллельную прямой BC, если B({B1},{B2}), C({C1},{C2})\"\n",
    "    answer = L2.equation()\n",
    "\n",
    "    dic = {\n",
    "    \"task\": task,\n",
    "    \"data\": {}, #Нужно ли тут что - то на фронт возвращать? все данные уже в задаче.\n",
    "    \"answer\": answer}\n",
    "\n",
    "    return dic\n",
    "    \n",
    "print(GenerateFindParalelLineEquationByPointsTask())"
   ]
  },
  {
   "cell_type": "markdown",
   "metadata": {},
   "source": [
    "Поиск точки пересечения прямых"
   ]
  },
  {
   "cell_type": "code",
   "execution_count": 30,
   "metadata": {},
   "outputs": [
    {
     "name": "stdout",
     "output_type": "stream",
     "text": [
      "{'task': 'Найти точку пересечения прямых L1 и L2, если известно, что прямая L1 проходит через точки А(9,8) и B(9,-4), а прямая L2 проходит через точки C(-4,-4) и D(9,-9)', 'data': {}, 'answer': [9, -9]}\n"
     ]
    }
   ],
   "source": [
    "def GenerateFindCrossPointOfTwoLinesTask():\n",
    "    A1,A2 = randint(-9, 9),randint(-9, 9)\n",
    "    B1,B2 = randint(-9, 9),randint(-9, 9)\n",
    "    C1,C2 = randint(-9, 9),randint(-9, 9)\n",
    "    D1,D2 = randint(-9, 9),randint(-9, 9)\n",
    "\n",
    "    L1 = sp.Line((A1, A2), (B1, B2))\n",
    "    L2 = sp.Line((C1, C2), (D1, D2))\n",
    "\n",
    "    task = f\"Найти точку пересечения прямых L1 и L2, если известно, что прямая L1 проходит через точки А({A1},{A2}) и B({B1},{B2}), а прямая L2 проходит через точки C({C1},{C2}) и D({D1},{D2})\"\n",
    "    answer = list(L1.intersection(L2)[0].coordinates)\n",
    "\n",
    "    dic = {\n",
    "    \"task\": task,\n",
    "    \"data\": {}, #Нужно ли тут что - то на фронт возвращать? все данные уже в задаче.\n",
    "    \"answer\": answer}\n",
    "    return dic\n",
    "\n",
    "\n",
    "print(GenerateFindCrossPointOfTwoLinesTask())"
   ]
  },
  {
   "cell_type": "markdown",
   "metadata": {},
   "source": [
    "Поиск расстояния от точки до прямой"
   ]
  },
  {
   "cell_type": "code",
   "execution_count": 31,
   "metadata": {},
   "outputs": [
    {
     "name": "stdout",
     "output_type": "stream",
     "text": [
      "{'task': 'Известно, что прямая L проходит через точки A(0,-6) и B(2,5). Из точки C(5,0) на прямую L опущен перпендикуляр, который касается её в точке D. Определить длину отрезка CD. Пример формы ответа: 3*sqrt(26)/13', 'data': {}, 'answer': 43*sqrt(5)/25}\n"
     ]
    }
   ],
   "source": [
    "def GenerateFindDicstanceFromLineToPointTask():\n",
    "    A1,A2 = randint(-9, 9),randint(-9, 9)\n",
    "    B1,B2 = randint(-9, 9),randint(-9, 9)\n",
    "    C1,C2 = randint(-9, 9),randint(-9, 9)\n",
    "\n",
    "    C = sp.Point(C1, C2)\n",
    "    L1 = sp.Line((A1, A2), (B1, B2))\n",
    "\n",
    "    task = f\"Известно, что прямая L проходит через точки A({A1},{A2}) и B({B1},{B2}). Из точки C({C1},{C2}) на прямую L опущен перпендикуляр, который касается её в точке D. Определить длину отрезка CD. Пример формы ответа: 3*sqrt(26)/13\"\n",
    "    answer = L1.perpendicular_segment(C).length\n",
    "\n",
    "    dic = {\n",
    "    \"task\": task,\n",
    "    \"data\": {}, #Нужно ли тут что - то на фронт возвращать? все данные уже в задаче.\n",
    "    \"answer\": answer}\n",
    "    return dic\n",
    "\n",
    "print(GenerateFindDicstanceFromLineToPointTask())"
   ]
  },
  {
   "cell_type": "markdown",
   "metadata": {},
   "source": [
    "Уравнение плоскости по трем точкам"
   ]
  },
  {
   "cell_type": "code",
   "execution_count": 32,
   "metadata": {},
   "outputs": [
    {
     "name": "stdout",
     "output_type": "stream",
     "text": [
      "{'task': 'Записать уравнение плоскости, проходящей через точки A(0,5,0), B(8,-8,8), C(9,-8,-9). Пример формы записи ответа: 38*x - 136*y - 126*z - 574', 'data': {}, 'answer': 221*x + 144*y + 13*z - 720}\n"
     ]
    }
   ],
   "source": [
    "def GenerateFindPlaneEquationByThreePointsTask():\n",
    "    A1,A2,A3 = randint(-9, 9),randint(-9, 9),randint(-9, 9)\n",
    "    B1,B2,B3 = randint(-9, 9),randint(-9, 9),randint(-9, 9)\n",
    "    C1,C2,C3 = randint(-9, 9),randint(-9, 9),randint(-9, 9)\n",
    "\n",
    "    alpha = sp.Plane(sp.Point3D(A1, A2, A3), sp.Point3D(B1, B2, B3), sp.Point3D(C1, C2, C3))\n",
    "\n",
    "    task = f\"Записать уравнение плоскости, проходящей через точки A({A1},{A2},{A3}), B({B1},{B2},{B3}), C({C1},{C2},{C3}). Пример формы записи ответа: 38*x - 136*y - 126*z - 574\"\n",
    "    answer = alpha.equation()\n",
    "\n",
    "    dic = {\n",
    "    \"task\": task,\n",
    "    \"data\": {}, #Нужно ли тут что - то на фронт возвращать? все данные уже в задаче.\n",
    "    \"answer\": answer}\n",
    "    return dic\n",
    "\n",
    "print(GenerateFindPlaneEquationByThreePointsTask())"
   ]
  },
  {
   "cell_type": "markdown",
   "metadata": {},
   "source": [
    "Уравнение прямой по нормальному вектору и точке"
   ]
  },
  {
   "cell_type": "code",
   "execution_count": 33,
   "metadata": {},
   "outputs": [
    {
     "name": "stdout",
     "output_type": "stream",
     "text": [
      "{'task': 'Записать уравнение плоскости a, которая проходит через точку M(-7,1,7) и перпендикулярна вектору n =(3,0,2). Пример записи ответа: -3*x - 8*y - 8*z + 85', 'data': {}, 'answer': 3*x + 2*z + 7}\n"
     ]
    }
   ],
   "source": [
    "def GenerateFindPlaneEquationByPointAndNormalVector():\n",
    "    A1,A2,A3 = randint(-9, 9),randint(-9, 9),randint(-9, 9)\n",
    "    B1,B2,B3 = randint(-9, 9),randint(-9, 9),randint(-9, 9)\n",
    "\n",
    "    alpha = sp.Plane(sp.Point3D(A1, A2, A3), normal_vector =(B1, B2, B3))\n",
    "\n",
    "    task = f\"Записать уравнение плоскости a, которая проходит через точку M({A1},{A2},{A3}) и перпендикулярна вектору n =({B1},{B2},{B3}). Пример записи ответа: -3*x - 8*y - 8*z + 85\"\n",
    "    answer = alpha.equation()\n",
    "\n",
    "    dic = {\n",
    "    \"task\": task,\n",
    "    \"data\": {}, #Нужно ли тут что - то на фронт возвращать? все данные уже в задаче.\n",
    "    \"answer\": answer}\n",
    "    return dic\n",
    "\n",
    "print(GenerateFindPlaneEquationByPointAndNormalVector())"
   ]
  },
  {
   "cell_type": "markdown",
   "metadata": {},
   "source": [
    "Уравнение параллельной плоскости"
   ]
  },
  {
   "cell_type": "code",
   "execution_count": 34,
   "metadata": {},
   "outputs": [
    {
     "name": "stdout",
     "output_type": "stream",
     "text": [
      "{'task': 'Плоскость α проходит через точку M(7,8,-3) и перепендикулярна вектору n =(7,-1,-1). Найти уравнение плоскости β, параллельной α и проходящей через точку P(3,-4,5)', 'data': {}, 'answer': 7*x - y - z - 20}\n"
     ]
    }
   ],
   "source": [
    "def GenerateFindParallelPlaneEquationTask():\n",
    "  A1,A2,A3 = randint(-9, 9),randint(-9, 9),randint(-9, 9)\n",
    "  B1,B2,B3 = randint(-9, 9),randint(-9, 9),randint(-9, 9)\n",
    "  P1,P2,P3 = randint(-9, 9),randint(-9, 9),randint(-9, 9)\n",
    "\n",
    "  task = f\"Плоскость α проходит через точку M({A1},{A2},{A3}) и перепендикулярна вектору n =({B1},{B2},{B3}). Найти уравнение плоскости β, параллельной α и проходящей через точку P({P1},{P2},{P3})\"\n",
    "  \n",
    "  alpha = sp.Plane(sp.Point3D(A1, A2, A3), normal_vector =(B1, B2, B3))\n",
    "\n",
    "  parallelPlane = alpha.parallel_plane(sp.Point3D(P1,P2,P3))\n",
    "  answer = parallelPlane.equation()\n",
    "\n",
    "  dic = {\n",
    "    \"task\": task,\n",
    "    \"data\": {}, #Нужно ли тут что - то на фронт возвращать? все данные уже в задаче.\n",
    "    \"answer\": answer}\n",
    "  \n",
    "  return dic\n",
    "\n",
    "print(GenerateFindParallelPlaneEquationTask())"
   ]
  },
  {
   "cell_type": "markdown",
   "metadata": {},
   "source": [
    "Уравнение перпендикулярной плоскости"
   ]
  },
  {
   "cell_type": "code",
   "execution_count": 35,
   "metadata": {},
   "outputs": [
    {
     "name": "stdout",
     "output_type": "stream",
     "text": [
      "{'task': 'Плоскость α имеет нормальный вектор n =(0,-2,5) и проходит через точку P(8,8,-2). Найти уравнение плоскости, перпендикулярной α и проходящей через точки A(5,4,-4) и B(-1,8,4))', 'data': {}, 'answer': 36*x + 30*y + 12*z - 252}\n"
     ]
    }
   ],
   "source": [
    "def GenerateFindOrtPlaneEquationTask():\n",
    "    A1,A2,A3 = randint(-9, 9),randint(-9, 9),randint(-9, 9)\n",
    "    B1,B2,B3 = randint(-9, 9),randint(-9, 9),randint(-9, 9)\n",
    "    P1,P2,P3 = randint(-9, 9),randint(-9, 9),randint(-9, 9)\n",
    "    N1,N2,N3 = randint(-9, 9),randint(-9, 9),randint(-9, 9)\n",
    "\n",
    "    task = f\"Плоскость α имеет нормальный вектор n =({N1},{N2},{N3}) и проходит через точку P({P1},{P2},{P3}). Найти уравнение плоскости, перпендикулярной α и проходящей через точки A({A1},{A2},{A3}) и B({B1},{B2},{B3}))\"\n",
    "\n",
    "    alpha = sp.Plane(sp.Point3D(P1, P2, P3), normal_vector =(N1, N2, N3))\n",
    "    A,B = sp.Point3D(A1,A2,A3), sp.Point3D(B1,B2,B3)\n",
    "\n",
    "    ortPlane = alpha.perpendicular_plane(A,B)\n",
    "    answer = ortPlane.equation()\n",
    "\n",
    "    dic = {\n",
    "    \"task\": task,\n",
    "    \"data\": {}, #Нужно ли тут что - то на фронт возвращать? все данные уже в задаче.\n",
    "    \"answer\": answer}\n",
    "    return dic\n",
    "\n",
    "print(GenerateFindOrtPlaneEquationTask())"
   ]
  },
  {
   "cell_type": "markdown",
   "metadata": {},
   "source": [
    "Проекция точки на прямую"
   ]
  },
  {
   "cell_type": "code",
   "execution_count": 36,
   "metadata": {},
   "outputs": [
    {
     "name": "stdout",
     "output_type": "stream",
     "text": [
      "{'task': 'Известно, что прямая L проходит через точку N(0,1,9) и точку M(2,-9,-5). Найти координаты проекции точки A(-6,7,6) на прямую L', 'data': {}, 'answer': (-1/5, 2, 52/5)}\n"
     ]
    }
   ],
   "source": [
    "def GeneratePointProjectionOnLineTask():\n",
    "    A1,A2,A3 = randint(-9, 9),randint(-9, 9),randint(-9, 9)\n",
    "    N1,N2,N3 = randint(-9, 9),randint(-9, 9),randint(-9, 9)\n",
    "    M1,M2,M3 = randint(-9, 9),randint(-9, 9),randint(-9, 9)\n",
    "\n",
    "    task = f\"Известно, что прямая L проходит через точку N({N1},{N2},{N3}) и точку M({M1},{M2},{M3}). Найти координаты проекции точки A({A1},{A2},{A3}) на прямую L\"\n",
    "\n",
    "    A = sp.Point(A1,A2,A3)\n",
    "    line = sp.Line((N1,N2,N3),(M1,M2,M3))\n",
    "    answer = line.projection(A).coordinates\n",
    "\n",
    "    dic = {\n",
    "    \"task\": task,\n",
    "    \"data\": {}, \n",
    "    \"answer\": answer}\n",
    "    return dic\n",
    "\n",
    "print(GeneratePointProjectionOnLineTask())"
   ]
  },
  {
   "cell_type": "markdown",
   "metadata": {},
   "source": [
    "Проекция точки на плоскость"
   ]
  },
  {
   "cell_type": "code",
   "execution_count": 37,
   "metadata": {},
   "outputs": [
    {
     "name": "stdout",
     "output_type": "stream",
     "text": [
      "{'task': 'Известно, что плоскость α проходит через точку P(2,3,8)  и перпендикулярна вектору n =(-7,-6,-7). Найти координаты проекции точки A(-2,2,8) на плоскость α', 'data': {}, 'answer': (-15/67, 236/67, 655/67)}\n"
     ]
    }
   ],
   "source": [
    "def GeneratePointProjectionOnPlainTask():\n",
    "    A1,A2,A3 = randint(-9, 9),randint(-9, 9),randint(-9, 9)\n",
    "    N1,N2,N3 = randint(-9, 9),randint(-9, 9),randint(-9, 9)\n",
    "    P1,P2,P3 = randint(-9, 9),randint(-9, 9),randint(-9, 9)\n",
    "\n",
    "    task = f\"Известно, что плоскость α проходит через точку P({P1},{P2},{P3})  и перпендикулярна вектору n =({N1},{N2},{N3}). Найти координаты проекции точки A({A1},{A2},{A3}) на плоскость α\"\n",
    "    \n",
    "    A = sp.Point(A1, A2, A3)\n",
    "\n",
    "    alpha = sp.Plane(sp.Point3D(P1, P2, P3), normal_vector =(N1, N2, N3))\n",
    "    answer = alpha.projection(A).coordinates\n",
    "    \n",
    "    dic = {\n",
    "    \"task\": task,\n",
    "    \"data\": {}, \n",
    "    \"answer\": answer}\n",
    "    return dic\n",
    "\n",
    "print(GeneratePointProjectionOnPlainTask())"
   ]
  },
  {
   "cell_type": "code",
   "execution_count": 234,
   "metadata": {},
   "outputs": [
    {
     "name": "stdout",
     "output_type": "stream",
     "text": [
      "[{x: -3/2 + sqrt(13)/2, y: -sqrt(13)/2 - 3/2}, {x: -sqrt(13)/2 - 3/2, y: -3/2 + sqrt(13)/2}]\n",
      "координаты точки пересчения А:  -3/2 + sqrt(13)/2 -sqrt(13)/2 - 3/2\n",
      "координаты точки пересчения B:  -sqrt(13)/2 - 3/2 -3/2 + sqrt(13)/2\n"
     ]
    },
    {
     "name": "stderr",
     "output_type": "stream",
     "text": [
      "c:\\Users\\Admin\\AppData\\Local\\Programs\\Python\\Python310\\lib\\site-packages\\spb\\graphics\\functions_2d.py:1374: UserWarning: No ranges were provided. This function will attempt to find them, however the order will be arbitrary, which means the visualization might be flipped.\n"
     ]
    },
    {
     "data": {
      "image/png": "[encoded data removed]",
      "text/plain": [
       "<Figure size 640x480 with 1 Axes>"
      ]
     },
     "metadata": {},
     "output_type": "display_data"
    },
    {
     "name": "stdout",
     "output_type": "stream",
     "text": [
      "<?xml version=\"1.0\" encoding=\"utf-8\" standalone=\"no\"?>\n",
      "<!DOCTYPE svg PUBLIC \"-//W3C//DTD SVG 1.1//EN\"\n",
      "  \"http://www.w3.org/Graphics/SVG/1.1/DTD/svg11.dtd\">\n",
      "<svg xmlns:xlink=\"http://www.w3.org/1999/xlink\" width=\"460.8pt\" height=\"345.6pt\" viewBox=\"0 0 460.8 345.6\" xmlns=\"http://www.w3.org/2000/svg\" version=\"1.1\">\n",
      " <metadata>\n",
      "  <rdf:RDF xmlns:dc=\"http://purl.org/dc/elements/1.1/\" xmlns:cc=\"http://creativecommons.org/ns#\" xmlns:rdf=\"http://www.w3.org/1999/02/22-rdf-syntax-ns#\">\n",
      "   <cc:Work>\n",
      "    <dc:type rdf:resource=\"http://purl.org/dc/dcmitype/StillImage\"/>\n",
      "    <dc:date>2024-04-29T21:56:59.701045</dc:date>\n",
      "    <dc:format>image/svg+xml</dc:format>\n",
      "    <dc:creator>\n",
      "     <cc:Agent>\n",
      "      <dc:title>Matplotlib v3.6.0, https://matplotlib.org/</dc:title>\n",
      "     </cc:Agent>\n",
      "    </dc:creator>\n",
      "   </cc:Work>\n",
      "  </rdf:RDF>\n",
      " </metadata>\n",
      " <defs>\n",
      "  <style type=\"text/css\">*{stroke-linejoin: round; stroke-linecap: butt}</style>\n",
      " </defs>\n",
      " <g id=\"figure_1\">\n",
      "  <g id=\"patch_1\">\n",
      "   <path d=\"M 0 345.6 \n",
      "L 460.8 345.6 \n",
      "L 460.8 0 \n",
      "L 0 0 \n",
      "z\n",
      "\" style=\"fill: #ffffff\"/>\n",
      "  </g>\n",
      "  <g id=\"axes_1\">\n",
      "   <g id=\"patch_2\">\n",
      "    <path d=\"M 73.44 328.68 \n",
      "L 387.36 328.68 \n",
      "L 387.36 14.76 \n",
      "L 73.44 14.76 \n",
      "z\n",
      "\" style=\"fill: #ffffff\"/>\n",
      "   </g>\n",
      "   <g id=\"matplotlib.axis_1\">\n",
      "    <g id=\"xtick_1\">\n",
      "     <g id=\"line2d_1\">\n",
      "      <path d=\"M 73.44 328.68 \n",
      "L 73.44 14.76 \n",
      "\" clip-path=\"url(#pe84b40b4ed)\" style=\"fill: none; stroke: #bfbfbf; stroke-width: 0.75; stroke-linecap: square\"/>\n",
      "     </g>\n",
      "     <g id=\"line2d_2\">\n",
      "      <defs>\n",
      "       <path id=\"m0aeeb17cc1\" d=\"M 0 0 \n",
      "L 0 3.5 \n",
      "\" style=\"stroke: #000000; stroke-width: 0.8\"/>\n",
      "      </defs>\n",
      "      <g>\n",
      "       <use xlink:href=\"#m0aeeb17cc1\" x=\"73.44\" y=\"171.72\" style=\"stroke: #000000; stroke-width: 0.8\"/>\n",
      "      </g>\n",
      "     </g>\n",
      "     <g id=\"text_1\">\n",
      "      <!-- −10.0 -->\n",
      "      <g transform=\"translate(58.117344 186.318437) scale(0.1 -0.1)\">\n",
      "       <defs>\n",
      "        <path id=\"DejaVuSans-2212\" d=\"M 678 2272 \n",
      "L 4684 2272 \n",
      "L 4684 1741 \n",
      "L 678 1741 \n",
      "L 678 2272 \n",
      "z\n",
      "\" transform=\"scale(0.015625)\"/>\n",
      "        <path id=\"DejaVuSans-31\" d=\"M 794 531 \n",
      "L 1825 531 \n",
      "L 1825 4091 \n",
      "L 703 3866 \n",
      "L 703 4441 \n",
      "L 1819 4666 \n",
      "L 2450 4666 \n",
      "L 2450 531 \n",
      "L 3481 531 \n",
      "L 3481 0 \n",
      "L 794 0 \n",
      "L 794 531 \n",
      "z\n",
      "\" transform=\"scale(0.015625)\"/>\n",
      "        <path id=\"DejaVuSans-30\" d=\"M 2034 4250 \n",
      "Q 1547 4250 1301 3770 \n",
      "Q 1056 3291 1056 2328 \n",
      "Q 1056 1369 1301 889 \n",
      "Q 1547 409 2034 409 \n",
      "Q 2525 409 2770 889 \n",
      "Q 3016 1369 3016 2328 \n",
      "Q 3016 3291 2770 3770 \n",
      "Q 2525 4250 2034 4250 \n",
      "z\n",
      "M 2034 4750 \n",
      "Q 2819 4750 3233 4129 \n",
      "Q 3647 3509 3647 2328 \n",
      "Q 3647 1150 3233 529 \n",
      "Q 2819 -91 2034 -91 \n",
      "Q 1250 -91 836 529 \n",
      "Q 422 1150 422 2328 \n",
      "Q 422 3509 836 4129 \n",
      "Q 1250 4750 2034 4750 \n",
      "z\n",
      "\" transform=\"scale(0.015625)\"/>\n",
      "        <path id=\"DejaVuSans-2e\" d=\"M 684 794 \n",
      "L 1344 794 \n",
      "L 1344 0 \n",
      "L 684 0 \n",
      "L 684 794 \n",
      "z\n",
      "\" transform=\"scale(0.015625)\"/>\n",
      "       </defs>\n",
      "       <use xlink:href=\"#DejaVuSans-2212\"/>\n",
      "       <use xlink:href=\"#DejaVuSans-31\" x=\"83.789062\"/>\n",
      "       <use xlink:href=\"#DejaVuSans-30\" x=\"147.412109\"/>\n",
      "       <use xlink:href=\"#DejaVuSans-2e\" x=\"211.035156\"/>\n",
      "       <use xlink:href=\"#DejaVuSans-30\" x=\"242.822266\"/>\n",
      "      </g>\n",
      "     </g>\n",
      "    </g>\n",
      "    <g id=\"xtick_2\">\n",
      "     <g id=\"line2d_3\">\n",
      "      <path d=\"M 112.68 328.68 \n",
      "L 112.68 14.76 \n",
      "\" clip-path=\"url(#pe84b40b4ed)\" style=\"fill: none; stroke: #bfbfbf; stroke-width: 0.75; stroke-linecap: square\"/>\n",
      "     </g>\n",
      "     <g id=\"line2d_4\">\n",
      "      <g>\n",
      "       <use xlink:href=\"#m0aeeb17cc1\" x=\"112.68\" y=\"171.72\" style=\"stroke: #000000; stroke-width: 0.8\"/>\n",
      "      </g>\n",
      "     </g>\n",
      "     <g id=\"text_2\">\n",
      "      <!-- −7.5 -->\n",
      "      <g transform=\"translate(100.538594 186.318437) scale(0.1 -0.1)\">\n",
      "       <defs>\n",
      "        <path id=\"DejaVuSans-37\" d=\"M 525 4666 \n",
      "L 3525 4666 \n",
      "L 3525 4397 \n",
      "L 1831 0 \n",
      "L 1172 0 \n",
      "L 2766 4134 \n",
      "L 525 4134 \n",
      "L 525 4666 \n",
      "z\n",
      "\" transform=\"scale(0.015625)\"/>\n",
      "        <path id=\"DejaVuSans-35\" d=\"M 691 4666 \n",
      "L 3169 4666 \n",
      "L 3169 4134 \n",
      "L 1269 4134 \n",
      "L 1269 2991 \n",
      "Q 1406 3038 1543 3061 \n",
      "Q 1681 3084 1819 3084 \n",
      "Q 2600 3084 3056 2656 \n",
      "Q 3513 2228 3513 1497 \n",
      "Q 3513 744 3044 326 \n",
      "Q 2575 -91 1722 -91 \n",
      "Q 1428 -91 1123 -41 \n",
      "Q 819 9 494 109 \n",
      "L 494 744 \n",
      "Q 775 591 1075 516 \n",
      "Q 1375 441 1709 441 \n",
      "Q 2250 441 2565 725 \n",
      "Q 2881 1009 2881 1497 \n",
      "Q 2881 1984 2565 2268 \n",
      "Q 2250 2553 1709 2553 \n",
      "Q 1456 2553 1204 2497 \n",
      "Q 953 2441 691 2322 \n",
      "L 691 4666 \n",
      "z\n",
      "\" transform=\"scale(0.015625)\"/>\n",
      "       </defs>\n",
      "       <use xlink:href=\"#DejaVuSans-2212\"/>\n",
      "       <use xlink:href=\"#DejaVuSans-37\" x=\"83.789062\"/>\n",
      "       <use xlink:href=\"#DejaVuSans-2e\" x=\"147.412109\"/>\n",
      "       <use xlink:href=\"#DejaVuSans-35\" x=\"179.199219\"/>\n",
      "      </g>\n",
      "     </g>\n",
      "    </g>\n",
      "    <g id=\"xtick_3\">\n",
      "     <g id=\"line2d_5\">\n",
      "      <path d=\"M 151.92 328.68 \n",
      "L 151.92 14.76 \n",
      "\" clip-path=\"url(#pe84b40b4ed)\" style=\"fill: none; stroke: #bfbfbf; stroke-width: 0.75; stroke-linecap: square\"/>\n",
      "     </g>\n",
      "     <g id=\"line2d_6\">\n",
      "      <g>\n",
      "       <use xlink:href=\"#m0aeeb17cc1\" x=\"151.92\" y=\"171.72\" style=\"stroke: #000000; stroke-width: 0.8\"/>\n",
      "      </g>\n",
      "     </g>\n",
      "     <g id=\"text_3\">\n",
      "      <!-- −5.0 -->\n",
      "      <g transform=\"translate(139.778594 186.318437) scale(0.1 -0.1)\">\n",
      "       <use xlink:href=\"#DejaVuSans-2212\"/>\n",
      "       <use xlink:href=\"#DejaVuSans-35\" x=\"83.789062\"/>\n",
      "       <use xlink:href=\"#DejaVuSans-2e\" x=\"147.412109\"/>\n",
      "       <use xlink:href=\"#DejaVuSans-30\" x=\"179.199219\"/>\n",
      "      </g>\n",
      "     </g>\n",
      "    </g>\n",
      "    <g id=\"xtick_4\">\n",
      "     <g id=\"line2d_7\">\n",
      "      <path d=\"M 191.16 328.68 \n",
      "L 191.16 14.76 \n",
      "\" clip-path=\"url(#pe84b40b4ed)\" style=\"fill: none; stroke: #bfbfbf; stroke-width: 0.75; stroke-linecap: square\"/>\n",
      "     </g>\n",
      "     <g id=\"line2d_8\">\n",
      "      <g>\n",
      "       <use xlink:href=\"#m0aeeb17cc1\" x=\"191.16\" y=\"171.72\" style=\"stroke: #000000; stroke-width: 0.8\"/>\n",
      "      </g>\n",
      "     </g>\n",
      "     <g id=\"text_4\">\n",
      "      <!-- −2.5 -->\n",
      "      <g transform=\"translate(179.018594 186.318437) scale(0.1 -0.1)\">\n",
      "       <defs>\n",
      "        <path id=\"DejaVuSans-32\" d=\"M 1228 531 \n",
      "L 3431 531 \n",
      "L 3431 0 \n",
      "L 469 0 \n",
      "L 469 531 \n",
      "Q 828 903 1448 1529 \n",
      "Q 2069 2156 2228 2338 \n",
      "Q 2531 2678 2651 2914 \n",
      "Q 2772 3150 2772 3378 \n",
      "Q 2772 3750 2511 3984 \n",
      "Q 2250 4219 1831 4219 \n",
      "Q 1534 4219 1204 4116 \n",
      "Q 875 4013 500 3803 \n",
      "L 500 4441 \n",
      "Q 881 4594 1212 4672 \n",
      "Q 1544 4750 1819 4750 \n",
      "Q 2544 4750 2975 4387 \n",
      "Q 3406 4025 3406 3419 \n",
      "Q 3406 3131 3298 2873 \n",
      "Q 3191 2616 2906 2266 \n",
      "Q 2828 2175 2409 1742 \n",
      "Q 1991 1309 1228 531 \n",
      "z\n",
      "\" transform=\"scale(0.015625)\"/>\n",
      "       </defs>\n",
      "       <use xlink:href=\"#DejaVuSans-2212\"/>\n",
      "       <use xlink:href=\"#DejaVuSans-32\" x=\"83.789062\"/>\n",
      "       <use xlink:href=\"#DejaVuSans-2e\" x=\"147.412109\"/>\n",
      "       <use xlink:href=\"#DejaVuSans-35\" x=\"179.199219\"/>\n",
      "      </g>\n",
      "     </g>\n",
      "    </g>\n",
      "    <g id=\"xtick_5\">\n",
      "     <g id=\"line2d_9\">\n",
      "      <path d=\"M 230.4 328.68 \n",
      "L 230.4 14.76 \n",
      "\" clip-path=\"url(#pe84b40b4ed)\" style=\"fill: none; stroke: #bfbfbf; stroke-width: 0.75; stroke-linecap: square\"/>\n",
      "     </g>\n",
      "     <g id=\"line2d_10\">\n",
      "      <g>\n",
      "       <use xlink:href=\"#m0aeeb17cc1\" x=\"230.4\" y=\"171.72\" style=\"stroke: #000000; stroke-width: 0.8\"/>\n",
      "      </g>\n",
      "     </g>\n",
      "     <g id=\"text_5\">\n",
      "      <!-- 0.0 -->\n",
      "      <g transform=\"translate(222.448438 186.318437) scale(0.1 -0.1)\">\n",
      "       <use xlink:href=\"#DejaVuSans-30\"/>\n",
      "       <use xlink:href=\"#DejaVuSans-2e\" x=\"63.623047\"/>\n",
      "       <use xlink:href=\"#DejaVuSans-30\" x=\"95.410156\"/>\n",
      "      </g>\n",
      "     </g>\n",
      "    </g>\n",
      "    <g id=\"xtick_6\">\n",
      "     <g id=\"line2d_11\">\n",
      "      <path d=\"M 269.64 328.68 \n",
      "L 269.64 14.76 \n",
      "\" clip-path=\"url(#pe84b40b4ed)\" style=\"fill: none; stroke: #bfbfbf; stroke-width: 0.75; stroke-linecap: square\"/>\n",
      "     </g>\n",
      "     <g id=\"line2d_12\">\n",
      "      <g>\n",
      "       <use xlink:href=\"#m0aeeb17cc1\" x=\"269.64\" y=\"171.72\" style=\"stroke: #000000; stroke-width: 0.8\"/>\n",
      "      </g>\n",
      "     </g>\n",
      "     <g id=\"text_6\">\n",
      "      <!-- 2.5 -->\n",
      "      <g transform=\"translate(261.688437 186.318437) scale(0.1 -0.1)\">\n",
      "       <use xlink:href=\"#DejaVuSans-32\"/>\n",
      "       <use xlink:href=\"#DejaVuSans-2e\" x=\"63.623047\"/>\n",
      "       <use xlink:href=\"#DejaVuSans-35\" x=\"95.410156\"/>\n",
      "      </g>\n",
      "     </g>\n",
      "    </g>\n",
      "    <g id=\"xtick_7\">\n",
      "     <g id=\"line2d_13\">\n",
      "      <path d=\"M 308.88 328.68 \n",
      "L 308.88 14.76 \n",
      "\" clip-path=\"url(#pe84b40b4ed)\" style=\"fill: none; stroke: #bfbfbf; stroke-width: 0.75; stroke-linecap: square\"/>\n",
      "     </g>\n",
      "     <g id=\"line2d_14\">\n",
      "      <g>\n",
      "       <use xlink:href=\"#m0aeeb17cc1\" x=\"308.88\" y=\"171.72\" style=\"stroke: #000000; stroke-width: 0.8\"/>\n",
      "      </g>\n",
      "     </g>\n",
      "     <g id=\"text_7\">\n",
      "      <!-- 5.0 -->\n",
      "      <g transform=\"translate(300.928437 186.318437) scale(0.1 -0.1)\">\n",
      "       <use xlink:href=\"#DejaVuSans-35\"/>\n",
      "       <use xlink:href=\"#DejaVuSans-2e\" x=\"63.623047\"/>\n",
      "       <use xlink:href=\"#DejaVuSans-30\" x=\"95.410156\"/>\n",
      "      </g>\n",
      "     </g>\n",
      "    </g>\n",
      "    <g id=\"xtick_8\">\n",
      "     <g id=\"line2d_15\">\n",
      "      <path d=\"M 348.12 328.68 \n",
      "L 348.12 14.76 \n",
      "\" clip-path=\"url(#pe84b40b4ed)\" style=\"fill: none; stroke: #bfbfbf; stroke-width: 0.75; stroke-linecap: square\"/>\n",
      "     </g>\n",
      "     <g id=\"line2d_16\">\n",
      "      <g>\n",
      "       <use xlink:href=\"#m0aeeb17cc1\" x=\"348.12\" y=\"171.72\" style=\"stroke: #000000; stroke-width: 0.8\"/>\n",
      "      </g>\n",
      "     </g>\n",
      "     <g id=\"text_8\">\n",
      "      <!-- 7.5 -->\n",
      "      <g transform=\"translate(340.168437 186.318437) scale(0.1 -0.1)\">\n",
      "       <use xlink:href=\"#DejaVuSans-37\"/>\n",
      "       <use xlink:href=\"#DejaVuSans-2e\" x=\"63.623047\"/>\n",
      "       <use xlink:href=\"#DejaVuSans-35\" x=\"95.410156\"/>\n",
      "      </g>\n",
      "     </g>\n",
      "    </g>\n",
      "    <g id=\"xtick_9\">\n",
      "     <g id=\"line2d_17\">\n",
      "      <path d=\"M 387.36 328.68 \n",
      "L 387.36 14.76 \n",
      "\" clip-path=\"url(#pe84b40b4ed)\" style=\"fill: none; stroke: #bfbfbf; stroke-width: 0.75; stroke-linecap: square\"/>\n",
      "     </g>\n",
      "     <g id=\"line2d_18\">\n",
      "      <g>\n",
      "       <use xlink:href=\"#m0aeeb17cc1\" x=\"387.36\" y=\"171.72\" style=\"stroke: #000000; stroke-width: 0.8\"/>\n",
      "      </g>\n",
      "     </g>\n",
      "     <g id=\"text_9\">\n",
      "      <!-- 10.0 -->\n",
      "      <g transform=\"translate(376.227188 186.318437) scale(0.1 -0.1)\">\n",
      "       <use xlink:href=\"#DejaVuSans-31\"/>\n",
      "       <use xlink:href=\"#DejaVuSans-30\" x=\"63.623047\"/>\n",
      "       <use xlink:href=\"#DejaVuSans-2e\" x=\"127.246094\"/>\n",
      "       <use xlink:href=\"#DejaVuSans-30\" x=\"159.033203\"/>\n",
      "      </g>\n",
      "     </g>\n",
      "    </g>\n",
      "    <g id=\"text_10\">\n",
      "     <!-- $x$ -->\n",
      "     <g transform=\"translate(227.4 199.996562) scale(0.1 -0.1)\">\n",
      "      <defs>\n",
      "       <path id=\"DejaVuSans-Oblique-78\" d=\"M 3841 3500 \n",
      "L 2234 1784 \n",
      "L 3219 0 \n",
      "L 2559 0 \n",
      "L 1819 1388 \n",
      "L 531 0 \n",
      "L -166 0 \n",
      "L 1556 1844 \n",
      "L 641 3500 \n",
      "L 1300 3500 \n",
      "L 1972 2234 \n",
      "L 3144 3500 \n",
      "L 3841 3500 \n",
      "z\n",
      "\" transform=\"scale(0.015625)\"/>\n",
      "      </defs>\n",
      "      <use xlink:href=\"#DejaVuSans-Oblique-78\" transform=\"translate(0 0.3125)\"/>\n",
      "     </g>\n",
      "    </g>\n",
      "   </g>\n",
      "   <g id=\"matplotlib.axis_2\">\n",
      "    <g id=\"ytick_1\">\n",
      "     <g id=\"line2d_19\">\n",
      "      <path d=\"M 73.44 328.68 \n",
      "L 387.36 328.68 \n",
      "\" clip-path=\"url(#pe84b40b4ed)\" style=\"fill: none; stroke: #bfbfbf; stroke-width: 0.75; stroke-linecap: square\"/>\n",
      "     </g>\n",
      "     <g id=\"line2d_20\">\n",
      "      <defs>\n",
      "       <path id=\"mfec040287d\" d=\"M 0 0 \n",
      "L -3.5 0 \n",
      "\" style=\"stroke: #000000; stroke-width: 0.8\"/>\n",
      "      </defs>\n",
      "      <g>\n",
      "       <use xlink:href=\"#mfec040287d\" x=\"230.4\" y=\"328.68\" style=\"stroke: #000000; stroke-width: 0.8\"/>\n",
      "      </g>\n",
      "     </g>\n",
      "     <g id=\"text_11\">\n",
      "      <!-- −10.0 -->\n",
      "      <g transform=\"translate(192.754687 332.479219) scale(0.1 -0.1)\">\n",
      "       <use xlink:href=\"#DejaVuSans-2212\"/>\n",
      "       <use xlink:href=\"#DejaVuSans-31\" x=\"83.789062\"/>\n",
      "       <use xlink:href=\"#DejaVuSans-30\" x=\"147.412109\"/>\n",
      "       <use xlink:href=\"#DejaVuSans-2e\" x=\"211.035156\"/>\n",
      "       <use xlink:href=\"#DejaVuSans-30\" x=\"242.822266\"/>\n",
      "      </g>\n",
      "     </g>\n",
      "    </g>\n",
      "    <g id=\"ytick_2\">\n",
      "     <g id=\"line2d_21\">\n",
      "      <path d=\"M 73.44 289.44 \n",
      "L 387.36 289.44 \n",
      "\" clip-path=\"url(#pe84b40b4ed)\" style=\"fill: none; stroke: #bfbfbf; stroke-width: 0.75; stroke-linecap: square\"/>\n",
      "     </g>\n",
      "     <g id=\"line2d_22\">\n",
      "      <g>\n",
      "       <use xlink:href=\"#mfec040287d\" x=\"230.4\" y=\"289.44\" style=\"stroke: #000000; stroke-width: 0.8\"/>\n",
      "      </g>\n",
      "     </g>\n",
      "     <g id=\"text_12\">\n",
      "      <!-- −7.5 -->\n",
      "      <g transform=\"translate(199.117188 293.239219) scale(0.1 -0.1)\">\n",
      "       <use xlink:href=\"#DejaVuSans-2212\"/>\n",
      "       <use xlink:href=\"#DejaVuSans-37\" x=\"83.789062\"/>\n",
      "       <use xlink:href=\"#DejaVuSans-2e\" x=\"147.412109\"/>\n",
      "       <use xlink:href=\"#DejaVuSans-35\" x=\"179.199219\"/>\n",
      "      </g>\n",
      "     </g>\n",
      "    </g>\n",
      "    <g id=\"ytick_3\">\n",
      "     <g id=\"line2d_23\">\n",
      "      <path d=\"M 73.44 250.2 \n",
      "L 387.36 250.2 \n",
      "\" clip-path=\"url(#pe84b40b4ed)\" style=\"fill: none; stroke: #bfbfbf; stroke-width: 0.75; stroke-linecap: square\"/>\n",
      "     </g>\n",
      "     <g id=\"line2d_24\">\n",
      "      <g>\n",
      "       <use xlink:href=\"#mfec040287d\" x=\"230.4\" y=\"250.2\" style=\"stroke: #000000; stroke-width: 0.8\"/>\n",
      "      </g>\n",
      "     </g>\n",
      "     <g id=\"text_13\">\n",
      "      <!-- −5.0 -->\n",
      "      <g transform=\"translate(199.117188 253.999219) scale(0.1 -0.1)\">\n",
      "       <use xlink:href=\"#DejaVuSans-2212\"/>\n",
      "       <use xlink:href=\"#DejaVuSans-35\" x=\"83.789062\"/>\n",
      "       <use xlink:href=\"#DejaVuSans-2e\" x=\"147.412109\"/>\n",
      "       <use xlink:href=\"#DejaVuSans-30\" x=\"179.199219\"/>\n",
      "      </g>\n",
      "     </g>\n",
      "    </g>\n",
      "    <g id=\"ytick_4\">\n",
      "     <g id=\"line2d_25\">\n",
      "      <path d=\"M 73.44 210.96 \n",
      "L 387.36 210.96 \n",
      "\" clip-path=\"url(#pe84b40b4ed)\" style=\"fill: none; stroke: #bfbfbf; stroke-width: 0.75; stroke-linecap: square\"/>\n",
      "     </g>\n",
      "     <g id=\"line2d_26\">\n",
      "      <g>\n",
      "       <use xlink:href=\"#mfec040287d\" x=\"230.4\" y=\"210.96\" style=\"stroke: #000000; stroke-width: 0.8\"/>\n",
      "      </g>\n",
      "     </g>\n",
      "     <g id=\"text_14\">\n",
      "      <!-- −2.5 -->\n",
      "      <g transform=\"translate(199.117188 214.759219) scale(0.1 -0.1)\">\n",
      "       <use xlink:href=\"#DejaVuSans-2212\"/>\n",
      "       <use xlink:href=\"#DejaVuSans-32\" x=\"83.789062\"/>\n",
      "       <use xlink:href=\"#DejaVuSans-2e\" x=\"147.412109\"/>\n",
      "       <use xlink:href=\"#DejaVuSans-35\" x=\"179.199219\"/>\n",
      "      </g>\n",
      "     </g>\n",
      "    </g>\n",
      "    <g id=\"ytick_5\">\n",
      "     <g id=\"line2d_27\">\n",
      "      <path d=\"M 73.44 171.72 \n",
      "L 387.36 171.72 \n",
      "\" clip-path=\"url(#pe84b40b4ed)\" style=\"fill: none; stroke: #bfbfbf; stroke-width: 0.75; stroke-linecap: square\"/>\n",
      "     </g>\n",
      "     <g id=\"line2d_28\">\n",
      "      <g>\n",
      "       <use xlink:href=\"#mfec040287d\" x=\"230.4\" y=\"171.72\" style=\"stroke: #000000; stroke-width: 0.8\"/>\n",
      "      </g>\n",
      "     </g>\n",
      "     <g id=\"text_15\">\n",
      "      <!-- 0.0 -->\n",
      "      <g transform=\"translate(207.496875 175.519219) scale(0.1 -0.1)\">\n",
      "       <use xlink:href=\"#DejaVuSans-30\"/>\n",
      "       <use xlink:href=\"#DejaVuSans-2e\" x=\"63.623047\"/>\n",
      "       <use xlink:href=\"#DejaVuSans-30\" x=\"95.410156\"/>\n",
      "      </g>\n",
      "     </g>\n",
      "    </g>\n",
      "    <g id=\"ytick_6\">\n",
      "     <g id=\"line2d_29\">\n",
      "      <path d=\"M 73.44 132.48 \n",
      "L 387.36 132.48 \n",
      "\" clip-path=\"url(#pe84b40b4ed)\" style=\"fill: none; stroke: #bfbfbf; stroke-width: 0.75; stroke-linecap: square\"/>\n",
      "     </g>\n",
      "     <g id=\"line2d_30\">\n",
      "      <g>\n",
      "       <use xlink:href=\"#mfec040287d\" x=\"230.4\" y=\"132.48\" style=\"stroke: #000000; stroke-width: 0.8\"/>\n",
      "      </g>\n",
      "     </g>\n",
      "     <g id=\"text_16\">\n",
      "      <!-- 2.5 -->\n",
      "      <g transform=\"translate(207.496875 136.279219) scale(0.1 -0.1)\">\n",
      "       <use xlink:href=\"#DejaVuSans-32\"/>\n",
      "       <use xlink:href=\"#DejaVuSans-2e\" x=\"63.623047\"/>\n",
      "       <use xlink:href=\"#DejaVuSans-35\" x=\"95.410156\"/>\n",
      "      </g>\n",
      "     </g>\n",
      "    </g>\n",
      "    <g id=\"ytick_7\">\n",
      "     <g id=\"line2d_31\">\n",
      "      <path d=\"M 73.44 93.24 \n",
      "L 387.36 93.24 \n",
      "\" clip-path=\"url(#pe84b40b4ed)\" style=\"fill: none; stroke: #bfbfbf; stroke-width: 0.75; stroke-linecap: square\"/>\n",
      "     </g>\n",
      "     <g id=\"line2d_32\">\n",
      "      <g>\n",
      "       <use xlink:href=\"#mfec040287d\" x=\"230.4\" y=\"93.24\" style=\"stroke: #000000; stroke-width: 0.8\"/>\n",
      "      </g>\n",
      "     </g>\n",
      "     <g id=\"text_17\">\n",
      "      <!-- 5.0 -->\n",
      "      <g transform=\"translate(207.496875 97.039219) scale(0.1 -0.1)\">\n",
      "       <use xlink:href=\"#DejaVuSans-35\"/>\n",
      "       <use xlink:href=\"#DejaVuSans-2e\" x=\"63.623047\"/>\n",
      "       <use xlink:href=\"#DejaVuSans-30\" x=\"95.410156\"/>\n",
      "      </g>\n",
      "     </g>\n",
      "    </g>\n",
      "    <g id=\"ytick_8\">\n",
      "     <g id=\"line2d_33\">\n",
      "      <path d=\"M 73.44 54 \n",
      "L 387.36 54 \n",
      "\" clip-path=\"url(#pe84b40b4ed)\" style=\"fill: none; stroke: #bfbfbf; stroke-width: 0.75; stroke-linecap: square\"/>\n",
      "     </g>\n",
      "     <g id=\"line2d_34\">\n",
      "      <g>\n",
      "       <use xlink:href=\"#mfec040287d\" x=\"230.4\" y=\"54\" style=\"stroke: #000000; stroke-width: 0.8\"/>\n",
      "      </g>\n",
      "     </g>\n",
      "     <g id=\"text_18\">\n",
      "      <!-- 7.5 -->\n",
      "      <g transform=\"translate(207.496875 57.799219) scale(0.1 -0.1)\">\n",
      "       <use xlink:href=\"#DejaVuSans-37\"/>\n",
      "       <use xlink:href=\"#DejaVuSans-2e\" x=\"63.623047\"/>\n",
      "       <use xlink:href=\"#DejaVuSans-35\" x=\"95.410156\"/>\n",
      "      </g>\n",
      "     </g>\n",
      "    </g>\n",
      "    <g id=\"ytick_9\">\n",
      "     <g id=\"line2d_35\">\n",
      "      <path d=\"M 73.44 14.76 \n",
      "L 387.36 14.76 \n",
      "\" clip-path=\"url(#pe84b40b4ed)\" style=\"fill: none; stroke: #bfbfbf; stroke-width: 0.75; stroke-linecap: square\"/>\n",
      "     </g>\n",
      "     <g id=\"line2d_36\">\n",
      "      <g>\n",
      "       <use xlink:href=\"#mfec040287d\" x=\"230.4\" y=\"14.76\" style=\"stroke: #000000; stroke-width: 0.8\"/>\n",
      "      </g>\n",
      "     </g>\n",
      "     <g id=\"text_19\">\n",
      "      <!-- 10.0 -->\n",
      "      <g transform=\"translate(201.134375 18.559219) scale(0.1 -0.1)\">\n",
      "       <use xlink:href=\"#DejaVuSans-31\"/>\n",
      "       <use xlink:href=\"#DejaVuSans-30\" x=\"63.623047\"/>\n",
      "       <use xlink:href=\"#DejaVuSans-2e\" x=\"127.246094\"/>\n",
      "       <use xlink:href=\"#DejaVuSans-30\" x=\"159.033203\"/>\n",
      "      </g>\n",
      "     </g>\n",
      "    </g>\n",
      "    <g id=\"text_20\">\n",
      "     <!-- $y$ -->\n",
      "     <g transform=\"translate(186.654687 174.72) rotate(-90) scale(0.1 -0.1)\">\n",
      "      <defs>\n",
      "       <path id=\"DejaVuSans-Oblique-79\" d=\"M 1588 -325 \n",
      "Q 1188 -997 936 -1164 \n",
      "Q 684 -1331 294 -1331 \n",
      "L -159 -1331 \n",
      "L -63 -850 \n",
      "L 269 -850 \n",
      "Q 509 -850 678 -719 \n",
      "Q 847 -588 1056 -206 \n",
      "L 1234 128 \n",
      "L 459 3500 \n",
      "L 1069 3500 \n",
      "L 1650 819 \n",
      "L 3256 3500 \n",
      "L 3859 3500 \n",
      "L 1588 -325 \n",
      "z\n",
      "\" transform=\"scale(0.015625)\"/>\n",
      "      </defs>\n",
      "      <use xlink:href=\"#DejaVuSans-Oblique-79\" transform=\"translate(0 0.3125)\"/>\n",
      "     </g>\n",
      "    </g>\n",
      "   </g>\n",
      "   <g id=\"PathCollection_1\">\n",
      "    <path d=\"M 212.96 224.304151 \n",
      "L 211.871546 224.04 \n",
      "L 209.789091 223.497253 \n",
      "L 206.618182 222.436376 \n",
      "L 203.447273 221.141051 \n",
      "L 202.883556 220.869091 \n",
      "L 200.276364 219.510853 \n",
      "L 197.259259 217.698182 \n",
      "L 197.105455 217.597758 \n",
      "L 193.934545 215.252248 \n",
      "L 193.057344 214.527273 \n",
      "L 190.763636 212.451495 \n",
      "L 189.668505 211.356364 \n",
      "L 187.592727 209.062656 \n",
      "L 186.867752 208.185455 \n",
      "L 184.522242 205.014545 \n",
      "L 184.421818 204.860741 \n",
      "L 182.609147 201.843636 \n",
      "L 181.250909 199.236444 \n",
      "L 180.978949 198.672727 \n",
      "L 179.683624 195.501818 \n",
      "L 178.622747 192.330909 \n",
      "L 178.08 190.248454 \n",
      "L 177.815849 189.16 \n",
      "L 177.264623 185.989091 \n",
      "L 176.931705 182.818182 \n",
      "L 176.817094 179.647273 \n",
      "L 176.92079 176.476364 \n",
      "L 177.242793 173.305455 \n",
      "L 177.783102 170.134545 \n",
      "L 178.08 168.893557 \n",
      "L 178.575858 166.963636 \n",
      "L 179.625012 163.792727 \n",
      "L 180.908615 160.621818 \n",
      "L 181.250909 159.906833 \n",
      "L 182.520539 157.450909 \n",
      "L 184.412957 154.28 \n",
      "L 184.421818 154.266905 \n",
      "L 186.743942 151.109091 \n",
      "L 187.592727 150.076663 \n",
      "L 189.517868 147.938182 \n",
      "L 190.763636 146.686467 \n",
      "L 192.874247 144.767273 \n",
      "L 193.934545 143.887155 \n",
      "L 197.018045 141.596364 \n",
      "L 197.105455 141.536631 \n",
      "L 200.276364 139.623918 \n",
      "L 202.56768 138.425455 \n",
      "L 203.447273 137.999529 \n",
      "L 206.618182 136.699398 \n",
      "L 209.789091 135.634584 \n",
      "L 211.241862 135.254545 \n",
      "L 212.96 134.836139 \n",
      "L 216.130909 134.28301 \n",
      "L 219.301818 133.948941 \n",
      "L 222.472727 133.833934 \n",
      "L 225.643636 133.937988 \n",
      "L 228.814545 134.261103 \n",
      "L 231.985455 134.80328 \n",
      "L 233.865188 135.254545 \n",
      "L 235.156364 135.58752 \n",
      "L 238.327273 136.640568 \n",
      "L 241.498182 137.928934 \n",
      "L 242.531482 138.425455 \n",
      "L 244.669091 139.534955 \n",
      "L 247.84 141.434959 \n",
      "L 248.077584 141.596364 \n",
      "L 251.010909 143.762806 \n",
      "L 252.2274 144.767273 \n",
      "L 254.181818 146.535111 \n",
      "L 255.584889 147.938182 \n",
      "L 257.352727 149.8926 \n",
      "L 258.357194 151.109091 \n",
      "L 260.523636 154.042416 \n",
      "L 260.685041 154.28 \n",
      "L 262.585045 157.450909 \n",
      "L 263.694545 159.588518 \n",
      "L 264.191066 160.621818 \n",
      "L 265.479432 163.792727 \n",
      "L 266.53248 166.963636 \n",
      "L 266.865455 168.254812 \n",
      "L 267.31672 170.134545 \n",
      "L 267.858897 173.305455 \n",
      "L 268.182012 176.476364 \n",
      "L 268.286066 179.647273 \n",
      "L 268.171059 182.818182 \n",
      "L 267.83699 185.989091 \n",
      "L 267.283861 189.16 \n",
      "L 266.865455 190.878138 \n",
      "L 266.485416 192.330909 \n",
      "L 265.420602 195.501818 \n",
      "L 264.120471 198.672727 \n",
      "L 263.694545 199.55232 \n",
      "L 262.496082 201.843636 \n",
      "L 260.583369 205.014545 \n",
      "L 260.523636 205.101955 \n",
      "L 258.232845 208.185455 \n",
      "L 257.352727 209.245753 \n",
      "L 255.433533 211.356364 \n",
      "L 254.181818 212.602132 \n",
      "L 252.043337 214.527273 \n",
      "L 251.010909 215.376058 \n",
      "L 247.853095 217.698182 \n",
      "L 247.84 217.707043 \n",
      "L 244.669091 219.599461 \n",
      "L 242.213167 220.869091 \n",
      "L 241.498182 221.211385 \n",
      "L 238.327273 222.494988 \n",
      "L 235.156364 223.544142 \n",
      "L 233.226443 224.04 \n",
      "L 231.985455 224.336898 \n",
      "L 228.814545 224.877207 \n",
      "L 225.643636 225.19921 \n",
      "L 222.472727 225.302906 \n",
      "L 219.301818 225.188295 \n",
      "L 216.130909 224.855377 \n",
      "L 212.96 224.304151 \n",
      "z\n",
      "\" clip-path=\"url(#pe84b40b4ed)\" style=\"fill: none; stroke: #1f77b4; stroke-width: 1.5\"/>\n",
      "   </g>\n",
      "   <g id=\"PathCollection_2\">\n",
      "    <path d=\"M 340.272 328.68 \n",
      "L 73.44 61.848 \n",
      "L 73.44 61.848 \n",
      "\" clip-path=\"url(#pe84b40b4ed)\" style=\"fill: none; stroke: #ff7f0e; stroke-width: 1.5\"/>\n",
      "   </g>\n",
      "   <g id=\"line2d_37\">\n",
      "    <defs>\n",
      "     <path id=\"mc52b9c38b2\" d=\"M 0 3 \n",
      "C 0.795609 3 1.55874 2.683901 2.12132 2.12132 \n",
      "C 2.683901 1.55874 3 0.795609 3 0 \n",
      "C 3 -0.795609 2.683901 -1.55874 2.12132 -2.12132 \n",
      "C 1.55874 -2.683901 0.795609 -3 0 -3 \n",
      "C -0.795609 -3 -1.55874 -2.683901 -2.12132 -2.12132 \n",
      "C -2.683901 -1.55874 -3 -0.795609 -3 0 \n",
      "C -3 0.795609 -2.683901 1.55874 -2.12132 2.12132 \n",
      "C -1.55874 2.683901 -0.795609 3 0 3 \n",
      "z\n",
      "\" style=\"stroke: #2ca02c\"/>\n",
      "    </defs>\n",
      "    <g clip-path=\"url(#pe84b40b4ed)\">\n",
      "     <use xlink:href=\"#mc52b9c38b2\" x=\"235.152366\" y=\"223.560366\" style=\"fill: #2ca02c; stroke: #2ca02c\"/>\n",
      "    </g>\n",
      "   </g>\n",
      "   <g id=\"line2d_38\">\n",
      "    <defs>\n",
      "     <path id=\"m2e9472aa05\" d=\"M 0 3 \n",
      "C 0.795609 3 1.55874 2.683901 2.12132 2.12132 \n",
      "C 2.683901 1.55874 3 0.795609 3 0 \n",
      "C 3 -0.795609 2.683901 -1.55874 2.12132 -2.12132 \n",
      "C 1.55874 -2.683901 0.795609 -3 0 -3 \n",
      "C -0.795609 -3 -1.55874 -2.683901 -2.12132 -2.12132 \n",
      "C -2.683901 -1.55874 -3 -0.795609 -3 0 \n",
      "C -3 0.795609 -2.683901 1.55874 -2.12132 2.12132 \n",
      "C -1.55874 2.683901 -0.795609 3 0 3 \n",
      "z\n",
      "\" style=\"stroke: #d62728\"/>\n",
      "    </defs>\n",
      "    <g clip-path=\"url(#pe84b40b4ed)\">\n",
      "     <use xlink:href=\"#m2e9472aa05\" x=\"178.559634\" y=\"166.967634\" style=\"fill: #d62728; stroke: #d62728\"/>\n",
      "    </g>\n",
      "   </g>\n",
      "   <g id=\"patch_3\">\n",
      "    <path d=\"M 230.4 328.68 \n",
      "L 230.4 14.76 \n",
      "\" style=\"fill: none; stroke: #000000; stroke-width: 0.8; stroke-linejoin: miter; stroke-linecap: square\"/>\n",
      "   </g>\n",
      "   <g id=\"patch_4\">\n",
      "    <path d=\"M 73.44 171.72 \n",
      "L 387.36 171.72 \n",
      "\" style=\"fill: none; stroke: #000000; stroke-width: 0.8; stroke-linejoin: miter; stroke-linecap: square\"/>\n",
      "   </g>\n",
      "   <g id=\"legend_1\">\n",
      "    <g id=\"patch_5\">\n",
      "     <path d=\"M 240.16 83.014687 \n",
      "L 380.36 83.014687 \n",
      "Q 382.36 83.014687 382.36 81.014687 \n",
      "L 382.36 21.76 \n",
      "Q 382.36 19.76 380.36 19.76 \n",
      "L 240.16 19.76 \n",
      "Q 238.16 19.76 238.16 21.76 \n",
      "L 238.16 81.014687 \n",
      "Q 238.16 83.014687 240.16 83.014687 \n",
      "z\n",
      "\" style=\"fill: #ffffff; opacity: 0.8; stroke: #cccccc; stroke-linejoin: miter\"/>\n",
      "    </g>\n",
      "    <g id=\"line2d_39\">\n",
      "     <path d=\"M 242.16 29.36 \n",
      "L 252.16 29.36 \n",
      "L 262.16 29.36 \n",
      "\" style=\"fill: none; stroke: #1f77b4; stroke-width: 1.5; stroke-linecap: square\"/>\n",
      "    </g>\n",
      "    <g id=\"text_21\">\n",
      "     <!-- $x^{2} + x + y^{2} + y - 8 = 0$ -->\n",
      "     <g transform=\"translate(270.16 32.86) scale(0.1 -0.1)\">\n",
      "      <defs>\n",
      "       <path id=\"DejaVuSans-2b\" d=\"M 2944 4013 \n",
      "L 2944 2272 \n",
      "L 4684 2272 \n",
      "L 4684 1741 \n",
      "L 2944 1741 \n",
      "L 2944 0 \n",
      "L 2419 0 \n",
      "L 2419 1741 \n",
      "L 678 1741 \n",
      "L 678 2272 \n",
      "L 2419 2272 \n",
      "L 2419 4013 \n",
      "L 2944 4013 \n",
      "z\n",
      "\" transform=\"scale(0.015625)\"/>\n",
      "       <path id=\"DejaVuSans-38\" d=\"M 2034 2216 \n",
      "Q 1584 2216 1326 1975 \n",
      "Q 1069 1734 1069 1313 \n",
      "Q 1069 891 1326 650 \n",
      "Q 1584 409 2034 409 \n",
      "Q 2484 409 2743 651 \n",
      "Q 3003 894 3003 1313 \n",
      "Q 3003 1734 2745 1975 \n",
      "Q 2488 2216 2034 2216 \n",
      "z\n",
      "M 1403 2484 \n",
      "Q 997 2584 770 2862 \n",
      "Q 544 3141 544 3541 \n",
      "Q 544 4100 942 4425 \n",
      "Q 1341 4750 2034 4750 \n",
      "Q 2731 4750 3128 4425 \n",
      "Q 3525 4100 3525 3541 \n",
      "Q 3525 3141 3298 2862 \n",
      "Q 3072 2584 2669 2484 \n",
      "Q 3125 2378 3379 2068 \n",
      "Q 3634 1759 3634 1313 \n",
      "Q 3634 634 3220 271 \n",
      "Q 2806 -91 2034 -91 \n",
      "Q 1263 -91 848 271 \n",
      "Q 434 634 434 1313 \n",
      "Q 434 1759 690 2068 \n",
      "Q 947 2378 1403 2484 \n",
      "z\n",
      "M 1172 3481 \n",
      "Q 1172 3119 1398 2916 \n",
      "Q 1625 2713 2034 2713 \n",
      "Q 2441 2713 2670 2916 \n",
      "Q 2900 3119 2900 3481 \n",
      "Q 2900 3844 2670 4047 \n",
      "Q 2441 4250 2034 4250 \n",
      "Q 1625 4250 1398 4047 \n",
      "Q 1172 3844 1172 3481 \n",
      "z\n",
      "\" transform=\"scale(0.015625)\"/>\n",
      "       <path id=\"DejaVuSans-3d\" d=\"M 678 2906 \n",
      "L 4684 2906 \n",
      "L 4684 2381 \n",
      "L 678 2381 \n",
      "L 678 2906 \n",
      "z\n",
      "M 678 1631 \n",
      "L 4684 1631 \n",
      "L 4684 1100 \n",
      "L 678 1100 \n",
      "L 678 1631 \n",
      "z\n",
      "\" transform=\"scale(0.015625)\"/>\n",
      "      </defs>\n",
      "      <use xlink:href=\"#DejaVuSans-Oblique-78\" transform=\"translate(0 0.765625)\"/>\n",
      "      <use xlink:href=\"#DejaVuSans-32\" transform=\"translate(63.645833 39.046875) scale(0.7)\"/>\n",
      "      <use xlink:href=\"#DejaVuSans-2b\" transform=\"translate(130.398763 0.765625)\"/>\n",
      "      <use xlink:href=\"#DejaVuSans-Oblique-78\" transform=\"translate(233.670247 0.765625)\"/>\n",
      "      <use xlink:href=\"#DejaVuSans-2b\" transform=\"translate(312.332357 0.765625)\"/>\n",
      "      <use xlink:href=\"#DejaVuSans-Oblique-79\" transform=\"translate(415.603841 0.765625)\"/>\n",
      "      <use xlink:href=\"#DejaVuSans-32\" transform=\"translate(479.249674 39.046875) scale(0.7)\"/>\n",
      "      <use xlink:href=\"#DejaVuSans-2b\" transform=\"translate(546.002604 0.765625)\"/>\n",
      "      <use xlink:href=\"#DejaVuSans-Oblique-79\" transform=\"translate(649.274089 0.765625)\"/>\n",
      "      <use xlink:href=\"#DejaVuSans-2212\" transform=\"translate(727.936198 0.765625)\"/>\n",
      "      <use xlink:href=\"#DejaVuSans-38\" transform=\"translate(831.207682 0.765625)\"/>\n",
      "      <use xlink:href=\"#DejaVuSans-3d\" transform=\"translate(914.313151 0.765625)\"/>\n",
      "      <use xlink:href=\"#DejaVuSans-30\" transform=\"translate(1017.584635 0.765625)\"/>\n",
      "     </g>\n",
      "    </g>\n",
      "    <g id=\"line2d_40\">\n",
      "     <path d=\"M 242.16 44.058437 \n",
      "L 252.16 44.058437 \n",
      "L 262.16 44.058437 \n",
      "\" style=\"fill: none; stroke: #ff7f0e; stroke-width: 1.5; stroke-linecap: square\"/>\n",
      "    </g>\n",
      "    <g id=\"text_22\">\n",
      "     <!-- $- x - y - 3 = 0$ -->\n",
      "     <g transform=\"translate(270.16 47.558437) scale(0.1 -0.1)\">\n",
      "      <defs>\n",
      "       <path id=\"DejaVuSans-33\" d=\"M 2597 2516 \n",
      "Q 3050 2419 3304 2112 \n",
      "Q 3559 1806 3559 1356 \n",
      "Q 3559 666 3084 287 \n",
      "Q 2609 -91 1734 -91 \n",
      "Q 1441 -91 1130 -33 \n",
      "Q 819 25 488 141 \n",
      "L 488 750 \n",
      "Q 750 597 1062 519 \n",
      "Q 1375 441 1716 441 \n",
      "Q 2309 441 2620 675 \n",
      "Q 2931 909 2931 1356 \n",
      "Q 2931 1769 2642 2001 \n",
      "Q 2353 2234 1838 2234 \n",
      "L 1294 2234 \n",
      "L 1294 2753 \n",
      "L 1863 2753 \n",
      "Q 2328 2753 2575 2939 \n",
      "Q 2822 3125 2822 3475 \n",
      "Q 2822 3834 2567 4026 \n",
      "Q 2313 4219 1838 4219 \n",
      "Q 1578 4219 1281 4162 \n",
      "Q 984 4106 628 3988 \n",
      "L 628 4550 \n",
      "Q 988 4650 1302 4700 \n",
      "Q 1616 4750 1894 4750 \n",
      "Q 2613 4750 3031 4423 \n",
      "Q 3450 4097 3450 3541 \n",
      "Q 3450 3153 3228 2886 \n",
      "Q 3006 2619 2597 2516 \n",
      "z\n",
      "\" transform=\"scale(0.015625)\"/>\n",
      "      </defs>\n",
      "      <use xlink:href=\"#DejaVuSans-2212\" transform=\"translate(0 0.78125)\"/>\n",
      "      <use xlink:href=\"#DejaVuSans-Oblique-78\" transform=\"translate(83.789062 0.78125)\"/>\n",
      "      <use xlink:href=\"#DejaVuSans-2212\" transform=\"translate(162.451172 0.78125)\"/>\n",
      "      <use xlink:href=\"#DejaVuSans-Oblique-79\" transform=\"translate(265.722656 0.78125)\"/>\n",
      "      <use xlink:href=\"#DejaVuSans-2212\" transform=\"translate(344.384766 0.78125)\"/>\n",
      "      <use xlink:href=\"#DejaVuSans-33\" transform=\"translate(447.65625 0.78125)\"/>\n",
      "      <use xlink:href=\"#DejaVuSans-3d\" transform=\"translate(530.761719 0.78125)\"/>\n",
      "      <use xlink:href=\"#DejaVuSans-30\" transform=\"translate(634.033203 0.78125)\"/>\n",
      "     </g>\n",
      "    </g>\n",
      "    <g id=\"line2d_41\">\n",
      "     <g>\n",
      "      <use xlink:href=\"#mc52b9c38b2\" x=\"252.16\" y=\"58.756875\" style=\"fill: #2ca02c; stroke: #2ca02c\"/>\n",
      "     </g>\n",
      "    </g>\n",
      "    <g id=\"text_23\">\n",
      "     <!-- A -->\n",
      "     <g transform=\"translate(270.16 62.256875) scale(0.1 -0.1)\">\n",
      "      <defs>\n",
      "       <path id=\"DejaVuSans-41\" d=\"M 2188 4044 \n",
      "L 1331 1722 \n",
      "L 3047 1722 \n",
      "L 2188 4044 \n",
      "z\n",
      "M 1831 4666 \n",
      "L 2547 4666 \n",
      "L 4325 0 \n",
      "L 3669 0 \n",
      "L 3244 1197 \n",
      "L 1141 1197 \n",
      "L 716 0 \n",
      "L 50 0 \n",
      "L 1831 4666 \n",
      "z\n",
      "\" transform=\"scale(0.015625)\"/>\n",
      "      </defs>\n",
      "      <use xlink:href=\"#DejaVuSans-41\"/>\n",
      "     </g>\n",
      "    </g>\n",
      "    <g id=\"line2d_42\">\n",
      "     <g>\n",
      "      <use xlink:href=\"#m2e9472aa05\" x=\"252.16\" y=\"73.435\" style=\"fill: #d62728; stroke: #d62728\"/>\n",
      "     </g>\n",
      "    </g>\n",
      "    <g id=\"text_24\">\n",
      "     <!-- B -->\n",
      "     <g transform=\"translate(270.16 76.935) scale(0.1 -0.1)\">\n",
      "      <defs>\n",
      "       <path id=\"DejaVuSans-42\" d=\"M 1259 2228 \n",
      "L 1259 519 \n",
      "L 2272 519 \n",
      "Q 2781 519 3026 730 \n",
      "Q 3272 941 3272 1375 \n",
      "Q 3272 1813 3026 2020 \n",
      "Q 2781 2228 2272 2228 \n",
      "L 1259 2228 \n",
      "z\n",
      "M 1259 4147 \n",
      "L 1259 2741 \n",
      "L 2194 2741 \n",
      "Q 2656 2741 2882 2914 \n",
      "Q 3109 3088 3109 3444 \n",
      "Q 3109 3797 2882 3972 \n",
      "Q 2656 4147 2194 4147 \n",
      "L 1259 4147 \n",
      "z\n",
      "M 628 4666 \n",
      "L 2241 4666 \n",
      "Q 2963 4666 3353 4366 \n",
      "Q 3744 4066 3744 3513 \n",
      "Q 3744 3084 3544 2831 \n",
      "Q 3344 2578 2956 2516 \n",
      "Q 3422 2416 3680 2098 \n",
      "Q 3938 1781 3938 1306 \n",
      "Q 3938 681 3513 340 \n",
      "Q 3088 0 2303 0 \n",
      "L 628 0 \n",
      "L 628 4666 \n",
      "z\n",
      "\" transform=\"scale(0.015625)\"/>\n",
      "      </defs>\n",
      "      <use xlink:href=\"#DejaVuSans-42\"/>\n",
      "     </g>\n",
      "    </g>\n",
      "   </g>\n",
      "  </g>\n",
      " </g>\n",
      " <defs>\n",
      "  <clipPath id=\"pe84b40b4ed\">\n",
      "   <rect x=\"73.44\" y=\"14.76\" width=\"313.92\" height=\"313.92\"/>\n",
      "  </clipPath>\n",
      " </defs>\n",
      "</svg>\n",
      "\n",
      "8 -1 3\n",
      "1 3\n",
      "3 -1 1\n"
     ]
    }
   ],
   "source": [
    "def test():\n",
    "\n",
    "    result = []\n",
    "    while len(result) == 0:\n",
    "        x0, x1, x2 = randint(-9, 9), randint(-7, 7), randint(1, 5)\n",
    "        y1, y2 = x1 + randint(-2, 2), x2\n",
    "        lx0, lx1, ly1 = randint(-7, 7), randint(-7, 7), 1\n",
    "        x, y = sp.symbols(\"x y\", real=True)\n",
    "\n",
    "        circle = sp.Eq(x**2 + y**2 - x1*x + y1*y - x0, 0)\n",
    "        line = sp.Eq(lx1*x - ly1*y - lx0, 0)\n",
    "\n",
    "        result = sp.solve([circle, line], [x, y], dict=True)\n",
    "    print(result)\n",
    "\n",
    "    print('координаты точки пересчения А: ', result[0][x], result[0][y])\n",
    "    print('координаты точки пересчения B: ', result[1][x], result[1][y])\n",
    "    \n",
    "    plot_base = spb.graphics(\n",
    "        spb.implicit_2d(circle),\n",
    "        spb.implicit_2d(line),\n",
    "        rendering_kw={\"marker\": \"ro\", \"markerfacecolor\": None},\n",
    "        backend=spb.MB,\n",
    "        axis_center=(0.0, 0.0),\n",
    "        #legend=False,\n",
    "        show=False,\n",
    "        aspect = \"equal\",\n",
    "    )\n",
    "    plot_anotation = spb.plot_list(\n",
    "        ([result[0][x]], [result[0][y]], \"A\"),\n",
    "        (result[1][x], result[1][y], \"B\"),\n",
    "        rendering_kw={\"marker\": \"o\", \"markerfacecolor\": None},\n",
    "        scatter=True, show=False\n",
    "    )\n",
    "    \n",
    "    plot = plot_base + plot_anotation\n",
    "    plot.show()\n",
    "\n",
    "    buffer = io.StringIO()\n",
    "    plot.save(buffer, format = \"svg\")\n",
    "\n",
    "    print(buffer.getvalue())\n",
    "    print(x0, x1, x2)\n",
    "    print(y1, y2)\n",
    "    print(lx0, lx1, ly1)\n",
    "\n",
    "\n",
    "\n",
    "test()"
   ]
  }
 ],
 "metadata": {
  "kernelspec": {
   "display_name": "Python 3",
   "language": "python",
   "name": "python3"
  },
  "language_info": {
   "codemirror_mode": {
    "name": "ipython",
    "version": 3
   },
   "file_extension": ".py",
   "mimetype": "text/x-python",
   "name": "python",
   "nbconvert_exporter": "python",
   "pygments_lexer": "ipython3",
   "version": "3.10.7"
  }
 },
 "nbformat": 4,
 "nbformat_minor": 2
}
