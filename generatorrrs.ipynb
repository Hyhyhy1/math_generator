{
 "cells": [
  {
   "cell_type": "code",
   "execution_count": 2,
   "metadata": {},
   "outputs": [],
   "source": [
    "import numpy as np\n",
    "import sympy as sp\n",
    "import scipy as sc\n",
    "from math import *\n",
    "from random import *"
   ]
  },
  {
   "cell_type": "markdown",
   "metadata": {},
   "source": [
    "конвертация матрицы в для отправки"
   ]
  },
  {
   "cell_type": "code",
   "execution_count": 3,
   "metadata": {},
   "outputs": [
    {
     "data": {
      "text/plain": [
       "{'data': [[1, 0, -2], [-2, 6, 5]]}"
      ]
     },
     "execution_count": 3,
     "metadata": {},
     "output_type": "execute_result"
    }
   ],
   "source": [
    "matrix = np.random.randint(-3,10,size=(2,3))\n",
    "dic = {\"data\": matrix.tolist()}\n",
    "dic"
   ]
  },
  {
   "cell_type": "markdown",
   "metadata": {},
   "source": [
    "конвертация массива в матрицу"
   ]
  },
  {
   "cell_type": "code",
   "execution_count": 4,
   "metadata": {},
   "outputs": [
    {
     "data": {
      "text/plain": [
       "matrix([[ 1,  0, -2],\n",
       "        [-2,  6,  5]])"
      ]
     },
     "execution_count": 4,
     "metadata": {},
     "output_type": "execute_result"
    }
   ],
   "source": [
    "np.asmatrix(dic['data'])"
   ]
  },
  {
   "cell_type": "markdown",
   "metadata": {},
   "source": [
    "определитель"
   ]
  },
  {
   "cell_type": "code",
   "execution_count": 5,
   "metadata": {},
   "outputs": [
    {
     "data": {
      "text/plain": [
       "(-104.0, -103.99999999999999)"
      ]
     },
     "execution_count": 5,
     "metadata": {},
     "output_type": "execute_result"
    }
   ],
   "source": [
    "matrix = np.random.randint(-3,10,size=(3,3))\n",
    "np.around(np.linalg.det(matrix), 1 ), np.linalg.det(matrix)"
   ]
  },
  {
   "cell_type": "markdown",
   "metadata": {},
   "source": [
    "транспонирование"
   ]
  },
  {
   "cell_type": "code",
   "execution_count": 6,
   "metadata": {},
   "outputs": [
    {
     "data": {
      "text/plain": [
       "array([[ 7,  0,  3],\n",
       "       [ 2, -1,  3],\n",
       "       [ 7,  6,  5]])"
      ]
     },
     "execution_count": 6,
     "metadata": {},
     "output_type": "execute_result"
    }
   ],
   "source": [
    "matrix.transpose()"
   ]
  },
  {
   "cell_type": "markdown",
   "metadata": {},
   "source": [
    "Ранг матрицы"
   ]
  },
  {
   "cell_type": "code",
   "execution_count": 7,
   "metadata": {},
   "outputs": [
    {
     "data": {
      "text/plain": [
       "3"
      ]
     },
     "execution_count": 7,
     "metadata": {},
     "output_type": "execute_result"
    }
   ],
   "source": [
    "np.linalg.matrix_rank(matrix)"
   ]
  },
  {
   "cell_type": "markdown",
   "metadata": {},
   "source": [
    "обратная матрица"
   ]
  },
  {
   "cell_type": "code",
   "execution_count": 8,
   "metadata": {},
   "outputs": [
    {
     "data": {
      "text/plain": [
       "array([[-3, -2,  5],\n",
       "       [-4,  5, -1],\n",
       "       [ 2, -9, -6]])"
      ]
     },
     "execution_count": 8,
     "metadata": {},
     "output_type": "execute_result"
    }
   ],
   "source": [
    "a = np.random.randint(-9, 10, size=(3,3))\n",
    "while (np.linalg.det(a) == 0):\n",
    "  a = np.random.randint(-9, 10, size=(3,3))\n",
    "a"
   ]
  },
  {
   "cell_type": "code",
   "execution_count": 9,
   "metadata": {},
   "outputs": [
    {
     "data": {
      "text/plain": [
       "array([[-0.1, -0.2, -0.1],\n",
       "       [-0.1,  0. , -0.1],\n",
       "       [ 0.1, -0.1, -0.1]])"
      ]
     },
     "execution_count": 9,
     "metadata": {},
     "output_type": "execute_result"
    }
   ],
   "source": [
    "InvA = np.around(np.linalg.inv(a), 1)\n",
    "InvA"
   ]
  },
  {
   "cell_type": "markdown",
   "metadata": {},
   "source": [
    "Сумма матриц"
   ]
  },
  {
   "cell_type": "code",
   "execution_count": 10,
   "metadata": {},
   "outputs": [
    {
     "data": {
      "text/plain": [
       "2"
      ]
     },
     "execution_count": 10,
     "metadata": {},
     "output_type": "execute_result"
    }
   ],
   "source": [
    "matrix = np.random.randint(10, size=(4, 4))\n",
    "row_count = matrix.shape[0]\n",
    "columns_count = matrix.shape[1]\n",
    "\n",
    "row_index = np.random.randint(0,row_count, size=(1,1))[0][0]\n",
    "column_index = np.random.randint(0,columns_count, size=(1,1))[0][0]\n",
    "answer = matrix[row_index][column_index]\n",
    "answer"
   ]
  },
  {
   "cell_type": "markdown",
   "metadata": {},
   "source": [
    "Умножение числа на матрицу"
   ]
  },
  {
   "cell_type": "code",
   "execution_count": 11,
   "metadata": {},
   "outputs": [
    {
     "data": {
      "text/plain": [
       "array([[56, 24, 24,  0],\n",
       "       [40, 48, 24, 16],\n",
       "       [ 8,  0, 56, 24],\n",
       "       [40, 32, 24,  8]])"
      ]
     },
     "execution_count": 11,
     "metadata": {},
     "output_type": "execute_result"
    }
   ],
   "source": [
    "matrix = np.random.randint(10, size=(4, 4))\n",
    "number = np.random.randint(1, 10, size=(1,1))[0][0]\n",
    "\n",
    "answer = matrix * number\n",
    "answer"
   ]
  },
  {
   "cell_type": "markdown",
   "metadata": {},
   "source": [
    "Умножение матриц"
   ]
  },
  {
   "cell_type": "code",
   "execution_count": 12,
   "metadata": {},
   "outputs": [
    {
     "data": {
      "text/plain": [
       "(array([[ 6, -4],\n",
       "        [ 5,  6]]),\n",
       " array([[ 3, -7],\n",
       "        [ 2, -5]]),\n",
       " array([[ 10, -22],\n",
       "        [ 27, -65]]))"
      ]
     },
     "execution_count": 12,
     "metadata": {},
     "output_type": "execute_result"
    }
   ],
   "source": [
    "matrix1 = np.random.randint(-9, 10, size=(2,2))\n",
    "matrix2 = np.random.randint(-9, 10, size=(2,2))\n",
    "\n",
    "\n",
    "matrix1,matrix2,np.dot(matrix1, matrix2)"
   ]
  },
  {
   "cell_type": "markdown",
   "metadata": {},
   "source": [
    "Генерация невырожденной матрицы"
   ]
  },
  {
   "cell_type": "code",
   "execution_count": 13,
   "metadata": {},
   "outputs": [],
   "source": [
    "def generateNonsingularMatrix(min_value, max_value, rows_count, columns_count):\n",
    "  a = np.random.randint(min_value, max_value, size=(rows_count, columns_count))\n",
    "  while (np.linalg.det(a) == 0):\n",
    "    a = np.random.randint(min_value, max_value, size=(rows_count, columns_count))\n",
    "\n",
    "  return a"
   ]
  },
  {
   "cell_type": "markdown",
   "metadata": {},
   "source": [
    "Уравнение с определителем"
   ]
  },
  {
   "cell_type": "code",
   "execution_count": 14,
   "metadata": {},
   "outputs": [
    {
     "name": "stdout",
     "output_type": "stream",
     "text": [
      "{'task': 'Какое значение должно стоять на месте x, чтобы соблюдалось равенство?', 'data': {'matrix': [['-7', '7', '6'], ['4', '4', '-1'], ['1', '1', 'x']], 'determinant': 154.0}, 'answer': -3}\n"
     ]
    }
   ],
   "source": [
    "def GenerateDeterminantEquationTask():\n",
    "  matrix = generateNonsingularMatrix(-9, 10, 3, 3)\n",
    "  determinant = np.around(np.linalg.det(matrix))\n",
    "\n",
    "  row_count = matrix.shape[0]\n",
    "  columns_count = matrix.shape[1]\n",
    "\n",
    "  row_index = np.random.randint(0,row_count, size=(1,1))[0][0]\n",
    "  column_index = np.random.randint(0,columns_count, size=(1,1))[0][0]\n",
    "  random_elem = matrix[row_index][column_index]\n",
    "\n",
    "  new_matrix = np.where(matrix == random_elem, \"x\", matrix)\n",
    "  task = \"Какое значение должно стоять на месте x, чтобы соблюдалось равенство?\" \n",
    "\n",
    "  dic = {\n",
    "    \"task\":task,\n",
    "    \"data\": {\"matrix\": new_matrix.tolist(), \"determinant\": determinant},\n",
    "    \"answer\": int(random_elem)}\n",
    "  return dic\n",
    "\n",
    "print(GenerateDeterminantEquationTask())"
   ]
  },
  {
   "cell_type": "markdown",
   "metadata": {},
   "source": [
    "Матричные уравнения"
   ]
  },
  {
   "cell_type": "code",
   "execution_count": 38,
   "metadata": {},
   "outputs": [
    {
     "name": "stdout",
     "output_type": "stream",
     "text": [
      "{'task': 'Решите уравнение вида A*X = B. Ответ округлите до 3х знаков после запятой', 'data': {'A': [[0, -7, 9], [0, 4, -2], [-3, 5, -7]], 'B': [[4, -1, 8], [9, 9, 9], [-2, 7, 7]]}, 'answer': [[-0.97, -2.606, -5.061], [4.045, 3.591, 4.409], [3.591, 2.682, 4.318]]}\n"
     ]
    }
   ],
   "source": [
    "def GenerateSolveMatrixEquationTask():\n",
    "  switch = randint(0, 1)\n",
    "\n",
    "  if switch == 0:\n",
    "    a = generateNonsingularMatrix(-9, 10, 3, 3)\n",
    "    b = generateNonsingularMatrix(-9, 10, 3, 3)\n",
    "    a1 = np.linalg.inv(a)\n",
    "    answer = np.around(np.dot(a1, b), 3)\n",
    "    task = \"Решите уравнение вида A*X = B. Ответ округлите до 3х знаков после запятой\"\n",
    "  else:\n",
    "    a = generateNonsingularMatrix(-9, 10, 3, 3)\n",
    "    b = generateNonsingularMatrix(-9, 10, 3, 3)\n",
    "    a1 = np.linalg.inv(a)\n",
    "    answer = np.around(np.dot(b,a1), 3)\n",
    "    task = \"Решите уравнение вида X*A = B. Ответ округлите до 3х знаков после запятой\"\n",
    "    \n",
    "  dic = {\n",
    "  \"task\":task,\n",
    "  \"data\": {\"A\": a.tolist(), \"B\": b.tolist()},\n",
    "  \"answer\": answer.tolist()}\n",
    "  return dic\n",
    "\n",
    "print(GenerateSolveMatrixEquationTask())"
   ]
  },
  {
   "cell_type": "code",
   "execution_count": 16,
   "metadata": {},
   "outputs": [
    {
     "name": "stdout",
     "output_type": "stream",
     "text": [
      "{'task': 'Решите уравнение вида A·X·B = C. Ответ округлите до 3х знаков после запятой', 'data': {'A': [[-4, -6, 3], [0, -1, -9], [-2, -2, -1]], 'B': [[6, -4, 5], [6, -1, 4], [-3, -4, -7]], 'C': [[5, 4, 4], [-1, 2, 4], [-1, 5, 9]]}, 'answer': [[-1.471, 2.847, 1.809], [1.069, -2.011, -1.044], [-0.186, 0.355, 0.206]]}\n"
     ]
    }
   ],
   "source": [
    "def GenerateSolveDoubleMatrixEquationTask():\n",
    "  task = \"Решите уравнение вида A·X·B = C. Ответ округлите до 3х знаков после запятой\"\n",
    "  a = generateNonsingularMatrix(-9, 10, 3, 3)\n",
    "  b = generateNonsingularMatrix(-9, 10, 3, 3)\n",
    "  c = generateNonsingularMatrix(-9, 10, 3, 3)\n",
    "  a1 = np.linalg.inv(a)\n",
    "  b1 = np.linalg.inv(b)\n",
    "  x = np.dot(a1,c)\n",
    "  answer = np.around(np.dot(x, b1), 3)\n",
    "  dic = {\n",
    "  \"task\":task,\n",
    "  \"data\": {\"A\": a.tolist(), \"B\": b.tolist(), \"C\": c.tolist()},\n",
    "  \"answer\": answer.tolist()}\n",
    "  return dic\n",
    "\n",
    "print(GenerateSolveDoubleMatrixEquationTask())"
   ]
  },
  {
   "cell_type": "markdown",
   "metadata": {},
   "source": [
    "Ранг матрицы"
   ]
  },
  {
   "cell_type": "code",
   "execution_count": 17,
   "metadata": {},
   "outputs": [
    {
     "name": "stdout",
     "output_type": "stream",
     "text": [
      "{'task': 'Определите ранг матрицы', 'data': [[-9, 2, 8], [-2, -9, 4], [2, 8, -7]], 'answer': 3}\n"
     ]
    }
   ],
   "source": [
    "def GenerateFindMatrixRankTask():\n",
    "  switch = np.random.randint(0, 2, size=(1,1))[0][0]\n",
    "  task = \"Определите ранг матрицы\"\n",
    "\n",
    "  if switch == 0:\n",
    "    matrix = np.random.randint(-9, 10, size=(3,3))\n",
    "    answer = np.linalg.matrix_rank(matrix)\n",
    "      \n",
    "  else:\n",
    "    matrix = np.random.randint(-9, 10, size=(2,3))\n",
    "    factor1, factor2 = 0, 0\n",
    "    while factor1 == 0 or factor2 == 0:\n",
    "        factor1 = np.random.randint(-3, 4, size=(1,1))[0][0]\n",
    "        factor2 = np.random.randint(-3, 4, size=(1,1))[0][0]\n",
    "\n",
    "    matrix = np.vstack([matrix, factor1 * matrix[0] + factor2*matrix[1]])\n",
    "    np.random.shuffle(matrix)\n",
    "    answer = np.linalg.matrix_rank(matrix)\n",
    "  \n",
    "  dic = {\n",
    "  \"task\":task,\n",
    "  \"data\": matrix.tolist(),\n",
    "  \"answer\": answer.item()}\n",
    "  return dic\n",
    "\n",
    "print(GenerateFindMatrixRankTask())"
   ]
  },
  {
   "cell_type": "markdown",
   "metadata": {},
   "source": [
    "Система линейных уравнений"
   ]
  },
  {
   "cell_type": "code",
   "execution_count": 18,
   "metadata": {},
   "outputs": [
    {
     "name": "stdout",
     "output_type": "stream",
     "text": [
      "(array([[ 7,  4,  1],\n",
      "       [ 5,  1, -3],\n",
      "       [ 8,  1, -3]]), array([[16],\n",
      "       [18],\n",
      "       [19]]), array([[ 0.33333333],\n",
      "       [ 4.41025641],\n",
      "       [-3.97435897]]))\n"
     ]
    }
   ],
   "source": [
    "def generateSLU(x_count, equation_count, min_value, max_value):\n",
    "  a = np.random.randint(min_value, max_value, size=(equation_count, x_count))\n",
    "  while (np.linalg.det(a) == 0):\n",
    "    a = np.random.randint(min_value, max_value, size=(equation_count, x_count))\n",
    "\n",
    "  b = np.random.randint(min_value, max_value, size=(x_count, 1))\n",
    "  x = np.random.randint(1, size=(x_count, 1))\n",
    "\n",
    "  while((a.dot(x) != b).any()):\n",
    "    a = np.random.randint(min_value, max_value, size=(equation_count, x_count))\n",
    "    while (np.linalg.det(a) == 0):\n",
    "      a = np.random.randint(min_value, max_value, size=(equation_count, x_count))\n",
    "\n",
    "    b = np.random.randint(min_value, max_value, size=(x_count, 1))\n",
    "    x = np.linalg.solve(a, b)\n",
    "  return (a,b,x)\n",
    "\n",
    "print(generateSLU(3,3,-5, 21))"
   ]
  },
  {
   "cell_type": "code",
   "execution_count": 19,
   "metadata": {},
   "outputs": [
    {
     "name": "stdout",
     "output_type": "stream",
     "text": [
      "{'task': 'Решите систему линейных уравнений. Ответ округлите до 3х знаков после запятой', 'data': {'first_equation': '8*x + 12*y + 15*z = 10', 'second_equation': '10*x + 12*y + 3*z = 4', 'third_equation': '3*x + 7*y + 6*z = 4'}, 'answer': [[0.2], [0.0], [0.5]]}\n"
     ]
    }
   ],
   "source": [
    "def GenerateSolveLinearEquationTask():\n",
    "  a, b, x = generateSLU(3, 3, -5, 21)\n",
    "  first_equation = f\"{a[0][0]}*x + {a[0][1]}*y + {a[0][2]}*z = {b[0].item()}\"\n",
    "  second_equation = f\"{a[1][0]}*x + {a[1][1]}*y + {a[1][2]}*z = {b[1].item()}\"\n",
    "  third_equation = f\"{a[2][0]}*x + {a[2][1]}*y + {a[2][2]}*z = {b[2].item()}\"\n",
    "  task = \"Решите систему линейных уравнений. Ответ округлите до 3х знаков после запятой\"  \n",
    "  answer = np.around(x,1).tolist()\n",
    "  dic = {\n",
    "  \"task\":task,\n",
    "  \"data\": {\"first_equation\": first_equation, \"second_equation\": second_equation, \"third_equation\" : third_equation},\n",
    "  \"answer\": answer}\n",
    "  return dic\n",
    "\n",
    "print(GenerateSolveLinearEquationTask())"
   ]
  },
  {
   "cell_type": "markdown",
   "metadata": {},
   "source": [
    "Скалярное произведение векторов"
   ]
  },
  {
   "cell_type": "code",
   "execution_count": 20,
   "metadata": {},
   "outputs": [
    {
     "name": "stdout",
     "output_type": "stream",
     "text": [
      "{'task': 'Вычислите скалярное произведение векторов A и B.', 'data': {'A': [-8, -13, -19], 'B': [8, -18, -6]}, 'answer': 284}\n"
     ]
    }
   ],
   "source": [
    "def GenerateScalarVectorMultiplicationTask():\n",
    "  a = np.random.randint(-20, 21, size=(1,3))[0]\n",
    "  b = np.random.randint(-20, 21, size=(1,3))[0]\n",
    "  task = \"Вычислите скалярное произведение векторов A и B.\"\n",
    "  answer = a @ b\n",
    "  dic = {\n",
    "    \"task\": task,\n",
    "    \"data\": {\"A\": a.tolist(), \"B\": b.tolist()},\n",
    "    \"answer\": answer}\n",
    "  return dic\n",
    "\n",
    "print(GenerateScalarVectorMultiplicationTask())"
   ]
  },
  {
   "cell_type": "markdown",
   "metadata": {},
   "source": [
    "Векторное произведение векторов"
   ]
  },
  {
   "cell_type": "code",
   "execution_count": 21,
   "metadata": {},
   "outputs": [
    {
     "name": "stdout",
     "output_type": "stream",
     "text": [
      "{'task': 'Вычислите векторное произведение векторов А и В.', 'data': {'A': [-3, 3, 15], 'B': [8, 0, -19]}, 'answer': [-57, 62, -23]}\n"
     ]
    }
   ],
   "source": [
    "def GenerateVectorVectorMultiplicationTask():\n",
    "  a = np.random.randint(-20, 21, size=(1,3))\n",
    "  b = np.random.randint(-20, 21, size=(1,3))\n",
    "\n",
    "  combined = np.vstack([a, b])\n",
    "  xy = combined[:2, :2]\n",
    "  yz = combined[:2, 1:3]\n",
    "  xz = combined[:2, [0, 2]]\n",
    "  answer = np.array([int(np.linalg.det(yz)), -1 * int(np.linalg.det(xz)), int(np.linalg.det(xy))])\n",
    "  task = \"Вычислите векторное произведение векторов А и В.\"\n",
    "  dic = {\n",
    "    \"task\": task,\n",
    "    \"data\": {\"A\": a.tolist()[0], \"B\": b.tolist()[0]},\n",
    "    \"answer\": answer.tolist()}\n",
    "  return dic\n",
    "\n",
    "print(GenerateVectorVectorMultiplicationTask())\n"
   ]
  },
  {
   "cell_type": "markdown",
   "metadata": {},
   "source": [
    "Длина Вектора"
   ]
  },
  {
   "cell_type": "code",
   "execution_count": 22,
   "metadata": {},
   "outputs": [
    {
     "name": "stdout",
     "output_type": "stream",
     "text": [
      "{'task': 'Вычислите длинну вектора, полученную в результате векторного произведения A и B', 'data': {'A': [-11, 3, -20], 'B': [11, -6, -19]}, 'answer': 465.3}\n"
     ]
    }
   ],
   "source": [
    "\n",
    "def GenerateVectorVectorMultiplicationModuleTask():\n",
    "  temp = GenerateVectorVectorMultiplicationTask()\n",
    "  a = temp[\"data\"][\"A\"]\n",
    "  b = temp[\"data\"][\"B\"]\n",
    "  vector = np.array(temp[\"answer\"])\n",
    "  answer = np.around(sqrt(vector[0]**2 + vector[1]**2 + vector[2]**2 ), 1)\n",
    "  task = \"Вычислите длинну вектора, полученную в результате векторного произведения A и B\"\n",
    "  dic = {\n",
    "    \"task\": task,\n",
    "    \"data\": {\"A\": a, \"B\": b},\n",
    "    \"answer\": answer.tolist()}\n",
    "  return dic\n",
    "\n",
    "\n",
    "print(GenerateVectorVectorMultiplicationModuleTask())"
   ]
  },
  {
   "cell_type": "markdown",
   "metadata": {},
   "source": [
    "Смешанное произведение векторов"
   ]
  },
  {
   "cell_type": "code",
   "execution_count": 23,
   "metadata": {},
   "outputs": [
    {
     "name": "stdout",
     "output_type": "stream",
     "text": [
      "{'task': 'Вычислите смешанное произведение векторов A, B и C', 'data': {'A': [19, 4, 20], 'B': [-20, -16, -8], 'C': [1, 3, 13]}, 'answer': -3368.0}\n"
     ]
    }
   ],
   "source": [
    "def GenerateMixedVectorMultiplicationTask():\n",
    "  a = np.random.randint(-20, 21, size=(1,3))\n",
    "  b = np.random.randint(-20, 21, size=(1,3))\n",
    "  c = np.random.randint(-20, 21, size=(1,3))\n",
    "\n",
    "  combined = np.vstack([a, b, c])\n",
    "  answer = np.around(np.linalg.det(combined))\n",
    "  task = \"Вычислите смешанное произведение векторов A, B и C\"\n",
    "  dic = {\n",
    "    \"task\": task,\n",
    "    \"data\": {\"A\": a.tolist()[0], \"B\": b.tolist()[0], \"C\": c.tolist()[0]},\n",
    "    \"answer\": answer}\n",
    "  return dic\n",
    "\n",
    "print(GenerateMixedVectorMultiplicationTask())\n"
   ]
  },
  {
   "cell_type": "markdown",
   "metadata": {},
   "source": [
    "Коллинеарность векторов"
   ]
  },
  {
   "cell_type": "code",
   "execution_count": 24,
   "metadata": {},
   "outputs": [
    {
     "name": "stdout",
     "output_type": "stream",
     "text": [
      "{'task': 'Являются ли вектор A и вектор B коллинеарными? В ответе указать Да или Нет.', 'data': {'A': [16, 13, -15], 'B': [-9, -4, -13]}, 'ansver': 'Нет'}\n"
     ]
    }
   ],
   "source": [
    "def GenerateIsCollinearVectorsTask():\n",
    "  switch = np.random.randint(0, 2, size=(1,1))[0][0]\n",
    "\n",
    "  if switch == 0:\n",
    "    a = np.random.randint(-20, 21, size=(1,3))[0]\n",
    "    b = np.random.randint(-20, 21, size=(1,3))[0]\n",
    "  else:\n",
    "    fraction = np.random.randint(-3, 5, size=(1,1))[0][0]\n",
    "    a = np.random.randint(-20, 21, size=(1,3))[0]\n",
    "    b = fraction * a\n",
    "\n",
    "  first,second,third = a[0]/b[0],a[1]/b[1],a[2]/b[2]\n",
    "\n",
    "  task = \"Являются ли вектор A и вектор B коллинеарными? В ответе указать Да или Нет.\"\n",
    "  ansver = \"Да\" if np.equal(first,second) and np.equal(first,third) else \"Нет\"\n",
    "\n",
    "  dic = {\n",
    "    \"task\": task,\n",
    "    \"data\": {\"A\": a.tolist(), \"B\": b.tolist()},\n",
    "    \"ansver\": ansver}\n",
    "\n",
    "  return dic\n",
    "\n",
    "print(GenerateIsCollinearVectorsTask())"
   ]
  },
  {
   "cell_type": "markdown",
   "metadata": {},
   "source": [
    "Компланарность векторов"
   ]
  },
  {
   "cell_type": "code",
   "execution_count": 25,
   "metadata": {},
   "outputs": [
    {
     "name": "stdout",
     "output_type": "stream",
     "text": [
      "[[6 6 6]\n",
      " [9 6 5]\n",
      " [6 6 6]]\n"
     ]
    }
   ],
   "source": [
    "def generateSingularMatrix(min_value, max_value, rows_count, columns_count):\n",
    "  a = np.random.randint(min_value, max_value, size=(rows_count, columns_count))\n",
    "  while (np.linalg.det(a) != 0):\n",
    "    a = np.random.randint(min_value, max_value, size=(rows_count, columns_count))\n",
    "  return a\n",
    "\n",
    "print(generateSingularMatrix(1, 10, 3, 3))"
   ]
  },
  {
   "cell_type": "code",
   "execution_count": 26,
   "metadata": {},
   "outputs": [
    {
     "name": "stdout",
     "output_type": "stream",
     "text": [
      "{'task': 'Являются ли векторы A B и C компланарными? В ответе указать Да или Нет.', 'data': {'A': [-9, 2, 15], 'B': [2, -5, 9], 'C': [4, 13, -20]}, 'answer': 'Нет'}\n"
     ]
    }
   ],
   "source": [
    "def GenerateIsComplanarVectorsTask():\n",
    "  switch = np.random.randint(0, 2, size=(1,1))[0][0]\n",
    "\n",
    "  if switch == 0:\n",
    "    data = generateNonsingularMatrix(-20, 21, 3, 3)\n",
    "  else:\n",
    "    data = generateSingularMatrix(-20, 21, 3, 3)\n",
    "  \n",
    "  task = \"Являются ли векторы A B и C компланарными? В ответе указать Да или Нет.\"\n",
    "  answer = \"Да\" if switch != 0 else \"Нет\"\n",
    "\n",
    "  dic = {\n",
    "    \"task\": task,\n",
    "    \"data\": {\"A\": data[0].tolist(), \"B\":data[1].tolist(), \"C\": data[2].tolist()},\n",
    "    \"answer\": answer}\n",
    "  \n",
    "  return dic\n",
    "\n",
    "print(GenerateIsComplanarVectorsTask())\n",
    "    "
   ]
  },
  {
   "cell_type": "markdown",
   "metadata": {},
   "source": [
    "Поиск уравнения прямой"
   ]
  },
  {
   "cell_type": "code",
   "execution_count": 27,
   "metadata": {},
   "outputs": [
    {
     "name": "stdout",
     "output_type": "stream",
     "text": [
      "{'task': 'Составить уравнение прямой, проходящей через две точки:  A(-3,3)  и  B(-2,7)', 'data': {}, 'answer': -4*x + y - 15}\n"
     ]
    }
   ],
   "source": [
    "def GenerateFindLineEquationByPointsTask():\n",
    "    A1,A2 = randint(-9, 9),randint(-9, 9)\n",
    "    B1,B2 = randint(-9, 9),randint(-9, 9)\n",
    "\n",
    "    A, B = sp.Point(A1, A2), sp.Point(B1, B2)\n",
    "    L = sp.Line(A, B)\n",
    "\n",
    "    task = f\"Составить уравнение прямой, проходящей через две точки:  A({A1},{A2})  и  B({B1},{B2})\"\n",
    "    answer = L.equation()\n",
    "\n",
    "    dic = {\n",
    "    \"task\": task,\n",
    "    \"data\": {}, #Нужно ли тут что - то на фронт возвращать? все данные уже в задаче.\n",
    "    \"answer\": answer}\n",
    "    return dic\n",
    "\n",
    "print(GenerateFindLineEquationByPointsTask())"
   ]
  },
  {
   "cell_type": "markdown",
   "metadata": {},
   "source": [
    "Поиск уравнения паралельного вектора, проходящего через точку."
   ]
  },
  {
   "cell_type": "code",
   "execution_count": 28,
   "metadata": {},
   "outputs": [
    {
     "name": "stdout",
     "output_type": "stream",
     "text": [
      "{'task': 'Известно, что прямая  L  проходит через начало координат и точку  B(3,4). Записать уравнение прямой, проходящей через точку  A(7,7)  параллельно прямой  L', 'data': {}, 'answer': -4*x + 3*y + 7}\n"
     ]
    }
   ],
   "source": [
    "def GenerateFindParalelLineEquationTask():\n",
    "    A1,A2 = randint(-9, 9),randint(-9, 9)\n",
    "    A = sp.Point(A1,A2)\n",
    "    B1,B2 = randint(-9, 9),randint(-9, 9)\n",
    "    L1 = sp.Line((0, 0), (B1, B2))\n",
    "\n",
    "    L2 = L1.parallel_line(A)\n",
    "    task = f\"Известно, что прямая  L  проходит через начало координат и точку  B({B1},{B2}). Записать уравнение прямой, проходящей через точку  A({A1},{A2})  параллельно прямой  L\"\n",
    "    answer = L2.equation()\n",
    "\n",
    "    dic = {\n",
    "        \"task\": task,\n",
    "        \"data\": {}, #Нужно ли тут что - то на фронт возвращать? все данные уже в таске.\n",
    "        \"answer\": answer}\n",
    "    \n",
    "    return dic\n",
    "\n",
    "print(GenerateFindParalelLineEquationTask())"
   ]
  },
  {
   "cell_type": "code",
   "execution_count": 29,
   "metadata": {},
   "outputs": [
    {
     "name": "stdout",
     "output_type": "stream",
     "text": [
      "{'task': 'Составить уравнение прямой, проходящей через точку А(8,1), параллельную прямой BC, если B(4,-9), C(-3,6)', 'data': {}, 'answer': -15*x - 7*y + 127}\n"
     ]
    }
   ],
   "source": [
    "def GenerateFindParalelLineEquationByPointsTask():\n",
    "    A1,A2 = randint(-9, 9),randint(-9, 9)\n",
    "    B1,B2 = randint(-9, 9),randint(-9, 9)\n",
    "    C1,C2 = randint(-9, 9),randint(-9, 9)\n",
    "    A = sp.Point(A1,A2)\n",
    "    L1 = sp.Line((B1, B2), (C1, C2))\n",
    "\n",
    "    L2 = L1.parallel_line(A)\n",
    "    task = f\"Составить уравнение прямой, проходящей через точку А({A1},{A2}), параллельную прямой BC, если B({B1},{B2}), C({C1},{C2})\"\n",
    "    answer = L2.equation()\n",
    "\n",
    "    dic = {\n",
    "    \"task\": task,\n",
    "    \"data\": {}, #Нужно ли тут что - то на фронт возвращать? все данные уже в задаче.\n",
    "    \"answer\": answer}\n",
    "\n",
    "    return dic\n",
    "    \n",
    "print(GenerateFindParalelLineEquationByPointsTask())"
   ]
  },
  {
   "cell_type": "markdown",
   "metadata": {},
   "source": [
    "Поиск точки пересечения прямых"
   ]
  },
  {
   "cell_type": "code",
   "execution_count": 30,
   "metadata": {},
   "outputs": [
    {
     "name": "stdout",
     "output_type": "stream",
     "text": [
      "{'task': 'Найти точку пересечения прямых L1 и L2, если известно, что прямая L1 проходит через точки А(9,8) и B(9,-4), а прямая L2 проходит через точки C(-4,-4) и D(9,-9)', 'data': {}, 'answer': [9, -9]}\n"
     ]
    }
   ],
   "source": [
    "def GenerateFindCrossPointOfTwoLinesTask():\n",
    "    A1,A2 = randint(-9, 9),randint(-9, 9)\n",
    "    B1,B2 = randint(-9, 9),randint(-9, 9)\n",
    "    C1,C2 = randint(-9, 9),randint(-9, 9)\n",
    "    D1,D2 = randint(-9, 9),randint(-9, 9)\n",
    "\n",
    "    L1 = sp.Line((A1, A2), (B1, B2))\n",
    "    L2 = sp.Line((C1, C2), (D1, D2))\n",
    "\n",
    "    task = f\"Найти точку пересечения прямых L1 и L2, если известно, что прямая L1 проходит через точки А({A1},{A2}) и B({B1},{B2}), а прямая L2 проходит через точки C({C1},{C2}) и D({D1},{D2})\"\n",
    "    answer = list(L1.intersection(L2)[0].coordinates)\n",
    "\n",
    "    dic = {\n",
    "    \"task\": task,\n",
    "    \"data\": {}, #Нужно ли тут что - то на фронт возвращать? все данные уже в задаче.\n",
    "    \"answer\": answer}\n",
    "    return dic\n",
    "\n",
    "\n",
    "print(GenerateFindCrossPointOfTwoLinesTask())"
   ]
  },
  {
   "cell_type": "markdown",
   "metadata": {},
   "source": [
    "Поиск расстояния от точки до прямой"
   ]
  },
  {
   "cell_type": "code",
   "execution_count": 31,
   "metadata": {},
   "outputs": [
    {
     "name": "stdout",
     "output_type": "stream",
     "text": [
      "{'task': 'Известно, что прямая L проходит через точки A(0,-6) и B(2,5). Из точки C(5,0) на прямую L опущен перпендикуляр, который касается её в точке D. Определить длину отрезка CD. Пример формы ответа: 3*sqrt(26)/13', 'data': {}, 'answer': 43*sqrt(5)/25}\n"
     ]
    }
   ],
   "source": [
    "def GenerateFindDicstanceFromLineToPointTask():\n",
    "    A1,A2 = randint(-9, 9),randint(-9, 9)\n",
    "    B1,B2 = randint(-9, 9),randint(-9, 9)\n",
    "    C1,C2 = randint(-9, 9),randint(-9, 9)\n",
    "\n",
    "    C = sp.Point(C1, C2)\n",
    "    L1 = sp.Line((A1, A2), (B1, B2))\n",
    "\n",
    "    task = f\"Известно, что прямая L проходит через точки A({A1},{A2}) и B({B1},{B2}). Из точки C({C1},{C2}) на прямую L опущен перпендикуляр, который касается её в точке D. Определить длину отрезка CD. Пример формы ответа: 3*sqrt(26)/13\"\n",
    "    answer = L1.perpendicular_segment(C).length\n",
    "\n",
    "    dic = {\n",
    "    \"task\": task,\n",
    "    \"data\": {}, #Нужно ли тут что - то на фронт возвращать? все данные уже в задаче.\n",
    "    \"answer\": answer}\n",
    "    return dic\n",
    "\n",
    "print(GenerateFindDicstanceFromLineToPointTask())"
   ]
  },
  {
   "cell_type": "markdown",
   "metadata": {},
   "source": [
    "Уравнение плоскости по трем точкам"
   ]
  },
  {
   "cell_type": "code",
   "execution_count": 32,
   "metadata": {},
   "outputs": [
    {
     "name": "stdout",
     "output_type": "stream",
     "text": [
      "{'task': 'Записать уравнение плоскости, проходящей через точки A(0,5,0), B(8,-8,8), C(9,-8,-9). Пример формы записи ответа: 38*x - 136*y - 126*z - 574', 'data': {}, 'answer': 221*x + 144*y + 13*z - 720}\n"
     ]
    }
   ],
   "source": [
    "def GenerateFindPlaneEquationByThreePointsTask():\n",
    "    A1,A2,A3 = randint(-9, 9),randint(-9, 9),randint(-9, 9)\n",
    "    B1,B2,B3 = randint(-9, 9),randint(-9, 9),randint(-9, 9)\n",
    "    C1,C2,C3 = randint(-9, 9),randint(-9, 9),randint(-9, 9)\n",
    "\n",
    "    alpha = sp.Plane(sp.Point3D(A1, A2, A3), sp.Point3D(B1, B2, B3), sp.Point3D(C1, C2, C3))\n",
    "\n",
    "    task = f\"Записать уравнение плоскости, проходящей через точки A({A1},{A2},{A3}), B({B1},{B2},{B3}), C({C1},{C2},{C3}). Пример формы записи ответа: 38*x - 136*y - 126*z - 574\"\n",
    "    answer = alpha.equation()\n",
    "\n",
    "    dic = {\n",
    "    \"task\": task,\n",
    "    \"data\": {}, #Нужно ли тут что - то на фронт возвращать? все данные уже в задаче.\n",
    "    \"answer\": answer}\n",
    "    return dic\n",
    "\n",
    "print(GenerateFindPlaneEquationByThreePointsTask())"
   ]
  },
  {
   "cell_type": "markdown",
   "metadata": {},
   "source": [
    "Уравнение прямой по нормальному вектору и точке"
   ]
  },
  {
   "cell_type": "code",
   "execution_count": 33,
   "metadata": {},
   "outputs": [
    {
     "name": "stdout",
     "output_type": "stream",
     "text": [
      "{'task': 'Записать уравнение плоскости a, которая проходит через точку M(-7,1,7) и перпендикулярна вектору n =(3,0,2). Пример записи ответа: -3*x - 8*y - 8*z + 85', 'data': {}, 'answer': 3*x + 2*z + 7}\n"
     ]
    }
   ],
   "source": [
    "def GenerateFindPlaneEquationByPointAndNormalVector():\n",
    "    A1,A2,A3 = randint(-9, 9),randint(-9, 9),randint(-9, 9)\n",
    "    B1,B2,B3 = randint(-9, 9),randint(-9, 9),randint(-9, 9)\n",
    "\n",
    "    alpha = sp.Plane(sp.Point3D(A1, A2, A3), normal_vector =(B1, B2, B3))\n",
    "\n",
    "    task = f\"Записать уравнение плоскости a, которая проходит через точку M({A1},{A2},{A3}) и перпендикулярна вектору n =({B1},{B2},{B3}). Пример записи ответа: -3*x - 8*y - 8*z + 85\"\n",
    "    answer = alpha.equation()\n",
    "\n",
    "    dic = {\n",
    "    \"task\": task,\n",
    "    \"data\": {}, #Нужно ли тут что - то на фронт возвращать? все данные уже в задаче.\n",
    "    \"answer\": answer}\n",
    "    return dic\n",
    "\n",
    "print(GenerateFindPlaneEquationByPointAndNormalVector())"
   ]
  },
  {
   "cell_type": "markdown",
   "metadata": {},
   "source": [
    "Уравнение параллельной плоскости"
   ]
  },
  {
   "cell_type": "code",
   "execution_count": 34,
   "metadata": {},
   "outputs": [
    {
     "name": "stdout",
     "output_type": "stream",
     "text": [
      "{'task': 'Плоскость α проходит через точку M(7,8,-3) и перепендикулярна вектору n =(7,-1,-1). Найти уравнение плоскости β, параллельной α и проходящей через точку P(3,-4,5)', 'data': {}, 'answer': 7*x - y - z - 20}\n"
     ]
    }
   ],
   "source": [
    "def GenerateFindParallelPlaneEquationTask():\n",
    "  A1,A2,A3 = randint(-9, 9),randint(-9, 9),randint(-9, 9)\n",
    "  B1,B2,B3 = randint(-9, 9),randint(-9, 9),randint(-9, 9)\n",
    "  P1,P2,P3 = randint(-9, 9),randint(-9, 9),randint(-9, 9)\n",
    "\n",
    "  task = f\"Плоскость α проходит через точку M({A1},{A2},{A3}) и перепендикулярна вектору n =({B1},{B2},{B3}). Найти уравнение плоскости β, параллельной α и проходящей через точку P({P1},{P2},{P3})\"\n",
    "  \n",
    "  alpha = sp.Plane(sp.Point3D(A1, A2, A3), normal_vector =(B1, B2, B3))\n",
    "\n",
    "  parallelPlane = alpha.parallel_plane(sp.Point3D(P1,P2,P3))\n",
    "  answer = parallelPlane.equation()\n",
    "\n",
    "  dic = {\n",
    "    \"task\": task,\n",
    "    \"data\": {}, #Нужно ли тут что - то на фронт возвращать? все данные уже в задаче.\n",
    "    \"answer\": answer}\n",
    "  \n",
    "  return dic\n",
    "\n",
    "print(GenerateFindParallelPlaneEquationTask())"
   ]
  },
  {
   "cell_type": "markdown",
   "metadata": {},
   "source": [
    "Уравнение перпендикулярной плоскости"
   ]
  },
  {
   "cell_type": "code",
   "execution_count": 35,
   "metadata": {},
   "outputs": [
    {
     "name": "stdout",
     "output_type": "stream",
     "text": [
      "{'task': 'Плоскость α имеет нормальный вектор n =(0,-2,5) и проходит через точку P(8,8,-2). Найти уравнение плоскости, перпендикулярной α и проходящей через точки A(5,4,-4) и B(-1,8,4))', 'data': {}, 'answer': 36*x + 30*y + 12*z - 252}\n"
     ]
    }
   ],
   "source": [
    "def GenerateFindOrtPlaneEquationTask():\n",
    "    A1,A2,A3 = randint(-9, 9),randint(-9, 9),randint(-9, 9)\n",
    "    B1,B2,B3 = randint(-9, 9),randint(-9, 9),randint(-9, 9)\n",
    "    P1,P2,P3 = randint(-9, 9),randint(-9, 9),randint(-9, 9)\n",
    "    N1,N2,N3 = randint(-9, 9),randint(-9, 9),randint(-9, 9)\n",
    "\n",
    "    task = f\"Плоскость α имеет нормальный вектор n =({N1},{N2},{N3}) и проходит через точку P({P1},{P2},{P3}). Найти уравнение плоскости, перпендикулярной α и проходящей через точки A({A1},{A2},{A3}) и B({B1},{B2},{B3}))\"\n",
    "\n",
    "    alpha = sp.Plane(sp.Point3D(P1, P2, P3), normal_vector =(N1, N2, N3))\n",
    "    A,B = sp.Point3D(A1,A2,A3), sp.Point3D(B1,B2,B3)\n",
    "\n",
    "    ortPlane = alpha.perpendicular_plane(A,B)\n",
    "    answer = ortPlane.equation()\n",
    "\n",
    "    dic = {\n",
    "    \"task\": task,\n",
    "    \"data\": {}, #Нужно ли тут что - то на фронт возвращать? все данные уже в задаче.\n",
    "    \"answer\": answer}\n",
    "    return dic\n",
    "\n",
    "print(GenerateFindOrtPlaneEquationTask())"
   ]
  },
  {
   "cell_type": "markdown",
   "metadata": {},
   "source": [
    "Проекция точки на прямую"
   ]
  },
  {
   "cell_type": "code",
   "execution_count": 36,
   "metadata": {},
   "outputs": [
    {
     "name": "stdout",
     "output_type": "stream",
     "text": [
      "{'task': 'Известно, что прямая L проходит через точку N(0,1,9) и точку M(2,-9,-5). Найти координаты проекции точки A(-6,7,6) на прямую L', 'data': {}, 'answer': (-1/5, 2, 52/5)}\n"
     ]
    }
   ],
   "source": [
    "def GeneratePointProjectionOnLineTask():\n",
    "    A1,A2,A3 = randint(-9, 9),randint(-9, 9),randint(-9, 9)\n",
    "    N1,N2,N3 = randint(-9, 9),randint(-9, 9),randint(-9, 9)\n",
    "    M1,M2,M3 = randint(-9, 9),randint(-9, 9),randint(-9, 9)\n",
    "\n",
    "    task = f\"Известно, что прямая L проходит через точку N({N1},{N2},{N3}) и точку M({M1},{M2},{M3}). Найти координаты проекции точки A({A1},{A2},{A3}) на прямую L\"\n",
    "\n",
    "    A = sp.Point(A1,A2,A3)\n",
    "    line = sp.Line((N1,N2,N3),(M1,M2,M3))\n",
    "    answer = line.projection(A).coordinates\n",
    "\n",
    "    dic = {\n",
    "    \"task\": task,\n",
    "    \"data\": {}, \n",
    "    \"answer\": answer}\n",
    "    return dic\n",
    "\n",
    "print(GeneratePointProjectionOnLineTask())"
   ]
  },
  {
   "cell_type": "markdown",
   "metadata": {},
   "source": [
    "Проекция точки на плоскость"
   ]
  },
  {
   "cell_type": "code",
   "execution_count": 37,
   "metadata": {},
   "outputs": [
    {
     "name": "stdout",
     "output_type": "stream",
     "text": [
      "{'task': 'Известно, что плоскость α проходит через точку P(2,3,8)  и перпендикулярна вектору n =(-7,-6,-7). Найти координаты проекции точки A(-2,2,8) на плоскость α', 'data': {}, 'answer': (-15/67, 236/67, 655/67)}\n"
     ]
    }
   ],
   "source": [
    "def GeneratePointProjectionOnPlainTask():\n",
    "    A1,A2,A3 = randint(-9, 9),randint(-9, 9),randint(-9, 9)\n",
    "    N1,N2,N3 = randint(-9, 9),randint(-9, 9),randint(-9, 9)\n",
    "    P1,P2,P3 = randint(-9, 9),randint(-9, 9),randint(-9, 9)\n",
    "\n",
    "    task = f\"Известно, что плоскость α проходит через точку P({P1},{P2},{P3})  и перпендикулярна вектору n =({N1},{N2},{N3}). Найти координаты проекции точки A({A1},{A2},{A3}) на плоскость α\"\n",
    "    \n",
    "    A = sp.Point(A1, A2, A3)\n",
    "\n",
    "    alpha = sp.Plane(sp.Point3D(P1, P2, P3), normal_vector =(N1, N2, N3))\n",
    "    answer = alpha.projection(A).coordinates\n",
    "    \n",
    "    dic = {\n",
    "    \"task\": task,\n",
    "    \"data\": {}, \n",
    "    \"answer\": answer}\n",
    "    return dic\n",
    "\n",
    "print(GeneratePointProjectionOnPlainTask())"
   ]
  }
 ],
 "metadata": {
  "kernelspec": {
   "display_name": "Python 3",
   "language": "python",
   "name": "python3"
  },
  "language_info": {
   "codemirror_mode": {
    "name": "ipython",
    "version": 3
   },
   "file_extension": ".py",
   "mimetype": "text/x-python",
   "name": "python",
   "nbconvert_exporter": "python",
   "pygments_lexer": "ipython3",
   "version": "3.10.7"
  }
 },
 "nbformat": 4,
 "nbformat_minor": 2
}
